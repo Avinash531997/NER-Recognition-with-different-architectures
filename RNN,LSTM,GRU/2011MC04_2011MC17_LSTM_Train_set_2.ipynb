{
 "cells": [
  {
   "cell_type": "markdown",
   "metadata": {},
   "source": [
    "### Importing libraries"
   ]
  },
  {
   "cell_type": "code",
   "execution_count": 1,
   "metadata": {},
   "outputs": [
    {
     "name": "stderr",
     "output_type": "stream",
     "text": [
      "\n",
      "Bad key \"text.kerning_factor\" on line 4 in\n",
      "C:\\Users\\VISHAL SINGH\\Anaconda3\\lib\\site-packages\\matplotlib\\mpl-data\\stylelib\\_classic_test_patch.mplstyle.\n",
      "You probably need to get an updated matplotlibrc file from\n",
      "https://github.com/matplotlib/matplotlib/blob/v3.1.3/matplotlibrc.template\n",
      "or from the matplotlib source distribution\n"
     ]
    }
   ],
   "source": [
    "import numpy as np\n",
    "import pandas as pd\n",
    "import matplotlib.pyplot as plt\n",
    "import random\n",
    "\n",
    "from sklearn.metrics import confusion_matrix,classification_report\n",
    "from sklearn.model_selection import train_test_split\n",
    "\n",
    "from tensorflow.keras.preprocessing.text import Tokenizer\n",
    "\n",
    "plt.style.use(\"ggplot\")\n",
    "\n",
    "np.random.seed(0)"
   ]
  },
  {
   "cell_type": "markdown",
   "metadata": {},
   "source": [
    "### Loading and Exploring the NER Dataset"
   ]
  },
  {
   "cell_type": "code",
   "execution_count": 2,
   "metadata": {},
   "outputs": [],
   "source": [
    "sentences_words=[]\n",
    "sentences_tags=[]\n",
    "file = open('NER-Dataset-10Types-Train.txt', 'r')\n",
    "lines = file.readlines()\n",
    "temp_sentence_words=[]\n",
    "temp_sentence_tags=[]\n",
    "for line in lines:\n",
    "    if line==\"\\n\":#Sentences ends at every blank line\n",
    "        if len(temp_sentence_words)==0:#If zero length sentence is formed, then ignore\n",
    "            continue\n",
    "        sentences_words.append(temp_sentence_words)\n",
    "        temp_sentence_words=[]\n",
    "        sentences_tags.append(temp_sentence_tags)\n",
    "        temp_sentence_tags=[]\n",
    "        continue\n",
    "    temp=line.split(\"\\t\")#splitting to get the tag and the word\n",
    "    temp[1]=temp[1].split(\"\\n\")[0]\n",
    "\n",
    "    temp_sentence_words.append(temp[0])\n",
    "    temp_sentence_tags.append(temp[1])\n",
    "file.close()"
   ]
  },
  {
   "cell_type": "code",
   "execution_count": 3,
   "metadata": {},
   "outputs": [
    {
     "data": {
      "text/plain": [
       "['@angelportugues', 'LMAO', '!', 'When', 'is', 'tht', 'one', 'day', '?:', 'P']"
      ]
     },
     "execution_count": 3,
     "metadata": {},
     "output_type": "execute_result"
    }
   ],
   "source": [
    "sentences_words[3]"
   ]
  },
  {
   "cell_type": "code",
   "execution_count": 4,
   "metadata": {},
   "outputs": [
    {
     "data": {
      "text/plain": [
       "['O', 'O', 'O', 'O', 'O', 'O', 'O', 'O', 'O', 'O']"
      ]
     },
     "execution_count": 4,
     "metadata": {},
     "output_type": "execute_result"
    }
   ],
   "source": [
    "sentences_tags[3]"
   ]
  },
  {
   "cell_type": "code",
   "execution_count": 5,
   "metadata": {},
   "outputs": [],
   "source": [
    "X=sentences_words\n",
    "Y=sentences_tags"
   ]
  },
  {
   "cell_type": "code",
   "execution_count": 6,
   "metadata": {},
   "outputs": [
    {
     "data": {
      "text/plain": [
       "(900, 900)"
      ]
     },
     "execution_count": 6,
     "metadata": {},
     "output_type": "execute_result"
    }
   ],
   "source": [
    "len(X),len(Y)"
   ]
  },
  {
   "cell_type": "markdown",
   "metadata": {},
   "source": [
    "### Tokenizing"
   ]
  },
  {
   "cell_type": "code",
   "execution_count": 7,
   "metadata": {},
   "outputs": [
    {
     "data": {
      "text/plain": [
       "[1346, 231, 8, 16, 18, 808, 66, 22, 1347, 809]"
      ]
     },
     "execution_count": 7,
     "metadata": {},
     "output_type": "execute_result"
    }
   ],
   "source": [
    "word_tokenizer = Tokenizer()   #initializing tokenizer\n",
    "word_tokenizer.fit_on_texts(X) \n",
    "X_encoded = word_tokenizer.texts_to_sequences(X) #tokenizing input based on index of every word in vocab set\n",
    "X_encoded[3]"
   ]
  },
  {
   "cell_type": "code",
   "execution_count": 8,
   "metadata": {},
   "outputs": [
    {
     "data": {
      "text/plain": [
       "[1, 1, 1, 1, 1, 1, 1, 1, 1, 1]"
      ]
     },
     "execution_count": 8,
     "metadata": {},
     "output_type": "execute_result"
    }
   ],
   "source": [
    "tags_tokenizer = Tokenizer()\n",
    "tags_tokenizer.fit_on_texts(Y)\n",
    "Y_encoded = tags_tokenizer.texts_to_sequences(Y) # tokenizing each tag based on index in tag vocab.\n",
    "Y_encoded[3]"
   ]
  },
  {
   "cell_type": "code",
   "execution_count": 9,
   "metadata": {},
   "outputs": [
    {
     "data": {
      "text/plain": [
       "21"
      ]
     },
     "execution_count": 9,
     "metadata": {},
     "output_type": "execute_result"
    }
   ],
   "source": [
    "NUM_TAGS=len(tags_tokenizer.word_counts)\n",
    "NUM_TAGS"
   ]
  },
  {
   "cell_type": "code",
   "execution_count": 10,
   "metadata": {},
   "outputs": [
    {
     "data": {
      "text/plain": [
       "4542"
      ]
     },
     "execution_count": 10,
     "metadata": {},
     "output_type": "execute_result"
    }
   ],
   "source": [
    "VOCAB_SIZE=len(word_tokenizer.word_counts)\n",
    "VOCAB_SIZE"
   ]
  },
  {
   "cell_type": "code",
   "execution_count": 11,
   "metadata": {},
   "outputs": [
    {
     "data": {
      "text/plain": [
       "900"
      ]
     },
     "execution_count": 11,
     "metadata": {},
     "output_type": "execute_result"
    }
   ],
   "source": [
    "#Number of Sentences\n",
    "len(X)"
   ]
  },
  {
   "cell_type": "markdown",
   "metadata": {},
   "source": [
    "#### Length of the sentences"
   ]
  },
  {
   "cell_type": "code",
   "execution_count": 12,
   "metadata": {},
   "outputs": [
    {
     "data": {
      "image/png": "[encoded data removed]",
      "text/plain": [
       "<Figure size 432x288 with 1 Axes>"
      ]
     },
     "metadata": {},
     "output_type": "display_data"
    }
   ],
   "source": [
    "plt.hist([len(s) for s in X], bins=100, color=\"blue\")\n",
    "plt.show()\n",
    "MAX_SEQ_LENGTH=max([len(s) for s in X])"
   ]
  },
  {
   "cell_type": "code",
   "execution_count": 13,
   "metadata": {},
   "outputs": [
    {
     "data": {
      "text/plain": [
       "37"
      ]
     },
     "execution_count": 13,
     "metadata": {},
     "output_type": "execute_result"
    }
   ],
   "source": [
    "MAX_SEQ_LENGTH"
   ]
  },
  {
   "cell_type": "markdown",
   "metadata": {},
   "source": [
    "### Padding Input Sentences and Tags"
   ]
  },
  {
   "cell_type": "code",
   "execution_count": 14,
   "metadata": {},
   "outputs": [
    {
     "name": "stderr",
     "output_type": "stream",
     "text": [
      "Using TensorFlow backend.\n"
     ]
    },
    {
     "data": {
      "text/plain": [
       "array([1333,  804,   35,    8,  108,  197,   30,  805,   45,  198,   49,\n",
       "       1334,   87,   63,    4,   30,  287, 1335,  584,  379,   95, 1336,\n",
       "        379, 1337,    8,    0,    0,    0,    0,    0,    0,    0,    0,\n",
       "          0,    0,    0,    0])"
      ]
     },
     "execution_count": 14,
     "metadata": {},
     "output_type": "execute_result"
    }
   ],
   "source": [
    "from tensorflow.keras.preprocessing.sequence import pad_sequences\n",
    "from keras.utils import to_categorical\n",
    "\n",
    "X_padded = pad_sequences(X_encoded, maxlen=MAX_SEQ_LENGTH, padding=\"post\")\n",
    "X_padded[0]"
   ]
  },
  {
   "cell_type": "code",
   "execution_count": 15,
   "metadata": {},
   "outputs": [
    {
     "data": {
      "text/plain": [
       "array([1, 1, 1, 1, 1, 1, 1, 1, 1, 1, 1, 1, 1, 1, 1, 1, 1, 1, 1, 1, 1, 1,\n",
       "       1, 1, 1, 0, 0, 0, 0, 0, 0, 0, 0, 0, 0, 0, 0])"
      ]
     },
     "execution_count": 15,
     "metadata": {},
     "output_type": "execute_result"
    }
   ],
   "source": [
    "Y_padded = pad_sequences(Y_encoded, maxlen=MAX_SEQ_LENGTH, padding=\"post\")\n",
    "Y_padded[0]"
   ]
  },
  {
   "cell_type": "code",
   "execution_count": 16,
   "metadata": {},
   "outputs": [],
   "source": [
    "#Re-Assigning to X and Y for ease of use\n",
    "X, Y = X_padded, Y_padded"
   ]
  },
  {
   "cell_type": "code",
   "execution_count": 17,
   "metadata": {},
   "outputs": [
    {
     "name": "stdout",
     "output_type": "stream",
     "text": [
      "(900, 37, 22)\n"
     ]
    }
   ],
   "source": [
    "Y = to_categorical(Y)\n",
    "print(Y.shape)"
   ]
  },
  {
   "cell_type": "markdown",
   "metadata": {},
   "source": [
    "### Build and Compile a LSTM Model"
   ]
  },
  {
   "cell_type": "code",
   "execution_count": 18,
   "metadata": {},
   "outputs": [],
   "source": [
    "from tensorflow.keras.models import Sequential\n",
    "from tensorflow.keras.layers import Embedding\n",
    "from tensorflow.keras.layers import Dense, Input\n",
    "from tensorflow.keras.layers import TimeDistributed\n",
    "from tensorflow.keras.layers import LSTM,SpatialDropout1D,Dropout\n",
    "from tensorflow.keras.models import Model\n",
    "from tensorflow.keras.metrics import Precision, Recall"
   ]
  },
  {
   "cell_type": "code",
   "execution_count": 19,
   "metadata": {},
   "outputs": [],
   "source": [
    "EMBED_DIM=50\n",
    "NUM_TAGS=Y.shape[2]\n",
    "VOCAB_SIZE+=1"
   ]
  },
  {
   "cell_type": "code",
   "execution_count": 20,
   "metadata": {},
   "outputs": [],
   "source": [
    "def evaluate_model(X_train,Y_train,X_test,Y_test):\n",
    "    VALID_SIZE=0.15 #Validation Split Size\n",
    "    #Train - Validation Set Split\n",
    "    X_train, X_validation, Y_train, Y_validation = train_test_split(X_train, Y_train, test_size=VALID_SIZE, random_state=1)\n",
    "    # total number of tags\n",
    "    \n",
    "    model = Sequential()\n",
    "\n",
    "    # Embedding layer \n",
    "    model.add(Embedding(input_dim     =  VOCAB_SIZE,         \n",
    "                            output_dim    =  EMBED_DIM,          \n",
    "                            input_length  =  MAX_SEQ_LENGTH,              \n",
    "                            trainable     =  True                     # True - update the embeddings while training\n",
    "    ))\n",
    "\n",
    "    \n",
    "    #Adding LSTM Layer \n",
    "    model.add(LSTM(64, \n",
    "                  return_sequences=True  # True to return whole sequence output \n",
    "    ))\n",
    "    \n",
    "    model.add(Dropout(0.2)) # Adding dropout to avoid overfitting\n",
    "    \n",
    "    # Adding TimeDistributed layer - Softmax output based on number of classes or tags\n",
    "    model.add(TimeDistributed(Dense(NUM_TAGS, activation='softmax')))\n",
    "\n",
    "    #Compiling model\n",
    "    model.compile(loss      =  'categorical_crossentropy',\n",
    "                      optimizer =  'adam',\n",
    "                      metrics   =  ['acc', Precision(), Recall()])\n",
    "    \n",
    "    # model summary\n",
    "    model.summary()\n",
    "    #Hyper-parameters for the model\n",
    "    epochs=10\n",
    "    batch_size=128\n",
    "    \n",
    "\n",
    "    #Fitting Model\n",
    "    rnn_training = model.fit(X_train, Y_train, batch_size=batch_size, epochs=epochs, validation_data=(X_validation, Y_validation))\n",
    "    #Model Evaluation\n",
    "    loss, accuracy, precision, recall = model.evaluate(X_train, Y_train, verbose = 1)\n",
    "    print(\"Loss: {0},\\nTrain Accuracy: {1}\".format(loss, accuracy*100))\n",
    "    print(\"Precision: {0},\\nRecall: {1}\".format(precision, recall))\n",
    "    print(\" \"*50)\n",
    "    loss, accuracy, precision, recall = model.evaluate(X_test, Y_test, verbose = 1)\n",
    "    print(\"Loss: {0},\\nTest Accuracy: {1}\".format(loss, accuracy*100))\n",
    "    print(\"Precision: {0},\\nRecall: {1}\".format(precision, recall))\n",
    "    Y_pred=model.predict(X_test)\n",
    "    return model,Y_pred,Y_test,accuracy,precision,recall"
   ]
  },
  {
   "cell_type": "markdown",
   "metadata": {},
   "source": [
    "### 5 - Fold cross Validation"
   ]
  },
  {
   "cell_type": "code",
   "execution_count": 21,
   "metadata": {},
   "outputs": [
    {
     "name": "stdout",
     "output_type": "stream",
     "text": [
      "****************************************************************************************************\n",
      "                        Cross Validation - 1 iteration\n",
      "****************************************************************************************************\n",
      "Model: \"sequential\"\n",
      "_________________________________________________________________\n",
      "Layer (type)                 Output Shape              Param #   \n",
      "=================================================================\n",
      "embedding (Embedding)        (None, 37, 50)            227150    \n",
      "_________________________________________________________________\n",
      "lstm (LSTM)                  (None, 37, 64)            29440     \n",
      "_________________________________________________________________\n",
      "dropout (Dropout)            (None, 37, 64)            0         \n",
      "_________________________________________________________________\n",
      "time_distributed (TimeDistri (None, 37, 22)            1430      \n",
      "=================================================================\n",
      "Total params: 258,020\n",
      "Trainable params: 258,020\n",
      "Non-trainable params: 0\n",
      "_________________________________________________________________\n",
      "Epoch 1/10\n",
      "5/5 [==============================] - 5s 545ms/step - loss: 3.0558 - acc: 0.4948 - precision: 0.0000e+00 - recall: 0.0000e+00 - val_loss: 2.9854 - val_acc: 0.7342 - val_precision: 0.0000e+00 - val_recall: 0.0000e+00\n",
      "Epoch 2/10\n",
      "5/5 [==============================] - 1s 134ms/step - loss: 2.9562 - acc: 0.7279 - precision: 0.0000e+00 - recall: 0.0000e+00 - val_loss: 2.8330 - val_acc: 0.5828 - val_precision: 0.0000e+00 - val_recall: 0.0000e+00\n",
      "Epoch 3/10\n",
      "5/5 [==============================] - 1s 131ms/step - loss: 2.7594 - acc: 0.5837 - precision: 0.0000e+00 - recall: 0.0000e+00 - val_loss: 2.4154 - val_acc: 0.4920 - val_precision: 0.0000e+00 - val_recall: 0.0000e+00\n",
      "Epoch 4/10\n",
      "5/5 [==============================] - 1s 114ms/step - loss: 2.2321 - acc: 0.4959 - precision: 0.9960 - recall: 0.0885 - val_loss: 1.7637 - val_acc: 0.4760 - val_precision: 0.9040 - val_recall: 0.4029\n",
      "Epoch 5/10\n",
      "5/5 [==============================] - 1s 129ms/step - loss: 1.7587 - acc: 0.4802 - precision: 0.8466 - recall: 0.4272 - val_loss: 1.7304 - val_acc: 0.4780 - val_precision: 0.7511 - val_recall: 0.4547\n",
      "Epoch 6/10\n",
      "5/5 [==============================] - 1s 114ms/step - loss: 1.6855 - acc: 0.4875 - precision: 0.7477 - recall: 0.4556 - val_loss: 1.4763 - val_acc: 0.5060 - val_precision: 0.7892 - val_recall: 0.4517\n",
      "Epoch 7/10\n",
      "5/5 [==============================] - 1s 124ms/step - loss: 1.4093 - acc: 0.5683 - precision: 0.8368 - recall: 0.4552 - val_loss: 1.3288 - val_acc: 0.6579 - val_precision: 0.9037 - val_recall: 0.4367\n",
      "Epoch 8/10\n",
      "5/5 [==============================] - 1s 117ms/step - loss: 1.2685 - acc: 0.7591 - precision: 0.9491 - recall: 0.4510 - val_loss: 1.1511 - val_acc: 0.7765 - val_precision: 0.8606 - val_recall: 0.4510\n",
      "Epoch 9/10\n",
      "5/5 [==============================] - 1s 124ms/step - loss: 1.0946 - acc: 0.7820 - precision: 0.8658 - recall: 0.4672 - val_loss: 0.9965 - val_acc: 0.7955 - val_precision: 0.7868 - val_recall: 0.4610\n",
      "Epoch 10/10\n",
      "5/5 [==============================] - 1s 126ms/step - loss: 0.9422 - acc: 0.8147 - precision: 0.8537 - recall: 0.5224 - val_loss: 0.8524 - val_acc: 0.9392 - val_precision: 0.9649 - val_recall: 0.6872\n",
      "20/20 [==============================] - 0s 17ms/step - loss: 0.8130 - acc: 0.9368 - precision: 0.9683 - recall: 0.7025\n",
      "Loss: 0.8129844665527344,\n",
      "Train Accuracy: 93.6804473400116\n",
      "Precision: 0.9682877659797668,\n",
      "Recall: 0.7025260329246521\n",
      "                                                  \n",
      "6/6 [==============================] - 0s 14ms/step - loss: 0.8563 - acc: 0.9342 - precision: 0.9634 - recall: 0.6847\n",
      "Loss: 0.8563055992126465,\n",
      "Test Accuracy: 93.42342615127563\n",
      "Precision: 0.9634481072425842,\n",
      "Recall: 0.684684693813324\n",
      "****************************************************************************************************\n",
      "                        Cross Validation - 2 iteration\n",
      "****************************************************************************************************\n",
      "Model: \"sequential_1\"\n",
      "_________________________________________________________________\n",
      "Layer (type)                 Output Shape              Param #   \n",
      "=================================================================\n",
      "embedding_1 (Embedding)      (None, 37, 50)            227150    \n",
      "_________________________________________________________________\n",
      "lstm_1 (LSTM)                (None, 37, 64)            29440     \n",
      "_________________________________________________________________\n",
      "dropout_1 (Dropout)          (None, 37, 64)            0         \n",
      "_________________________________________________________________\n",
      "time_distributed_1 (TimeDist (None, 37, 22)            1430      \n",
      "=================================================================\n",
      "Total params: 258,020\n",
      "Trainable params: 258,020\n",
      "Non-trainable params: 0\n",
      "_________________________________________________________________\n",
      "Epoch 1/10\n",
      "5/5 [==============================] - 7s 408ms/step - loss: 3.0667 - acc: 0.2859 - precision_1: 0.0000e+00 - recall_1: 0.0000e+00 - val_loss: 2.9912 - val_acc: 0.6692 - val_precision_1: 0.0000e+00 - val_recall_1: 0.0000e+00\n",
      "Epoch 2/10\n",
      "5/5 [==============================] - 0s 90ms/step - loss: 2.9608 - acc: 0.6427 - precision_1: 0.0000e+00 - recall_1: 0.0000e+00 - val_loss: 2.8302 - val_acc: 0.5210 - val_precision_1: 0.0000e+00 - val_recall_1: 0.0000e+00\n",
      "Epoch 3/10\n",
      "5/5 [==============================] - 1s 120ms/step - loss: 2.7548 - acc: 0.5360 - precision_1: 0.0000e+00 - recall_1: 0.0000e+00 - val_loss: 2.4006 - val_acc: 0.4872 - val_precision_1: 0.0000e+00 - val_recall_1: 0.0000e+00\n",
      "Epoch 4/10\n",
      "5/5 [==============================] - 1s 110ms/step - loss: 2.2078 - acc: 0.4956 - precision_1: 0.8278 - recall_1: 0.0522 - val_loss: 1.6779 - val_acc: 0.4722 - val_precision_1: 0.8920 - val_recall_1: 0.3844\n",
      "Epoch 5/10\n",
      "5/5 [==============================] - 0s 89ms/step - loss: 1.6101 - acc: 0.4866 - precision_1: 0.8331 - recall_1: 0.4184 - val_loss: 1.5226 - val_acc: 0.4717 - val_precision_1: 0.6968 - val_recall_1: 0.4510\n",
      "Epoch 6/10\n",
      "5/5 [==============================] - 0s 94ms/step - loss: 1.4861 - acc: 0.4784 - precision_1: 0.6867 - recall_1: 0.4562 - val_loss: 1.3113 - val_acc: 0.4882 - val_precision_1: 0.6679 - val_recall_1: 0.4575\n",
      "Epoch 7/10\n",
      "5/5 [==============================] - 0s 84ms/step - loss: 1.2775 - acc: 0.5142 - precision_1: 0.6665 - recall_1: 0.4517 - val_loss: 1.1418 - val_acc: 0.6534 - val_precision_1: 0.7145 - val_recall_1: 0.4540\n",
      "Epoch 8/10\n",
      "5/5 [==============================] - 0s 87ms/step - loss: 1.1438 - acc: 0.6929 - precision_1: 0.7459 - recall_1: 0.4271 - val_loss: 1.0641 - val_acc: 0.9032 - val_precision_1: 0.9881 - val_recall_1: 0.5606\n",
      "Epoch 9/10\n",
      "5/5 [==============================] - 0s 79ms/step - loss: 1.0304 - acc: 0.7910 - precision_1: 0.7979 - recall_1: 0.5156 - val_loss: 0.9505 - val_acc: 0.8111 - val_precision_1: 0.7943 - val_recall_1: 0.5758\n",
      "Epoch 10/10\n",
      "5/5 [==============================] - 0s 84ms/step - loss: 0.9253 - acc: 0.8074 - precision_1: 0.8018 - recall_1: 0.5933 - val_loss: 0.8502 - val_acc: 0.8714 - val_precision_1: 0.8712 - val_recall_1: 0.6754\n",
      "20/20 [==============================] - 0s 10ms/step - loss: 0.8196 - acc: 0.8829 - precision_1: 0.8880 - recall_1: 0.6944\n",
      "Loss: 0.8196480870246887,\n",
      "Train Accuracy: 88.28828930854797\n",
      "Precision: 0.8880167007446289,\n",
      "Recall: 0.6944444179534912\n",
      "                                                  \n",
      "6/6 [==============================] - 0s 14ms/step - loss: 0.8113 - acc: 0.8899 - precision_1: 0.8947 - recall_1: 0.6914\n",
      "Loss: 0.8113362789154053,\n",
      "Test Accuracy: 88.99399638175964\n",
      "Precision: 0.8946959376335144,\n",
      "Recall: 0.6914414167404175\n",
      "****************************************************************************************************\n",
      "                        Cross Validation - 3 iteration\n",
      "****************************************************************************************************\n",
      "Model: \"sequential_2\"\n",
      "_________________________________________________________________\n",
      "Layer (type)                 Output Shape              Param #   \n",
      "=================================================================\n",
      "embedding_2 (Embedding)      (None, 37, 50)            227150    \n",
      "_________________________________________________________________\n",
      "lstm_2 (LSTM)                (None, 37, 64)            29440     \n",
      "_________________________________________________________________\n",
      "dropout_2 (Dropout)          (None, 37, 64)            0         \n",
      "_________________________________________________________________\n",
      "time_distributed_2 (TimeDist (None, 37, 22)            1430      \n",
      "=================================================================\n",
      "Total params: 258,020\n",
      "Trainable params: 258,020\n",
      "Non-trainable params: 0\n",
      "_________________________________________________________________\n",
      "Epoch 1/10\n"
     ]
    },
    {
     "name": "stdout",
     "output_type": "stream",
     "text": [
      "5/5 [==============================] - 9s 563ms/step - loss: 3.0707 - acc: 0.3135 - precision_2: 0.0000e+00 - recall_2: 0.0000e+00 - val_loss: 2.9993 - val_acc: 0.7100 - val_precision_2: 0.0000e+00 - val_recall_2: 0.0000e+00\n",
      "Epoch 2/10\n",
      "5/5 [==============================] - 1s 122ms/step - loss: 2.9756 - acc: 0.6924 - precision_2: 0.0000e+00 - recall_2: 0.0000e+00 - val_loss: 2.8653 - val_acc: 0.5991 - val_precision_2: 0.0000e+00 - val_recall_2: 0.0000e+00\n",
      "Epoch 3/10\n",
      "5/5 [==============================] - 1s 106ms/step - loss: 2.8193 - acc: 0.5670 - precision_2: 0.0000e+00 - recall_2: 0.0000e+00 - val_loss: 2.5508 - val_acc: 0.5185 - val_precision_2: 0.0000e+00 - val_recall_2: 0.0000e+00\n",
      "Epoch 4/10\n",
      "5/5 [==============================] - 1s 119ms/step - loss: 2.4158 - acc: 0.5012 - precision_2: 0.5000 - recall_2: 0.0138 - val_loss: 1.7627 - val_acc: 0.5018 - val_precision_2: 1.0000 - val_recall_2: 0.3106\n",
      "Epoch 5/10\n",
      "5/5 [==============================] - 1s 109ms/step - loss: 1.6775 - acc: 0.4873 - precision_2: 0.9086 - recall_2: 0.3686 - val_loss: 1.4739 - val_acc: 0.5003 - val_precision_2: 0.7578 - val_recall_2: 0.4777\n",
      "Epoch 6/10\n",
      "5/5 [==============================] - 1s 117ms/step - loss: 1.5031 - acc: 0.4858 - precision_2: 0.7118 - recall_2: 0.4663 - val_loss: 1.3123 - val_acc: 0.5073 - val_precision_2: 0.7059 - val_recall_2: 0.4865\n",
      "Epoch 7/10\n",
      "5/5 [==============================] - 1s 112ms/step - loss: 1.3267 - acc: 0.4959 - precision_2: 0.6713 - recall_2: 0.4616 - val_loss: 1.1008 - val_acc: 0.5788 - val_precision_2: 0.7325 - val_recall_2: 0.4865\n",
      "Epoch 8/10\n",
      "5/5 [==============================] - 1s 107ms/step - loss: 1.1123 - acc: 0.6529 - precision_2: 0.7320 - recall_2: 0.4650 - val_loss: 1.0393 - val_acc: 0.9432 - val_precision_2: 0.9740 - val_recall_2: 0.6274\n",
      "Epoch 9/10\n",
      "5/5 [==============================] - 0s 104ms/step - loss: 1.0281 - acc: 0.8137 - precision_2: 0.8163 - recall_2: 0.5302 - val_loss: 0.9347 - val_acc: 0.9369 - val_precision_2: 0.9591 - val_recall_2: 0.6987\n",
      "Epoch 10/10\n",
      "5/5 [==============================] - 1s 119ms/step - loss: 0.9174 - acc: 0.8482 - precision_2: 0.8511 - recall_2: 0.6295 - val_loss: 0.8219 - val_acc: 0.8784 - val_precision_2: 0.8803 - val_recall_2: 0.6807\n",
      "20/20 [==============================] - 0s 12ms/step - loss: 0.8103 - acc: 0.8703 - precision_2: 0.8689 - recall_2: 0.6835\n",
      "Loss: 0.8102557063102722,\n",
      "Train Accuracy: 87.03409433364868\n",
      "Precision: 0.8689085841178894,\n",
      "Recall: 0.6834923028945923\n",
      "                                                  \n",
      "6/6 [==============================] - 0s 18ms/step - loss: 0.8668 - acc: 0.8492 - precision_2: 0.8402 - recall_2: 0.6530\n",
      "Loss: 0.8668057918548584,\n",
      "Test Accuracy: 84.92492437362671\n",
      "Precision: 0.8402240872383118,\n",
      "Recall: 0.6530029773712158\n",
      "****************************************************************************************************\n",
      "                        Cross Validation - 4 iteration\n",
      "****************************************************************************************************\n",
      "Model: \"sequential_3\"\n",
      "_________________________________________________________________\n",
      "Layer (type)                 Output Shape              Param #   \n",
      "=================================================================\n",
      "embedding_3 (Embedding)      (None, 37, 50)            227150    \n",
      "_________________________________________________________________\n",
      "lstm_3 (LSTM)                (None, 37, 64)            29440     \n",
      "_________________________________________________________________\n",
      "dropout_3 (Dropout)          (None, 37, 64)            0         \n",
      "_________________________________________________________________\n",
      "time_distributed_3 (TimeDist (None, 37, 22)            1430      \n",
      "=================================================================\n",
      "Total params: 258,020\n",
      "Trainable params: 258,020\n",
      "Non-trainable params: 0\n",
      "_________________________________________________________________\n",
      "Epoch 1/10\n",
      "5/5 [==============================] - 8s 473ms/step - loss: 3.0857 - acc: 0.2193 - precision_3: 0.0000e+00 - recall_3: 0.0000e+00 - val_loss: 3.0139 - val_acc: 0.8303 - val_precision_3: 0.0000e+00 - val_recall_3: 0.0000e+00\n",
      "Epoch 2/10\n",
      "5/5 [==============================] - 1s 107ms/step - loss: 2.9877 - acc: 0.8632 - precision_3: 0.0000e+00 - recall_3: 0.0000e+00 - val_loss: 2.8836 - val_acc: 0.8966 - val_precision_3: 0.0000e+00 - val_recall_3: 0.0000e+00\n",
      "Epoch 3/10\n",
      "5/5 [==============================] - 1s 117ms/step - loss: 2.8296 - acc: 0.8832 - precision_3: 0.0000e+00 - recall_3: 0.0000e+00 - val_loss: 2.5898 - val_acc: 0.7390 - val_precision_3: 0.0000e+00 - val_recall_3: 0.0000e+00\n",
      "Epoch 4/10\n",
      "5/5 [==============================] - 1s 108ms/step - loss: 2.4361 - acc: 0.7392 - precision_3: 0.3333 - recall_3: 0.0025 - val_loss: 1.7792 - val_acc: 0.6004 - val_precision_3: 1.0000 - val_recall_3: 0.2132\n",
      "Epoch 5/10\n",
      "5/5 [==============================] - 1s 117ms/step - loss: 1.6180 - acc: 0.5927 - precision_3: 0.9271 - recall_3: 0.3021 - val_loss: 1.3305 - val_acc: 0.5571 - val_precision_3: 0.7417 - val_recall_3: 0.4592\n",
      "Epoch 6/10\n",
      "5/5 [==============================] - 1s 116ms/step - loss: 1.2810 - acc: 0.5767 - precision_3: 0.7112 - recall_3: 0.4587 - val_loss: 1.1563 - val_acc: 0.6401 - val_precision_3: 0.6894 - val_recall_3: 0.4732\n",
      "Epoch 7/10\n",
      "5/5 [==============================] - 1s 116ms/step - loss: 1.0920 - acc: 0.6950 - precision_3: 0.7083 - recall_3: 0.4786 - val_loss: 1.0579 - val_acc: 0.9154 - val_precision_3: 0.9485 - val_recall_3: 0.6732\n",
      "Epoch 8/10\n",
      "5/5 [==============================] - 1s 104ms/step - loss: 0.9902 - acc: 0.7902 - precision_3: 0.7669 - recall_3: 0.5528 - val_loss: 0.9567 - val_acc: 0.8263 - val_precision_3: 0.8228 - val_recall_3: 0.6379\n",
      "Epoch 9/10\n",
      "5/5 [==============================] - 1s 124ms/step - loss: 0.8783 - acc: 0.8192 - precision_3: 0.8015 - recall_3: 0.6343 - val_loss: 0.8711 - val_acc: 0.8829 - val_precision_3: 0.8926 - val_recall_3: 0.7217\n",
      "Epoch 10/10\n",
      "5/5 [==============================] - 1s 111ms/step - loss: 0.7736 - acc: 0.8780 - precision_3: 0.8733 - recall_3: 0.7215 - val_loss: 0.7980 - val_acc: 0.8831 - val_precision_3: 0.8890 - val_recall_3: 0.7375\n",
      "20/20 [==============================] - 0s 14ms/step - loss: 0.6794 - acc: 0.9243 - precision_3: 0.9254 - recall_3: 0.7868\n",
      "Loss: 0.6793972253799438,\n",
      "Train Accuracy: 92.4262523651123\n",
      "Precision: 0.9254103302955627,\n",
      "Recall: 0.7867867946624756\n",
      "                                                  \n",
      "6/6 [==============================] - 0s 13ms/step - loss: 0.7301 - acc: 0.9032 - precision_3: 0.8977 - recall_3: 0.7500\n",
      "Loss: 0.7300987243652344,\n",
      "Test Accuracy: 90.31531810760498\n",
      "Precision: 0.8977354168891907,\n",
      "Recall: 0.75\n",
      "****************************************************************************************************\n",
      "                        Cross Validation - 5 iteration\n",
      "****************************************************************************************************\n",
      "Model: \"sequential_4\"\n",
      "_________________________________________________________________\n",
      "Layer (type)                 Output Shape              Param #   \n",
      "=================================================================\n",
      "embedding_4 (Embedding)      (None, 37, 50)            227150    \n",
      "_________________________________________________________________\n",
      "lstm_4 (LSTM)                (None, 37, 64)            29440     \n",
      "_________________________________________________________________\n",
      "dropout_4 (Dropout)          (None, 37, 64)            0         \n",
      "_________________________________________________________________\n",
      "time_distributed_4 (TimeDist (None, 37, 22)            1430      \n",
      "=================================================================\n",
      "Total params: 258,020\n",
      "Trainable params: 258,020\n",
      "Non-trainable params: 0\n",
      "_________________________________________________________________\n",
      "Epoch 1/10\n",
      "5/5 [==============================] - 7s 562ms/step - loss: 3.0672 - acc: 0.3612 - precision_4: 0.0000e+00 - recall_4: 0.0000e+00 - val_loss: 2.9959 - val_acc: 0.8766 - val_precision_4: 0.0000e+00 - val_recall_4: 0.0000e+00\n",
      "Epoch 2/10\n"
     ]
    },
    {
     "name": "stdout",
     "output_type": "stream",
     "text": [
      "5/5 [==============================] - 1s 124ms/step - loss: 2.9614 - acc: 0.8831 - precision_4: 0.0000e+00 - recall_4: 0.0000e+00 - val_loss: 2.8458 - val_acc: 0.8546 - val_precision_4: 0.0000e+00 - val_recall_4: 0.0000e+00\n",
      "Epoch 3/10\n",
      "5/5 [==============================] - 1s 108ms/step - loss: 2.7648 - acc: 0.8235 - precision_4: 0.0000e+00 - recall_4: 0.0000e+00 - val_loss: 2.4642 - val_acc: 0.6301 - val_precision_4: 0.0000e+00 - val_recall_4: 0.0000e+00\n",
      "Epoch 4/10\n",
      "5/5 [==============================] - 1s 127ms/step - loss: 2.2434 - acc: 0.6609 - precision_4: 0.6667 - recall_4: 0.0152 - val_loss: 1.6506 - val_acc: 0.5453 - val_precision_4: 0.9785 - val_recall_4: 0.3191\n",
      "Epoch 5/10\n",
      "5/5 [==============================] - 1s 115ms/step - loss: 1.5057 - acc: 0.5855 - precision_4: 0.8784 - recall_4: 0.3538 - val_loss: 1.3128 - val_acc: 0.5298 - val_precision_4: 0.6791 - val_recall_4: 0.4337\n",
      "Epoch 6/10\n",
      "5/5 [==============================] - 1s 133ms/step - loss: 1.2381 - acc: 0.5714 - precision_4: 0.6818 - recall_4: 0.4382 - val_loss: 1.1756 - val_acc: 0.5803 - val_precision_4: 0.6156 - val_recall_4: 0.4424\n",
      "Epoch 7/10\n",
      "5/5 [==============================] - 1s 125ms/step - loss: 1.0882 - acc: 0.6410 - precision_4: 0.6578 - recall_4: 0.4647 - val_loss: 1.0667 - val_acc: 0.7252 - val_precision_4: 0.6667 - val_recall_4: 0.4720\n",
      "Epoch 8/10\n",
      "5/5 [==============================] - 1s 115ms/step - loss: 1.0023 - acc: 0.7271 - precision_4: 0.6971 - recall_4: 0.5261 - val_loss: 0.9888 - val_acc: 0.8096 - val_precision_4: 0.7946 - val_recall_4: 0.6281\n",
      "Epoch 9/10\n",
      "5/5 [==============================] - 0s 108ms/step - loss: 0.9123 - acc: 0.7936 - precision_4: 0.7707 - recall_4: 0.6199 - val_loss: 0.9063 - val_acc: 0.8986 - val_precision_4: 0.9034 - val_recall_4: 0.7417\n",
      "Epoch 10/10\n",
      "5/5 [==============================] - 1s 115ms/step - loss: 0.8356 - acc: 0.8467 - precision_4: 0.8389 - recall_4: 0.6988 - val_loss: 0.8326 - val_acc: 0.9042 - val_precision_4: 0.9060 - val_recall_4: 0.7620\n",
      "20/20 [==============================] - 0s 13ms/step - loss: 0.7300 - acc: 0.9323 - precision_4: 0.9354 - recall_4: 0.8006\n",
      "Loss: 0.7299782037734985,\n",
      "Train Accuracy: 93.22558045387268\n",
      "Precision: 0.9354456067085266,\n",
      "Recall: 0.800565242767334\n",
      "                                                  \n",
      "6/6 [==============================] - 0s 9ms/step - loss: 0.7420 - acc: 0.9126 - precision_4: 0.9109 - recall_4: 0.7676\n",
      "Loss: 0.7419712543487549,\n",
      "Test Accuracy: 91.26126170158386\n",
      "Precision: 0.9109051823616028,\n",
      "Recall: 0.7675675749778748\n"
     ]
    }
   ],
   "source": [
    "from sklearn.model_selection import ShuffleSplit\n",
    "#Shuffling and splitting into 5 different sets for cross validation\n",
    "cv = ShuffleSplit(n_splits=5, test_size=.20, random_state=1)\n",
    "cv_scores=[0]*5\n",
    "itr=0\n",
    "prec=[0]*5\n",
    "rec=[0]*5\n",
    "#Initializing\n",
    "best_pred_set=None\n",
    "best_test_set=None\n",
    "best_accuracy=0 \n",
    "best_precision=0\n",
    "best_recall=0\n",
    "#For each split creating and evaluating model\n",
    "for train_idx,test_idx in cv.split(X):\n",
    "    itr+=1\n",
    "    print(\"*\"*100)\n",
    "    print(\"                        Cross Validation - {} iteration\".format(itr))\n",
    "    print(\"*\"*100)\n",
    "    model,Pred_Set,Test_Set,cv_scores[itr-1],prec[itr-1],rec[itr-1]=evaluate_model(X[train_idx],Y[train_idx]\n",
    "                                                            ,X[test_idx],Y[test_idx])\n",
    "    if cv_scores[itr-1]>best_accuracy:\n",
    "        best_accuracy=cv_scores[itr-1]\n",
    "        best_precision=prec[itr-1]\n",
    "        best_recall=rec[itr-1]\n",
    "        best_test_set=Test_Set\n",
    "        best_pred_set=Pred_Set\n",
    "        best_model=model"
   ]
  },
  {
   "cell_type": "markdown",
   "metadata": {},
   "source": [
    "### Analysis of the best model among the 5 folds"
   ]
  },
  {
   "cell_type": "code",
   "execution_count": 22,
   "metadata": {},
   "outputs": [
    {
     "name": "stdout",
     "output_type": "stream",
     "text": [
      "Average Test Accuracy is given as 0.8978378534317016\n"
     ]
    }
   ],
   "source": [
    "print(\"Average Test Accuracy is given as {}\".format(sum(cv_scores)/len(cv_scores)))"
   ]
  },
  {
   "cell_type": "code",
   "execution_count": 23,
   "metadata": {},
   "outputs": [
    {
     "name": "stdout",
     "output_type": "stream",
     "text": [
      "Best Test Accuracy among all the folds is given as 0.9342342615127563\n"
     ]
    }
   ],
   "source": [
    "print(\"Best Test Accuracy among all the folds is given as {}\".format(best_accuracy))"
   ]
  },
  {
   "cell_type": "code",
   "execution_count": 24,
   "metadata": {},
   "outputs": [
    {
     "name": "stdout",
     "output_type": "stream",
     "text": [
      "Average precision : 0.9014017462730408, Average Recall : 0.7093393325805664\n"
     ]
    }
   ],
   "source": [
    "print(\"Average precision : {}, Average Recall : {}\".format(sum(prec)/5,sum(rec)/5))"
   ]
  },
  {
   "cell_type": "code",
   "execution_count": 25,
   "metadata": {},
   "outputs": [],
   "source": [
    "def f_score(p,r):\n",
    "    return 2*(p*r)/(p+r)\n",
    "\n",
    "best_fscore=f_score(best_precision,best_recall)"
   ]
  },
  {
   "cell_type": "code",
   "execution_count": 26,
   "metadata": {},
   "outputs": [
    {
     "name": "stdout",
     "output_type": "stream",
     "text": [
      "Best Model Precision : 0.9634481072425842, Recall : 0.684684693813324 and F-Score : 0.8004915282188335\n"
     ]
    }
   ],
   "source": [
    "print(\"Best Model Precision : {}, Recall : {} and F-Score : {}\".format(best_precision,\n",
    "                                                                       best_recall,best_fscore))"
   ]
  },
  {
   "cell_type": "code",
   "execution_count": 27,
   "metadata": {},
   "outputs": [
    {
     "name": "stdout",
     "output_type": "stream",
     "text": [
      "The Accuracies for the 5 folds are given as :\n",
      "0.9342342615127563 0.8899399638175964 0.8492492437362671 0.9031531810760498 0.9126126170158386\n"
     ]
    }
   ],
   "source": [
    "print(\"The Accuracies for the 5 folds are given as :\")\n",
    "print(*cv_scores)"
   ]
  },
  {
   "cell_type": "code",
   "execution_count": 28,
   "metadata": {},
   "outputs": [],
   "source": [
    "reverse_word_map = dict(map(reversed, tags_tokenizer.word_index.items()))"
   ]
  },
  {
   "cell_type": "markdown",
   "metadata": {},
   "source": [
    "### Decoding the predicted tags in the best_pred_set"
   ]
  },
  {
   "cell_type": "code",
   "execution_count": 29,
   "metadata": {},
   "outputs": [],
   "source": [
    "def decode_pred(Y):\n",
    "    #Defining an empty matrix of zeros of shape of best_pred_set\n",
    "    out = np.zeros(Y.shape)\n",
    "    #Finding the tag index for each sequence which has the highest probablity value \n",
    "    idx = Y.argmax(axis=-1)\n",
    "    #Setting that value to 1 and rest to 0\n",
    "    out[np.arange(Y.shape[0])[:,None],np.arange(Y.shape[1]),idx] = 1\n",
    "    pred=np.argmax(out, axis=-1)\n",
    "    return pred\n",
    "    "
   ]
  },
  {
   "cell_type": "code",
   "execution_count": 30,
   "metadata": {},
   "outputs": [
    {
     "data": {
      "text/plain": [
       "array([1, 1, 1, 1, 1, 1, 1, 1, 1, 1, 1, 1, 1, 1, 1, 1, 1, 1, 1, 1, 1, 1,\n",
       "       1, 1, 1, 1, 1, 1, 1, 1, 1, 1, 1, 1, 1, 0, 0], dtype=int64)"
      ]
     },
     "execution_count": 30,
     "metadata": {},
     "output_type": "execute_result"
    }
   ],
   "source": [
    "#Finding the index having the max value among the 21 tag values for a certain sequence\n",
    "best_pred=decode_pred(best_pred_set)\n",
    "best_test=np.argmax(best_test_set,axis=2)\n",
    "#Actual Tags(Encoded) for the 2nd sequence in Test Set\n",
    "best_test[2]"
   ]
  },
  {
   "cell_type": "code",
   "execution_count": 31,
   "metadata": {},
   "outputs": [
    {
     "data": {
      "text/plain": [
       "array([1, 1, 1, 1, 1, 1, 1, 1, 1, 1, 1, 1, 1, 1, 1, 1, 1, 1, 1, 1, 1, 1,\n",
       "       1, 1, 1, 1, 1, 1, 1, 1, 1, 1, 1, 1, 1, 1, 0], dtype=int64)"
      ]
     },
     "execution_count": 31,
     "metadata": {},
     "output_type": "execute_result"
    }
   ],
   "source": [
    "#Predicted Tags(Encoded) for the 2nd sequence in Test Set\n",
    "best_pred[2]"
   ]
  },
  {
   "cell_type": "markdown",
   "metadata": {},
   "source": [
    "### Class-wise accuracy for the different tags"
   ]
  },
  {
   "cell_type": "code",
   "execution_count": 32,
   "metadata": {},
   "outputs": [],
   "source": [
    "true_positive=[0]*(NUM_TAGS)\n",
    "actual_count=[0]*(NUM_TAGS)\n",
    "for i in range(best_test.shape[0]):\n",
    "    for j in range(best_test.shape[1]):\n",
    "        if best_test[i][j]==0: #Ignore if its 0 as it is present due to padding\n",
    "            continue\n",
    "        #if both are equal then increment count by 1 for true positive case\n",
    "        if best_test[i][j]==best_pred[i][j]:\n",
    "            true_positive[best_test[i][j]]+=1\n",
    "        actual_count[best_test[i][j]]+=1"
   ]
  },
  {
   "cell_type": "code",
   "execution_count": 33,
   "metadata": {},
   "outputs": [
    {
     "data": {
      "text/plain": [
       "([0, 3260, 38, 33, 19, 13, 18, 13, 8, 8, 11, 10, 3, 9, 9, 8, 3, 2, 5, 3, 0, 1],\n",
       " [0, 3199, 0, 0, 0, 0, 0, 0, 0, 0, 0, 0, 0, 0, 0, 0, 0, 0, 0, 0, 0, 0])"
      ]
     },
     "execution_count": 33,
     "metadata": {},
     "output_type": "execute_result"
    }
   ],
   "source": [
    "actual_count,true_positive"
   ]
  },
  {
   "cell_type": "code",
   "execution_count": 34,
   "metadata": {},
   "outputs": [
    {
     "name": "stdout",
     "output_type": "stream",
     "text": [
      "****************************************************************************************************\n",
      "             Class-Wise Accuracies for different classes are \n",
      "****************************************************************************************************\n",
      "Accuracy of Tag - Class o is : 98.12883435582822 %\n",
      "Accuracy of Tag - Class b-person is : 0.0 %\n",
      "Accuracy of Tag - Class i-other is : 0.0 %\n",
      "Accuracy of Tag - Class b-geo-loc is : 0.0 %\n",
      "Accuracy of Tag - Class i-person is : 0.0 %\n",
      "Accuracy of Tag - Class b-other is : 0.0 %\n",
      "Accuracy of Tag - Class b-company is : 0.0 %\n",
      "Accuracy of Tag - Class b-facility is : 0.0 %\n",
      "Accuracy of Tag - Class i-facility is : 0.0 %\n",
      "Accuracy of Tag - Class i-product is : 0.0 %\n",
      "Accuracy of Tag - Class b-product is : 0.0 %\n",
      "Accuracy of Tag - Class i-geo-loc is : 0.0 %\n",
      "Accuracy of Tag - Class b-musicartist is : 0.0 %\n",
      "Accuracy of Tag - Class i-musicartist is : 0.0 %\n",
      "Accuracy of Tag - Class i-company is : 0.0 %\n",
      "Accuracy of Tag - Class i-movie is : 0.0 %\n",
      "Accuracy of Tag - Class b-sportsteam is : 0.0 %\n",
      "Accuracy of Tag - Class b-movie is : 0.0 %\n",
      "Accuracy of Tag - Class b-tvshow is : 0.0 %\n",
      "Accuracy of Tag - Class i-tvshow is : 0.0 % \n",
      "Accuracy of Tag - Class i-sportsteam is : 0.0 %\n"
     ]
    }
   ],
   "source": [
    "print(\"*\"*100)\n",
    "print(\"             Class-Wise Accuracies for different classes are \")\n",
    "print(\"*\"*100)\n",
    "class_accuracies=[]\n",
    "for i in range(1,NUM_TAGS):\n",
    "    if actual_count[i]!=0:\n",
    "        class_accuracies.append((true_positive[i]/actual_count[i])*100)\n",
    "        print(\"Accuracy of Tag - Class {} is : {} %\".format(reverse_word_map.get(i),(class_accuracies[i-1])))\n",
    "    else:\n",
    "        class_accuracies.append(0)\n",
    "        print(\"Accuracy of Tag - Class {} is : 0.0 % \".format(reverse_word_map.get(i)))"
   ]
  },
  {
   "cell_type": "code",
   "execution_count": 35,
   "metadata": {},
   "outputs": [
    {
     "data": {
      "image/png": "[encoded data removed]",
      "text/plain": [
       "<Figure size 1008x360 with 1 Axes>"
      ]
     },
     "metadata": {},
     "output_type": "display_data"
    }
   ],
   "source": [
    "fig = plt.figure(figsize = (14, 5)) \n",
    "# creating the bar plot \n",
    "category_list=[str(i) for i in range(1,NUM_TAGS)]\n",
    "plt.bar(category_list, class_accuracies, color ='blue',  \n",
    "        width = 0.4) \n",
    "  \n",
    "plt.xlabel(\"Tag - Classes\") \n",
    "plt.ylabel(\"Percentage Accuracy\") \n",
    "plt.title(\"Different Tag - Classes Accuracy\") \n",
    "plt.show() "
   ]
  },
  {
   "cell_type": "markdown",
   "metadata": {},
   "source": [
    "## Importing Unseen Test Data"
   ]
  },
  {
   "cell_type": "code",
   "execution_count": 36,
   "metadata": {},
   "outputs": [],
   "source": [
    "test_sentences_words=[]\n",
    "file = open('NER-Dataset--TestSet.txt', 'r')\n",
    "lines = file.readlines()\n",
    "temp_sentence_words=[]\n",
    "for line in lines:\n",
    "    if line==\"\\n\":#Blank line represents end of sentence\n",
    "        test_sentences_words.append(temp_sentence_words)\n",
    "        temp_sentence_words=[]\n",
    "        continue\n",
    "    temp=line.split(\"\\n\")[0]\n",
    "    temp_sentence_words.append(temp)\n",
    "file.close()"
   ]
  },
  {
   "cell_type": "code",
   "execution_count": 37,
   "metadata": {},
   "outputs": [
    {
     "data": {
      "text/plain": [
       "['@SammieLynnsMom',\n",
       " '@tg1.781',\n",
       " 'they',\n",
       " 'will',\n",
       " 'be',\n",
       " 'all',\n",
       " 'done',\n",
       " 'by',\n",
       " 'Sunday',\n",
       " 'trust',\n",
       " 'me',\n",
       " '*wink*']"
      ]
     },
     "execution_count": 37,
     "metadata": {},
     "output_type": "execute_result"
    }
   ],
   "source": [
    "test_sentences_words[0]"
   ]
  },
  {
   "cell_type": "markdown",
   "metadata": {},
   "source": [
    "### Tokenizing words"
   ]
  },
  {
   "cell_type": "code",
   "execution_count": 38,
   "metadata": {},
   "outputs": [],
   "source": [
    "X_Test=word_tokenizer.texts_to_sequences(test_sentences_words)"
   ]
  },
  {
   "cell_type": "code",
   "execution_count": 39,
   "metadata": {},
   "outputs": [],
   "source": [
    "X_Test_padded=pad_sequences(X_Test, maxlen=MAX_SEQ_LENGTH, padding=\"post\")"
   ]
  },
  {
   "cell_type": "code",
   "execution_count": 40,
   "metadata": {},
   "outputs": [],
   "source": [
    "Y_Predicted_Set=best_model.predict(X_Test_padded)"
   ]
  },
  {
   "cell_type": "code",
   "execution_count": 41,
   "metadata": {},
   "outputs": [
    {
     "data": {
      "text/plain": [
       "array([1, 1, 1, 1, 1, 1, 1, 1, 1, 1, 1, 0, 0, 0, 0, 0, 0, 0, 0, 0, 0, 0,\n",
       "       0, 0, 0, 0, 0, 0, 0, 0, 0, 0, 0, 0, 0, 0, 0], dtype=int64)"
      ]
     },
     "execution_count": 41,
     "metadata": {},
     "output_type": "execute_result"
    }
   ],
   "source": [
    "Y_Predicted=decode_pred(Y_Predicted_Set)\n",
    "Y_Predicted[0]"
   ]
  },
  {
   "cell_type": "code",
   "execution_count": 42,
   "metadata": {},
   "outputs": [],
   "source": [
    "reverse_word_map = dict(map(reversed, tags_tokenizer.word_index.items()))\n",
    "\n",
    "# Function takes a tokenized sentence and returns the words\n",
    "def sequence_to_text(list_of_indices):\n",
    "    # Looking up words in dictionary\n",
    "    words = [reverse_word_map.get(letter) for letter in list_of_indices]\n",
    "    return(words)\n",
    "\n",
    "# Creating texts \n",
    "Y_Pred_Labels = list(map(sequence_to_text, Y_Predicted))"
   ]
  },
  {
   "cell_type": "code",
   "execution_count": 43,
   "metadata": {},
   "outputs": [
    {
     "data": {
      "text/plain": [
       "['o',\n",
       " 'o',\n",
       " 'o',\n",
       " 'o',\n",
       " 'o',\n",
       " 'o',\n",
       " 'o',\n",
       " 'o',\n",
       " 'o',\n",
       " 'o',\n",
       " 'o',\n",
       " None,\n",
       " None,\n",
       " None,\n",
       " None,\n",
       " None,\n",
       " None,\n",
       " None,\n",
       " None,\n",
       " None,\n",
       " None,\n",
       " None,\n",
       " None,\n",
       " None,\n",
       " None,\n",
       " None,\n",
       " None,\n",
       " None,\n",
       " None,\n",
       " None,\n",
       " None,\n",
       " None,\n",
       " None,\n",
       " None,\n",
       " None,\n",
       " None,\n",
       " None]"
      ]
     },
     "execution_count": 43,
     "metadata": {},
     "output_type": "execute_result"
    }
   ],
   "source": [
    "Y_Pred_Labels[0]"
   ]
  },
  {
   "cell_type": "code",
   "execution_count": null,
   "metadata": {},
   "outputs": [],
   "source": []
  }
 ],
 "metadata": {
  "kernelspec": {
   "display_name": "Python 3",
   "language": "python",
   "name": "python3"
  },
  "language_info": {
   "codemirror_mode": {
    "name": "ipython",
    "version": 3
   },
   "file_extension": ".py",
   "mimetype": "text/x-python",
   "name": "python",
   "nbconvert_exporter": "python",
   "pygments_lexer": "ipython3",
   "version": "3.6.10"
  }
 },
 "nbformat": 4,
 "nbformat_minor": 4
}
