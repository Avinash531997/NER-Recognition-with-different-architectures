{
 "cells": [
  {
   "cell_type": "markdown",
   "metadata": {},
   "source": [
    "### Importing libraries"
   ]
  },
  {
   "cell_type": "code",
   "execution_count": 1,
   "metadata": {},
   "outputs": [
    {
     "name": "stderr",
     "output_type": "stream",
     "text": [
      "\n",
      "Bad key \"text.kerning_factor\" on line 4 in\n",
      "C:\\Users\\VISHAL SINGH\\Anaconda3\\lib\\site-packages\\matplotlib\\mpl-data\\stylelib\\_classic_test_patch.mplstyle.\n",
      "You probably need to get an updated matplotlibrc file from\n",
      "https://github.com/matplotlib/matplotlib/blob/v3.1.3/matplotlibrc.template\n",
      "or from the matplotlib source distribution\n"
     ]
    }
   ],
   "source": [
    "import numpy as np\n",
    "import pandas as pd\n",
    "import matplotlib.pyplot as plt\n",
    "import random\n",
    "\n",
    "from sklearn.metrics import confusion_matrix,classification_report\n",
    "from sklearn.model_selection import train_test_split\n",
    "\n",
    "from tensorflow.keras.preprocessing.text import Tokenizer\n",
    "\n",
    "plt.style.use(\"ggplot\")\n",
    "\n",
    "np.random.seed(0)"
   ]
  },
  {
   "cell_type": "markdown",
   "metadata": {},
   "source": [
    "### Loading and Exploring the NER Dataset"
   ]
  },
  {
   "cell_type": "code",
   "execution_count": 2,
   "metadata": {},
   "outputs": [],
   "source": [
    "sentences_words=[]\n",
    "sentences_tags=[]\n",
    "file = open('NER-Dataset-Train.txt', 'r')\n",
    "lines = file.readlines()\n",
    "temp_sentence_words=[]\n",
    "temp_sentence_tags=[]\n",
    "for line in lines:\n",
    "    if line==\"\\n\":#Sentences ends at every blank line\n",
    "        if len(temp_sentence_words)==0:#If zero length sentence is formed, then ignore\n",
    "            continue\n",
    "        sentences_words.append(temp_sentence_words)\n",
    "        temp_sentence_words=[]\n",
    "        sentences_tags.append(temp_sentence_tags)\n",
    "        temp_sentence_tags=[]\n",
    "        continue\n",
    "    temp=line.split(\"\\t\")#splitting to get the tag and the word\n",
    "    temp[1]=temp[1].split(\"\\n\")[0]\n",
    "\n",
    "    temp_sentence_words.append(temp[0])\n",
    "    temp_sentence_tags.append(temp[1])\n",
    "file.close()"
   ]
  },
  {
   "cell_type": "code",
   "execution_count": 3,
   "metadata": {},
   "outputs": [
    {
     "data": {
      "text/plain": [
       "['The',\n",
       " 'Basic',\n",
       " 'Step',\n",
       " 'Before',\n",
       " 'You',\n",
       " 'Even',\n",
       " 'Start',\n",
       " 'Thinking',\n",
       " 'Of',\n",
       " 'Making',\n",
       " 'Your',\n",
       " '...:',\n",
       " 'Keyword',\n",
       " 'research',\n",
       " 'is',\n",
       " 'a',\n",
       " 'well',\n",
       " 'known',\n",
       " 'subject',\n",
       " ',',\n",
       " 'yet',\n",
       " 'so',\n",
       " '...',\n",
       " 'http://bit.ly/9XQgSr']"
      ]
     },
     "execution_count": 3,
     "metadata": {},
     "output_type": "execute_result"
    }
   ],
   "source": [
    "sentences_words[4]"
   ]
  },
  {
   "cell_type": "code",
   "execution_count": 4,
   "metadata": {},
   "outputs": [
    {
     "data": {
      "text/plain": [
       "['O',\n",
       " 'O',\n",
       " 'O',\n",
       " 'O',\n",
       " 'O',\n",
       " 'O',\n",
       " 'O',\n",
       " 'O',\n",
       " 'O',\n",
       " 'O',\n",
       " 'O',\n",
       " 'O',\n",
       " 'O',\n",
       " 'O',\n",
       " 'O',\n",
       " 'O',\n",
       " 'O',\n",
       " 'O',\n",
       " 'O',\n",
       " 'O',\n",
       " 'O',\n",
       " 'O',\n",
       " 'O',\n",
       " 'O']"
      ]
     },
     "execution_count": 4,
     "metadata": {},
     "output_type": "execute_result"
    }
   ],
   "source": [
    "sentences_tags[4]"
   ]
  },
  {
   "cell_type": "code",
   "execution_count": 5,
   "metadata": {},
   "outputs": [],
   "source": [
    "X=sentences_words\n",
    "Y=sentences_tags"
   ]
  },
  {
   "cell_type": "code",
   "execution_count": 6,
   "metadata": {},
   "outputs": [
    {
     "data": {
      "text/plain": [
       "(900, 900)"
      ]
     },
     "execution_count": 6,
     "metadata": {},
     "output_type": "execute_result"
    }
   ],
   "source": [
    "len(X),len(Y)"
   ]
  },
  {
   "cell_type": "markdown",
   "metadata": {},
   "source": [
    "### Tokenizing"
   ]
  },
  {
   "cell_type": "code",
   "execution_count": 7,
   "metadata": {},
   "outputs": [
    {
     "data": {
      "text/plain": [
       "[1346, 231, 8, 16, 18, 808, 66, 22, 1347, 809]"
      ]
     },
     "execution_count": 7,
     "metadata": {},
     "output_type": "execute_result"
    }
   ],
   "source": [
    "word_tokenizer = Tokenizer()   #initializing tokenizer\n",
    "word_tokenizer.fit_on_texts(X) \n",
    "X_encoded = word_tokenizer.texts_to_sequences(X) #tokenizing input based on index of every word in vocab set\n",
    "X_encoded[3]"
   ]
  },
  {
   "cell_type": "code",
   "execution_count": 8,
   "metadata": {},
   "outputs": [
    {
     "data": {
      "text/plain": [
       "[1, 1, 1, 1, 1, 1, 1, 1, 1, 1]"
      ]
     },
     "execution_count": 8,
     "metadata": {},
     "output_type": "execute_result"
    }
   ],
   "source": [
    "tags_tokenizer = Tokenizer()\n",
    "tags_tokenizer.fit_on_texts(Y)\n",
    "Y_encoded = tags_tokenizer.texts_to_sequences(Y) # tokenizing each tag based on index in tag vocab.\n",
    "Y_encoded[3]"
   ]
  },
  {
   "cell_type": "code",
   "execution_count": 9,
   "metadata": {},
   "outputs": [
    {
     "data": {
      "text/plain": [
       "3"
      ]
     },
     "execution_count": 9,
     "metadata": {},
     "output_type": "execute_result"
    }
   ],
   "source": [
    "NUM_TAGS=len(tags_tokenizer.word_counts)\n",
    "NUM_TAGS"
   ]
  },
  {
   "cell_type": "code",
   "execution_count": 10,
   "metadata": {},
   "outputs": [
    {
     "data": {
      "text/plain": [
       "4542"
      ]
     },
     "execution_count": 10,
     "metadata": {},
     "output_type": "execute_result"
    }
   ],
   "source": [
    "VOCAB_SIZE=len(word_tokenizer.word_counts)\n",
    "VOCAB_SIZE"
   ]
  },
  {
   "cell_type": "code",
   "execution_count": 11,
   "metadata": {},
   "outputs": [
    {
     "data": {
      "text/plain": [
       "900"
      ]
     },
     "execution_count": 11,
     "metadata": {},
     "output_type": "execute_result"
    }
   ],
   "source": [
    "#Number of Sentences\n",
    "len(X)"
   ]
  },
  {
   "cell_type": "markdown",
   "metadata": {},
   "source": [
    "#### Length of the sentences"
   ]
  },
  {
   "cell_type": "code",
   "execution_count": 12,
   "metadata": {},
   "outputs": [
    {
     "data": {
      "image/png": "[encoded data removed]",
      "text/plain": [
       "<Figure size 432x288 with 1 Axes>"
      ]
     },
     "metadata": {},
     "output_type": "display_data"
    }
   ],
   "source": [
    "plt.hist([len(s) for s in X], bins=100, color=\"blue\")\n",
    "plt.show()\n",
    "MAX_SEQ_LENGTH=max([len(s) for s in X])"
   ]
  },
  {
   "cell_type": "code",
   "execution_count": 13,
   "metadata": {},
   "outputs": [
    {
     "data": {
      "text/plain": [
       "37"
      ]
     },
     "execution_count": 13,
     "metadata": {},
     "output_type": "execute_result"
    }
   ],
   "source": [
    "MAX_SEQ_LENGTH"
   ]
  },
  {
   "cell_type": "markdown",
   "metadata": {},
   "source": [
    "### Padding Input Sentences and Tags"
   ]
  },
  {
   "cell_type": "code",
   "execution_count": 14,
   "metadata": {},
   "outputs": [
    {
     "name": "stderr",
     "output_type": "stream",
     "text": [
      "Using TensorFlow backend.\n"
     ]
    },
    {
     "data": {
      "text/plain": [
       "array([1333,  804,   35,    8,  108,  197,   30,  805,   45,  198,   49,\n",
       "       1334,   87,   63,    4,   30,  287, 1335,  584,  379,   95, 1336,\n",
       "        379, 1337,    8,    0,    0,    0,    0,    0,    0,    0,    0,\n",
       "          0,    0,    0,    0])"
      ]
     },
     "execution_count": 14,
     "metadata": {},
     "output_type": "execute_result"
    }
   ],
   "source": [
    "from keras.preprocessing.sequence import pad_sequences\n",
    "from keras.utils import to_categorical\n",
    "\n",
    "X_padded = pad_sequences(X_encoded, maxlen=MAX_SEQ_LENGTH, padding=\"post\")\n",
    "X_padded[0]"
   ]
  },
  {
   "cell_type": "code",
   "execution_count": 15,
   "metadata": {},
   "outputs": [
    {
     "data": {
      "text/plain": [
       "array([1, 1, 1, 1, 1, 1, 1, 1, 1, 1, 1, 1, 1, 1, 1, 1, 1, 1, 1, 1, 1, 1,\n",
       "       1, 1, 1, 0, 0, 0, 0, 0, 0, 0, 0, 0, 0, 0, 0])"
      ]
     },
     "execution_count": 15,
     "metadata": {},
     "output_type": "execute_result"
    }
   ],
   "source": [
    "Y_padded = pad_sequences(Y_encoded, maxlen=MAX_SEQ_LENGTH, padding=\"post\")\n",
    "Y_padded[0]"
   ]
  },
  {
   "cell_type": "code",
   "execution_count": 16,
   "metadata": {},
   "outputs": [],
   "source": [
    "#Re-Assigning to X and Y for ease of use\n",
    "X, Y = X_padded, Y_padded"
   ]
  },
  {
   "cell_type": "code",
   "execution_count": 17,
   "metadata": {},
   "outputs": [
    {
     "name": "stdout",
     "output_type": "stream",
     "text": [
      "(900, 37, 4)\n"
     ]
    }
   ],
   "source": [
    "Y = to_categorical(Y)\n",
    "print(Y.shape)"
   ]
  },
  {
   "cell_type": "markdown",
   "metadata": {},
   "source": [
    "### Build and Compile a LSTM Model"
   ]
  },
  {
   "cell_type": "code",
   "execution_count": 18,
   "metadata": {},
   "outputs": [],
   "source": [
    "from tensorflow.keras.models import Sequential\n",
    "from tensorflow.keras.layers import Embedding\n",
    "from tensorflow.keras.layers import Dense, Input\n",
    "from tensorflow.keras.layers import TimeDistributed\n",
    "from tensorflow.keras.layers import SimpleRNN, RNN,SpatialDropout1D,Dropout\n",
    "from tensorflow.keras.models import Model\n",
    "from tensorflow.keras.metrics import Precision, Recall"
   ]
  },
  {
   "cell_type": "code",
   "execution_count": 19,
   "metadata": {},
   "outputs": [],
   "source": [
    "EMBED_DIM=50\n",
    "NUM_TAGS=Y.shape[2]\n",
    "VOCAB_SIZE+=1"
   ]
  },
  {
   "cell_type": "code",
   "execution_count": 20,
   "metadata": {},
   "outputs": [],
   "source": [
    "def evaluate_model(X_train,Y_train,X_test,Y_test):\n",
    "    VALID_SIZE=0.15 #Validation Split Size\n",
    "    #Train - Validation Set Split\n",
    "    X_train, X_validation, Y_train, Y_validation = train_test_split(X_train, Y_train, test_size=VALID_SIZE, random_state=1)\n",
    "    # total number of tags\n",
    "    \n",
    "    model = Sequential()\n",
    "\n",
    "    # Embedding layer \n",
    "    model.add(Embedding(input_dim     =  VOCAB_SIZE,         \n",
    "                            output_dim    =  EMBED_DIM,          \n",
    "                            input_length  =  MAX_SEQ_LENGTH,              \n",
    "                            trainable     =  True                     # True - update the embeddings while training\n",
    "    ))\n",
    "\n",
    "    \n",
    "    #Adding RNN Layer \n",
    "    model.add(SimpleRNN(64, \n",
    "                  return_sequences=True  # True to return whole sequence output \n",
    "    ))\n",
    "    model.add(Dropout(0.2)) # Adding dropout to avoid overfitting\n",
    "\n",
    "    # Adding TimeDistributed layer - Softmax output based on number of classes or tags\n",
    "    model.add(TimeDistributed(Dense(NUM_TAGS, activation='softmax')))\n",
    "\n",
    "    #Compiling model\n",
    "    model.compile(loss      =  'categorical_crossentropy',\n",
    "                      optimizer =  'adam',\n",
    "                      metrics   =  ['acc', Precision(), Recall()])\n",
    "    \n",
    "    # model summary\n",
    "    model.summary()\n",
    "    #Hyper-parameters for the model\n",
    "    epochs=10\n",
    "    batch_size=128\n",
    "    \n",
    "\n",
    "    #Fitting Model\n",
    "    rnn_training = model.fit(X_train, Y_train, batch_size=batch_size, epochs=epochs, validation_data=(X_validation, Y_validation))\n",
    "    #Model Evaluation\n",
    "    loss, accuracy, precision, recall = model.evaluate(X_train, Y_train, verbose = 1)\n",
    "    print(\"Loss: {0},\\nTrain Accuracy: {1}\".format(loss, accuracy*100))\n",
    "    print(\"Precision: {0},\\nRecall: {1}\".format(precision, recall))\n",
    "    print(\" \"*50)\n",
    "    loss, accuracy, precision, recall = model.evaluate(X_test, Y_test, verbose = 1)\n",
    "    print(\"Loss: {0},\\nTest Accuracy: {1}\".format(loss, accuracy*100))\n",
    "    print(\"Precision: {0},\\nRecall: {1}\".format(precision, recall))\n",
    "    Y_pred=model.predict(X_test)\n",
    "    return model,Y_pred,Y_test,accuracy,precision,recall"
   ]
  },
  {
   "cell_type": "markdown",
   "metadata": {},
   "source": [
    "### 5 - Fold cross Validation"
   ]
  },
  {
   "cell_type": "code",
   "execution_count": 21,
   "metadata": {},
   "outputs": [
    {
     "name": "stdout",
     "output_type": "stream",
     "text": [
      "****************************************************************************************************\n",
      "                        Cross Validation - 1 iteration\n",
      "****************************************************************************************************\n",
      "Model: \"sequential\"\n",
      "_________________________________________________________________\n",
      "Layer (type)                 Output Shape              Param #   \n",
      "=================================================================\n",
      "embedding (Embedding)        (None, 37, 50)            227150    \n",
      "_________________________________________________________________\n",
      "simple_rnn (SimpleRNN)       (None, 37, 64)            7360      \n",
      "_________________________________________________________________\n",
      "dropout (Dropout)            (None, 37, 64)            0         \n",
      "_________________________________________________________________\n",
      "time_distributed (TimeDistri (None, 37, 4)             260       \n",
      "=================================================================\n",
      "Total params: 234,770\n",
      "Trainable params: 234,770\n",
      "Non-trainable params: 0\n",
      "_________________________________________________________________\n",
      "Epoch 1/10\n",
      "5/5 [==============================] - 2s 239ms/step - loss: 1.3536 - acc: 0.3445 - precision: 0.3333 - recall: 1.4721e-05 - val_loss: 1.1415 - val_acc: 0.8081 - val_precision: 0.0000e+00 - val_recall: 0.0000e+00\n",
      "Epoch 2/10\n",
      "5/5 [==============================] - 0s 52ms/step - loss: 1.0538 - acc: 0.7919 - precision: 0.9765 - recall: 0.1181 - val_loss: 0.7881 - val_acc: 0.8471 - val_precision: 0.9164 - val_recall: 0.4525\n",
      "Epoch 3/10\n",
      "5/5 [==============================] - 0s 45ms/step - loss: 0.7251 - acc: 0.8644 - precision: 0.9269 - recall: 0.5519 - val_loss: 0.6020 - val_acc: 0.8493 - val_precision: 0.8571 - val_recall: 0.6754\n",
      "Epoch 4/10\n",
      "5/5 [==============================] - 0s 38ms/step - loss: 0.5416 - acc: 0.8798 - precision: 0.8952 - recall: 0.7194 - val_loss: 0.5244 - val_acc: 0.8576 - val_precision: 0.8578 - val_recall: 0.7365\n",
      "Epoch 5/10\n",
      "5/5 [==============================] - 0s 35ms/step - loss: 0.4241 - acc: 0.9087 - precision: 0.9159 - recall: 0.7950 - val_loss: 0.4734 - val_acc: 0.8706 - val_precision: 0.8702 - val_recall: 0.7720\n",
      "Epoch 6/10\n",
      "5/5 [==============================] - 0s 36ms/step - loss: 0.3702 - acc: 0.9222 - precision: 0.9281 - recall: 0.8292 - val_loss: 0.4554 - val_acc: 0.8756 - val_precision: 0.8743 - val_recall: 0.7885\n",
      "Epoch 7/10\n",
      "5/5 [==============================] - 0s 37ms/step - loss: 0.3156 - acc: 0.9397 - precision: 0.9443 - recall: 0.8591 - val_loss: 0.4571 - val_acc: 0.8759 - val_precision: 0.8732 - val_recall: 0.7993\n",
      "Epoch 8/10\n",
      "5/5 [==============================] - 0s 54ms/step - loss: 0.2818 - acc: 0.9480 - precision: 0.9531 - recall: 0.8786 - val_loss: 0.4734 - val_acc: 0.8741 - val_precision: 0.8724 - val_recall: 0.8073\n",
      "Epoch 9/10\n",
      "5/5 [==============================] - 0s 40ms/step - loss: 0.2609 - acc: 0.9531 - precision: 0.9565 - recall: 0.8899 - val_loss: 0.4918 - val_acc: 0.8729 - val_precision: 0.8718 - val_recall: 0.8101\n",
      "Epoch 10/10\n",
      "5/5 [==============================] - 0s 43ms/step - loss: 0.2441 - acc: 0.9566 - precision: 0.9603 - recall: 0.8994 - val_loss: 0.5282 - val_acc: 0.8696 - val_precision: 0.8672 - val_recall: 0.8091\n",
      "20/20 [==============================] - 0s 4ms/step - loss: 0.2270 - acc: 0.9623 - precision: 0.9660 - recall: 0.9111\n",
      "Loss: 0.22698338329792023,\n",
      "Train Accuracy: 96.22858166694641\n",
      "Precision: 0.9660080671310425,\n",
      "Recall: 0.9111464619636536\n",
      "                                                  \n",
      "6/6 [==============================] - 0s 7ms/step - loss: 0.5492 - acc: 0.8632 - precision: 0.8632 - recall: 0.8056\n",
      "Loss: 0.5492053627967834,\n",
      "Test Accuracy: 86.32132411003113\n",
      "Precision: 0.8632341027259827,\n",
      "Recall: 0.8055555820465088\n",
      "****************************************************************************************************\n",
      "                        Cross Validation - 2 iteration\n",
      "****************************************************************************************************\n",
      "Model: \"sequential_1\"\n",
      "_________________________________________________________________\n",
      "Layer (type)                 Output Shape              Param #   \n",
      "=================================================================\n",
      "embedding_1 (Embedding)      (None, 37, 50)            227150    \n",
      "_________________________________________________________________\n",
      "simple_rnn_1 (SimpleRNN)     (None, 37, 64)            7360      \n",
      "_________________________________________________________________\n",
      "dropout_1 (Dropout)          (None, 37, 64)            0         \n",
      "_________________________________________________________________\n",
      "time_distributed_1 (TimeDist (None, 37, 4)             260       \n",
      "=================================================================\n",
      "Total params: 234,770\n",
      "Trainable params: 234,770\n",
      "Non-trainable params: 0\n",
      "_________________________________________________________________\n",
      "Epoch 1/10\n",
      "5/5 [==============================] - 2s 151ms/step - loss: 1.3290 - acc: 0.3671 - precision_1: 0.5000 - recall_1: 0.0085 - val_loss: 1.0320 - val_acc: 0.5473 - val_precision_1: 0.9699 - val_recall_1: 0.3706\n",
      "Epoch 2/10\n",
      "5/5 [==============================] - 0s 39ms/step - loss: 0.9862 - acc: 0.5608 - precision_1: 0.8501 - recall_1: 0.3823 - val_loss: 0.8018 - val_acc: 0.6879 - val_precision_1: 0.8120 - val_recall_1: 0.4474\n",
      "Epoch 3/10\n",
      "5/5 [==============================] - 0s 34ms/step - loss: 0.7673 - acc: 0.7991 - precision_1: 0.9055 - recall_1: 0.4837 - val_loss: 0.6143 - val_acc: 0.8734 - val_precision_1: 0.9174 - val_recall_1: 0.6196\n",
      "Epoch 4/10\n",
      "5/5 [==============================] - 0s 38ms/step - loss: 0.5781 - acc: 0.8855 - precision_1: 0.9210 - recall_1: 0.6707 - val_loss: 0.4995 - val_acc: 0.8801 - val_precision_1: 0.8922 - val_recall_1: 0.7292\n",
      "Epoch 5/10\n",
      "5/5 [==============================] - 0s 37ms/step - loss: 0.4510 - acc: 0.9144 - precision_1: 0.9290 - recall_1: 0.7819 - val_loss: 0.4358 - val_acc: 0.8904 - val_precision_1: 0.9003 - val_recall_1: 0.7820\n",
      "Epoch 6/10\n",
      "5/5 [==============================] - 0s 37ms/step - loss: 0.3864 - acc: 0.9229 - precision_1: 0.9317 - recall_1: 0.8230 - val_loss: 0.4260 - val_acc: 0.8831 - val_precision_1: 0.8856 - val_recall_1: 0.7945\n",
      "Epoch 7/10\n",
      "5/5 [==============================] - 0s 33ms/step - loss: 0.3394 - acc: 0.9307 - precision_1: 0.9373 - recall_1: 0.8499 - val_loss: 0.4475 - val_acc: 0.8751 - val_precision_1: 0.8769 - val_recall_1: 0.8003\n",
      "Epoch 8/10\n",
      "5/5 [==============================] - 0s 39ms/step - loss: 0.3057 - acc: 0.9354 - precision_1: 0.9423 - recall_1: 0.8694 - val_loss: 0.4682 - val_acc: 0.8704 - val_precision_1: 0.8713 - val_recall_1: 0.8051\n",
      "Epoch 9/10\n",
      "5/5 [==============================] - 0s 38ms/step - loss: 0.2850 - acc: 0.9435 - precision_1: 0.9488 - recall_1: 0.8844 - val_loss: 0.4322 - val_acc: 0.8821 - val_precision_1: 0.8852 - val_recall_1: 0.8236\n",
      "Epoch 10/10\n",
      "5/5 [==============================] - 0s 30ms/step - loss: 0.2571 - acc: 0.9508 - precision_1: 0.9563 - recall_1: 0.8965 - val_loss: 0.3963 - val_acc: 0.8946 - val_precision_1: 0.8983 - val_recall_1: 0.8398\n",
      "20/20 [==============================] - 0s 4ms/step - loss: 0.2441 - acc: 0.9491 - precision_1: 0.9543 - recall_1: 0.8998\n",
      "Loss: 0.24405759572982788,\n",
      "Train Accuracy: 94.9125587940216\n",
      "Precision: 0.954289972782135,\n",
      "Recall: 0.8998410105705261\n",
      "                                                  \n",
      "6/6 [==============================] - 0s 4ms/step - loss: 0.3332 - acc: 0.9144 - precision_1: 0.9165 - recall_1: 0.8584\n",
      "Loss: 0.33324429392814636,\n",
      "Test Accuracy: 91.44144058227539\n",
      "Precision: 0.9164796471595764,\n",
      "Recall: 0.8584083914756775\n",
      "****************************************************************************************************\n",
      "                        Cross Validation - 3 iteration\n",
      "****************************************************************************************************\n",
      "Model: \"sequential_2\"\n",
      "_________________________________________________________________\n",
      "Layer (type)                 Output Shape              Param #   \n",
      "=================================================================\n",
      "embedding_2 (Embedding)      (None, 37, 50)            227150    \n",
      "_________________________________________________________________\n",
      "simple_rnn_2 (SimpleRNN)     (None, 37, 64)            7360      \n",
      "_________________________________________________________________\n",
      "dropout_2 (Dropout)          (None, 37, 64)            0         \n",
      "_________________________________________________________________\n",
      "time_distributed_2 (TimeDist (None, 37, 4)             260       \n",
      "=================================================================\n",
      "Total params: 234,770\n",
      "Trainable params: 234,770\n",
      "Non-trainable params: 0\n",
      "_________________________________________________________________\n",
      "Epoch 1/10\n"
     ]
    },
    {
     "name": "stdout",
     "output_type": "stream",
     "text": [
      "5/5 [==============================] - 2s 133ms/step - loss: 1.3046 - acc: 0.3303 - precision_2: 0.5380 - recall_2: 0.0192 - val_loss: 0.9167 - val_acc: 0.5923 - val_precision_2: 0.8344 - val_recall_2: 0.4412\n",
      "Epoch 2/10\n",
      "5/5 [==============================] - 0s 35ms/step - loss: 0.9113 - acc: 0.5705 - precision_2: 0.7321 - recall_2: 0.4208 - val_loss: 0.8093 - val_acc: 0.5748 - val_precision_2: 0.6556 - val_recall_2: 0.4935\n",
      "Epoch 3/10\n",
      "5/5 [==============================] - 0s 39ms/step - loss: 0.8333 - acc: 0.5898 - precision_2: 0.6364 - recall_2: 0.4657 - val_loss: 0.7551 - val_acc: 0.7200 - val_precision_2: 0.7467 - val_recall_2: 0.5230\n",
      "Epoch 4/10\n",
      "5/5 [==============================] - 0s 86ms/step - loss: 0.7636 - acc: 0.7161 - precision_2: 0.7325 - recall_2: 0.5401 - val_loss: 0.6722 - val_acc: 0.7920 - val_precision_2: 0.7832 - val_recall_2: 0.6111\n",
      "Epoch 5/10\n",
      "5/5 [==============================] - 0s 37ms/step - loss: 0.6716 - acc: 0.7943 - precision_2: 0.7938 - recall_2: 0.6319 - val_loss: 0.5404 - val_acc: 0.9219 - val_precision_2: 0.9356 - val_recall_2: 0.7848\n",
      "Epoch 6/10\n",
      "5/5 [==============================] - 0s 36ms/step - loss: 0.5345 - acc: 0.8947 - precision_2: 0.9022 - recall_2: 0.7602 - val_loss: 0.4262 - val_acc: 0.9192 - val_precision_2: 0.9250 - val_recall_2: 0.8086\n",
      "Epoch 7/10\n",
      "5/5 [==============================] - ETA: 0s - loss: 0.4142 - acc: 0.9180 - precision_2: 0.9215 - recall_2: 0.81 - 0s 38ms/step - loss: 0.4091 - acc: 0.9196 - precision_2: 0.9231 - recall_2: 0.8195 - val_loss: 0.3622 - val_acc: 0.9227 - val_precision_2: 0.9271 - val_recall_2: 0.8373\n",
      "Epoch 8/10\n",
      "5/5 [==============================] - 0s 35ms/step - loss: 0.3460 - acc: 0.9291 - precision_2: 0.9334 - recall_2: 0.8521 - val_loss: 0.3442 - val_acc: 0.9157 - val_precision_2: 0.9210 - val_recall_2: 0.8466\n",
      "Epoch 9/10\n",
      "5/5 [==============================] - 0s 35ms/step - loss: 0.3042 - acc: 0.9334 - precision_2: 0.9365 - recall_2: 0.8692 - val_loss: 0.3202 - val_acc: 0.9197 - val_precision_2: 0.9249 - val_recall_2: 0.8599\n",
      "Epoch 10/10\n",
      "5/5 [==============================] - 0s 45ms/step - loss: 0.2701 - acc: 0.9427 - precision_2: 0.9458 - recall_2: 0.8868 - val_loss: 0.3178 - val_acc: 0.9194 - val_precision_2: 0.9236 - val_recall_2: 0.8651\n",
      "20/20 [==============================] - 0s 4ms/step - loss: 0.2427 - acc: 0.9478 - precision_2: 0.9510 - recall_2: 0.8971\n",
      "Loss: 0.2427498996257782,\n",
      "Train Accuracy: 94.7844922542572\n",
      "Precision: 0.951032280921936,\n",
      "Recall: 0.8971471190452576\n",
      "                                                  \n",
      "6/6 [==============================] - 0s 4ms/step - loss: 0.4234 - acc: 0.8890 - precision_2: 0.8893 - recall_2: 0.8356\n",
      "Loss: 0.4233543276786804,\n",
      "Test Accuracy: 88.90390396118164\n",
      "Precision: 0.8892617225646973,\n",
      "Recall: 0.8355855941772461\n",
      "****************************************************************************************************\n",
      "                        Cross Validation - 4 iteration\n",
      "****************************************************************************************************\n",
      "Model: \"sequential_3\"\n",
      "_________________________________________________________________\n",
      "Layer (type)                 Output Shape              Param #   \n",
      "=================================================================\n",
      "embedding_3 (Embedding)      (None, 37, 50)            227150    \n",
      "_________________________________________________________________\n",
      "simple_rnn_3 (SimpleRNN)     (None, 37, 64)            7360      \n",
      "_________________________________________________________________\n",
      "dropout_3 (Dropout)          (None, 37, 64)            0         \n",
      "_________________________________________________________________\n",
      "time_distributed_3 (TimeDist (None, 37, 4)             260       \n",
      "=================================================================\n",
      "Total params: 234,770\n",
      "Trainable params: 234,770\n",
      "Non-trainable params: 0\n",
      "_________________________________________________________________\n",
      "Epoch 1/10\n",
      "5/5 [==============================] - 2s 130ms/step - loss: 1.2260 - acc: 0.4906 - precision_3: 0.8291 - recall_3: 0.0606 - val_loss: 0.9215 - val_acc: 0.6211 - val_precision_3: 0.8973 - val_recall_3: 0.4284\n",
      "Epoch 2/10\n",
      "5/5 [==============================] - 0s 31ms/step - loss: 0.8656 - acc: 0.6692 - precision_3: 0.8826 - recall_3: 0.4332 - val_loss: 0.6999 - val_acc: 0.8471 - val_precision_3: 0.9347 - val_recall_3: 0.5556\n",
      "Epoch 3/10\n",
      "5/5 [==============================] - 0s 29ms/step - loss: 0.6306 - acc: 0.8664 - precision_3: 0.9230 - recall_3: 0.6066 - val_loss: 0.5570 - val_acc: 0.8614 - val_precision_3: 0.8796 - val_recall_3: 0.6912\n",
      "Epoch 4/10\n",
      "5/5 [==============================] - 0s 38ms/step - loss: 0.4938 - acc: 0.8955 - precision_3: 0.9065 - recall_3: 0.7353 - val_loss: 0.5212 - val_acc: 0.8556 - val_precision_3: 0.8600 - val_recall_3: 0.7272\n",
      "Epoch 5/10\n",
      "5/5 [==============================] - 0s 33ms/step - loss: 0.4239 - acc: 0.9020 - precision_3: 0.9066 - recall_3: 0.7839 - val_loss: 0.4493 - val_acc: 0.8804 - val_precision_3: 0.8879 - val_recall_3: 0.7790\n",
      "Epoch 6/10\n",
      "5/5 [==============================] - 0s 31ms/step - loss: 0.3624 - acc: 0.9210 - precision_3: 0.9262 - recall_3: 0.8239 - val_loss: 0.4275 - val_acc: 0.8884 - val_precision_3: 0.8936 - val_recall_3: 0.8008\n",
      "Epoch 7/10\n",
      "5/5 [==============================] - 0s 31ms/step - loss: 0.3226 - acc: 0.9329 - precision_3: 0.9379 - recall_3: 0.8514 - val_loss: 0.4208 - val_acc: 0.8861 - val_precision_3: 0.8896 - val_recall_3: 0.8086\n",
      "Epoch 8/10\n",
      "5/5 [==============================] - 0s 30ms/step - loss: 0.2840 - acc: 0.9455 - precision_3: 0.9503 - recall_3: 0.8725 - val_loss: 0.4092 - val_acc: 0.8874 - val_precision_3: 0.8926 - val_recall_3: 0.8218\n",
      "Epoch 9/10\n",
      "5/5 [==============================] - 0s 31ms/step - loss: 0.2680 - acc: 0.9468 - precision_3: 0.9505 - recall_3: 0.8833 - val_loss: 0.3948 - val_acc: 0.8924 - val_precision_3: 0.8971 - val_recall_3: 0.8313\n",
      "Epoch 10/10\n",
      "5/5 [==============================] - 0s 55ms/step - loss: 0.2454 - acc: 0.9503 - precision_3: 0.9538 - recall_3: 0.8936 - val_loss: 0.3986 - val_acc: 0.8886 - val_precision_3: 0.8937 - val_recall_3: 0.8311\n",
      "20/20 [==============================] - 0s 4ms/step - loss: 0.2259 - acc: 0.9541 - precision_3: 0.9568 - recall_3: 0.9018\n",
      "Loss: 0.22589722275733948,\n",
      "Train Accuracy: 95.40717005729675\n",
      "Precision: 0.9567559957504272,\n",
      "Recall: 0.9018282890319824\n",
      "                                                  \n",
      "6/6 [==============================] - 0s 6ms/step - loss: 0.3625 - acc: 0.8998 - precision_3: 0.8996 - recall_3: 0.8408\n",
      "Loss: 0.362531840801239,\n",
      "Test Accuracy: 89.98498320579529\n",
      "Precision: 0.8995984196662903,\n",
      "Recall: 0.8408408164978027\n",
      "****************************************************************************************************\n",
      "                        Cross Validation - 5 iteration\n",
      "****************************************************************************************************\n",
      "Model: \"sequential_4\"\n",
      "_________________________________________________________________\n",
      "Layer (type)                 Output Shape              Param #   \n",
      "=================================================================\n",
      "embedding_4 (Embedding)      (None, 37, 50)            227150    \n",
      "_________________________________________________________________\n",
      "simple_rnn_4 (SimpleRNN)     (None, 37, 64)            7360      \n",
      "_________________________________________________________________\n",
      "dropout_4 (Dropout)          (None, 37, 64)            0         \n",
      "_________________________________________________________________\n",
      "time_distributed_4 (TimeDist (None, 37, 4)             260       \n",
      "=================================================================\n",
      "Total params: 234,770\n",
      "Trainable params: 234,770\n",
      "Non-trainable params: 0\n",
      "_________________________________________________________________\n",
      "Epoch 1/10\n",
      "5/5 [==============================] - 2s 138ms/step - loss: 1.3810 - acc: 0.2510 - precision_4: 0.0000e+00 - recall_4: 0.0000e+00 - val_loss: 1.1686 - val_acc: 0.6582 - val_precision_4: 0.0000e+00 - val_recall_4: 0.0000e+00\n",
      "Epoch 2/10\n",
      "5/5 [==============================] - 0s 34ms/step - loss: 1.0903 - acc: 0.6689 - precision_4: 0.9090 - recall_4: 0.0844 - val_loss: 0.9133 - val_acc: 0.7155 - val_precision_4: 0.7701 - val_recall_4: 0.4124\n"
     ]
    },
    {
     "name": "stdout",
     "output_type": "stream",
     "text": [
      "Epoch 3/10\n",
      "5/5 [==============================] - 0s 32ms/step - loss: 0.8728 - acc: 0.7091 - precision_4: 0.7373 - recall_4: 0.3529 - val_loss: 0.7623 - val_acc: 0.7625 - val_precision_4: 0.7493 - val_recall_4: 0.5638\n",
      "Epoch 4/10\n",
      "5/5 [==============================] - 0s 47ms/step - loss: 0.6991 - acc: 0.8014 - precision_4: 0.8070 - recall_4: 0.6099 - val_loss: 0.6194 - val_acc: 0.8193 - val_precision_4: 0.8165 - val_recall_4: 0.6882\n",
      "Epoch 5/10\n",
      "5/5 [==============================] - 0s 41ms/step - loss: 0.5626 - acc: 0.8490 - precision_4: 0.8491 - recall_4: 0.7253 - val_loss: 0.5751 - val_acc: 0.8351 - val_precision_4: 0.8315 - val_recall_4: 0.7297\n",
      "Epoch 6/10\n",
      "5/5 [==============================] - 0s 48ms/step - loss: 0.4736 - acc: 0.8846 - precision_4: 0.8836 - recall_4: 0.7794 - val_loss: 0.5286 - val_acc: 0.8483 - val_precision_4: 0.8451 - val_recall_4: 0.7535\n",
      "Epoch 7/10\n",
      "5/5 [==============================] - 0s 40ms/step - loss: 0.4001 - acc: 0.9095 - precision_4: 0.9112 - recall_4: 0.8182 - val_loss: 0.5137 - val_acc: 0.8509 - val_precision_4: 0.8467 - val_recall_4: 0.7658\n",
      "Epoch 8/10\n",
      "5/5 [==============================] - 0s 39ms/step - loss: 0.3526 - acc: 0.9241 - precision_4: 0.9274 - recall_4: 0.8430 - val_loss: 0.5356 - val_acc: 0.8448 - val_precision_4: 0.8406 - val_recall_4: 0.7680\n",
      "Epoch 9/10\n",
      "5/5 [==============================] - 0s 36ms/step - loss: 0.3195 - acc: 0.9345 - precision_4: 0.9400 - recall_4: 0.8622 - val_loss: 0.4814 - val_acc: 0.8639 - val_precision_4: 0.8611 - val_recall_4: 0.7925\n",
      "Epoch 10/10\n",
      "5/5 [==============================] - 0s 34ms/step - loss: 0.2887 - acc: 0.9472 - precision_4: 0.9512 - recall_4: 0.8824 - val_loss: 0.4829 - val_acc: 0.8656 - val_precision_4: 0.8631 - val_recall_4: 0.7985\n",
      "20/20 [==============================] - 0s 3ms/step - loss: 0.2612 - acc: 0.9522 - precision_4: 0.9561 - recall_4: 0.8923\n",
      "Loss: 0.261185884475708,\n",
      "Train Accuracy: 95.22169232368469\n",
      "Precision: 0.9560897350311279,\n",
      "Recall: 0.8923335075378418\n",
      "                                                  \n",
      "6/6 [==============================] - 0s 3ms/step - loss: 0.4587 - acc: 0.8760 - precision_4: 0.8717 - recall_4: 0.8102\n",
      "Loss: 0.45872175693511963,\n",
      "Test Accuracy: 87.59759664535522\n",
      "Precision: 0.8717285990715027,\n",
      "Recall: 0.8102102279663086\n"
     ]
    }
   ],
   "source": [
    "from sklearn.model_selection import ShuffleSplit\n",
    "#Shuffling and splitting into 5 different sets for cross validation\n",
    "cv = ShuffleSplit(n_splits=5, test_size=.20, random_state=1)\n",
    "cv_scores=[0]*5\n",
    "itr=0\n",
    "prec=[0]*5\n",
    "rec=[0]*5\n",
    "#Initializing\n",
    "best_pred_set=None\n",
    "best_test_set=None\n",
    "best_accuracy=0 \n",
    "best_precision=0\n",
    "best_recall=0\n",
    "#For each split creating and evaluating model\n",
    "for train_idx,test_idx in cv.split(X):\n",
    "    itr+=1\n",
    "    print(\"*\"*100)\n",
    "    print(\"                        Cross Validation - {} iteration\".format(itr))\n",
    "    print(\"*\"*100)\n",
    "    model,Pred_Set,Test_Set,cv_scores[itr-1],prec[itr-1],rec[itr-1]=evaluate_model(X[train_idx],Y[train_idx]\n",
    "                                                            ,X[test_idx],Y[test_idx])\n",
    "    if cv_scores[itr-1]>best_accuracy:\n",
    "        best_accuracy=cv_scores[itr-1]\n",
    "        best_precision=prec[itr-1]\n",
    "        best_recall=rec[itr-1]\n",
    "        best_test_set=Test_Set\n",
    "        best_pred_set=Pred_Set\n",
    "        best_model=model"
   ]
  },
  {
   "cell_type": "markdown",
   "metadata": {},
   "source": [
    "### Analysis of the best model among the 5 folds"
   ]
  },
  {
   "cell_type": "code",
   "execution_count": 22,
   "metadata": {},
   "outputs": [
    {
     "name": "stdout",
     "output_type": "stream",
     "text": [
      "Average Test Accuracy is given as 0.8884984970092773\n"
     ]
    }
   ],
   "source": [
    "print(\"Average Test Accuracy is given as {}\".format(sum(cv_scores)/len(cv_scores)))"
   ]
  },
  {
   "cell_type": "code",
   "execution_count": 23,
   "metadata": {},
   "outputs": [
    {
     "name": "stdout",
     "output_type": "stream",
     "text": [
      "Best Test Accuracy among all the folds is given as 0.9144144058227539\n"
     ]
    }
   ],
   "source": [
    "print(\"Best Test Accuracy among all the folds is given as {}\".format(best_accuracy))"
   ]
  },
  {
   "cell_type": "code",
   "execution_count": 24,
   "metadata": {},
   "outputs": [
    {
     "name": "stdout",
     "output_type": "stream",
     "text": [
      "The Accuracies for the 5 folds are given as :\n",
      "0.8632132411003113 0.9144144058227539 0.8890390396118164 0.8998498320579529 0.8759759664535522\n"
     ]
    }
   ],
   "source": [
    "print(\"The Accuracies for the 5 folds are given as :\")\n",
    "print(*cv_scores)"
   ]
  },
  {
   "cell_type": "code",
   "execution_count": 25,
   "metadata": {},
   "outputs": [
    {
     "name": "stdout",
     "output_type": "stream",
     "text": [
      "Average precision : 0.8880604982376099, Average Recall : 0.8301201224327087\n"
     ]
    }
   ],
   "source": [
    "print(\"Average precision : {}, Average Recall : {}\".format(sum(prec)/5,sum(rec)/5))"
   ]
  },
  {
   "cell_type": "code",
   "execution_count": 26,
   "metadata": {},
   "outputs": [],
   "source": [
    "def f_score(p,r):\n",
    "    return 2*(p*r)/(p+r)\n",
    "\n",
    "best_fscore=f_score(best_precision,best_recall)"
   ]
  },
  {
   "cell_type": "code",
   "execution_count": 27,
   "metadata": {},
   "outputs": [
    {
     "name": "stdout",
     "output_type": "stream",
     "text": [
      "Best Model Precision : 0.9164796471595764, Recall : 0.8584083914756775 and F-Score : 0.8864940239761467\n"
     ]
    }
   ],
   "source": [
    "print(\"Best Model Precision : {}, Recall : {} and F-Score : {}\".format(best_precision,\n",
    "                                                                       best_recall,best_fscore))"
   ]
  },
  {
   "cell_type": "code",
   "execution_count": 28,
   "metadata": {},
   "outputs": [],
   "source": [
    "reverse_word_map = dict(map(reversed, tags_tokenizer.word_index.items()))"
   ]
  },
  {
   "cell_type": "markdown",
   "metadata": {},
   "source": [
    "### Decoding the predicted tags in the best_pred_set"
   ]
  },
  {
   "cell_type": "code",
   "execution_count": 29,
   "metadata": {},
   "outputs": [],
   "source": [
    "def decode_pred(Y):\n",
    "    #Defining an empty matrix of zeros of shape of best_pred_set\n",
    "    out = np.zeros(Y.shape)\n",
    "    #Finding the tag index for each sequence which has the highest probablity value \n",
    "    idx = Y.argmax(axis=-1)\n",
    "    #Setting that value to 1 and rest to 0\n",
    "    out[np.arange(Y.shape[0])[:,None],np.arange(Y.shape[1]),idx] = 1\n",
    "    pred=np.argmax(out, axis=-1)\n",
    "    return pred\n",
    "    "
   ]
  },
  {
   "cell_type": "code",
   "execution_count": 30,
   "metadata": {},
   "outputs": [
    {
     "data": {
      "text/plain": [
       "array([1, 1, 1, 2, 3, 1, 1, 1, 1, 1, 1, 1, 1, 1, 1, 1, 1, 1, 1, 1, 1, 1,\n",
       "       0, 0, 0, 0, 0, 0, 0, 0, 0, 0, 0, 0, 0, 0, 0], dtype=int64)"
      ]
     },
     "execution_count": 30,
     "metadata": {},
     "output_type": "execute_result"
    }
   ],
   "source": [
    "#Finding the index having the max value among the 21 tag values for a certain sequence\n",
    "best_pred=decode_pred(best_pred_set)\n",
    "best_test=np.argmax(best_test_set,axis=2)\n",
    "#Actual Tags(Encoded) for the 2nd sequence in Test Set\n",
    "best_test[3]"
   ]
  },
  {
   "cell_type": "code",
   "execution_count": 31,
   "metadata": {},
   "outputs": [
    {
     "data": {
      "text/plain": [
       "array([0, 1, 1, 1, 1, 1, 1, 1, 1, 1, 1, 1, 1, 1, 1, 1, 1, 1, 0, 0, 0, 0,\n",
       "       0, 0, 0, 0, 0, 0, 0, 0, 0, 0, 0, 0, 0, 0, 0], dtype=int64)"
      ]
     },
     "execution_count": 31,
     "metadata": {},
     "output_type": "execute_result"
    }
   ],
   "source": [
    "#Predicted Tags(Encoded) for the 2nd sequence in Test Set\n",
    "best_pred[3]"
   ]
  },
  {
   "cell_type": "markdown",
   "metadata": {},
   "source": [
    "### Class-wise accuracy for the different tags"
   ]
  },
  {
   "cell_type": "code",
   "execution_count": 32,
   "metadata": {},
   "outputs": [],
   "source": [
    "true_positive=[0]*(NUM_TAGS)\n",
    "actual_count=[0]*(NUM_TAGS)\n",
    "for i in range(best_test.shape[0]):\n",
    "    for j in range(best_test.shape[1]):\n",
    "        if best_test[i][j]==0: #Ignore if its 0 as it is present due to padding\n",
    "            continue\n",
    "        #if both are equal then increment count by 1 for true positive case\n",
    "        if best_test[i][j]==best_pred[i][j]:\n",
    "            true_positive[best_test[i][j]]+=1\n",
    "        actual_count[best_test[i][j]]+=1"
   ]
  },
  {
   "cell_type": "code",
   "execution_count": 33,
   "metadata": {},
   "outputs": [
    {
     "data": {
      "text/plain": [
       "([0, 3210, 100, 57], [0, 2978, 0, 0])"
      ]
     },
     "execution_count": 33,
     "metadata": {},
     "output_type": "execute_result"
    }
   ],
   "source": [
    "actual_count,true_positive"
   ]
  },
  {
   "cell_type": "code",
   "execution_count": 34,
   "metadata": {},
   "outputs": [
    {
     "name": "stdout",
     "output_type": "stream",
     "text": [
      "****************************************************************************************************\n",
      "             Class-Wise Accuracies for different classes are \n",
      "****************************************************************************************************\n",
      "Accuracy of Tag - Class o is : 92.77258566978193 %\n",
      "Accuracy of Tag - Class b is : 0.0 %\n",
      "Accuracy of Tag - Class i is : 0.0 %\n"
     ]
    }
   ],
   "source": [
    "print(\"*\"*100)\n",
    "print(\"             Class-Wise Accuracies for different classes are \")\n",
    "print(\"*\"*100)\n",
    "class_accuracies=[]\n",
    "for i in range(1,NUM_TAGS):\n",
    "    if actual_count[i]!=0:\n",
    "        class_accuracies.append((true_positive[i]/actual_count[i])*100)\n",
    "        print(\"Accuracy of Tag - Class {} is : {} %\".format(reverse_word_map.get(i),(class_accuracies[i-1])))\n",
    "    else:\n",
    "        class_accuracies.append(0)\n",
    "        print(\"Accuracy of Tag - Class {} is : 0.0 % \".format(reverse_word_map.get(i)))"
   ]
  },
  {
   "cell_type": "code",
   "execution_count": 35,
   "metadata": {},
   "outputs": [
    {
     "data": {
      "image/png": "[encoded data removed]",
      "text/plain": [
       "<Figure size 1008x360 with 1 Axes>"
      ]
     },
     "metadata": {},
     "output_type": "display_data"
    }
   ],
   "source": [
    "fig = plt.figure(figsize = (14, 5)) \n",
    "# creating the bar plot \n",
    "category_list=[str(reverse_word_map.get(i)) for i in range(1,NUM_TAGS)]\n",
    "plt.bar(category_list, class_accuracies, color ='blue',  \n",
    "        width = 0.4) \n",
    "  \n",
    "plt.xlabel(\"Tag - Classes\") \n",
    "plt.ylabel(\"Percentage Accuracy\") \n",
    "plt.title(\"Different Tag - Classes Accuracy\") \n",
    "plt.show() "
   ]
  },
  {
   "cell_type": "markdown",
   "metadata": {},
   "source": [
    "### Importing Test Data"
   ]
  },
  {
   "cell_type": "code",
   "execution_count": 36,
   "metadata": {},
   "outputs": [],
   "source": [
    "test_sentences_words=[]\n",
    "file = open('NER-Dataset--TestSet.txt', 'r')\n",
    "lines = file.readlines()\n",
    "temp_sentence_words=[]\n",
    "for line in lines:\n",
    "    if line==\"\\n\":#Blank line represents end of sentence\n",
    "        test_sentences_words.append(temp_sentence_words)\n",
    "        temp_sentence_words=[]\n",
    "        continue\n",
    "    temp=line.split(\"\\n\")[0]\n",
    "    temp_sentence_words.append(temp)\n",
    "file.close()"
   ]
  },
  {
   "cell_type": "code",
   "execution_count": 37,
   "metadata": {},
   "outputs": [
    {
     "data": {
      "text/plain": [
       "['@SammieLynnsMom',\n",
       " '@tg1.781',\n",
       " 'they',\n",
       " 'will',\n",
       " 'be',\n",
       " 'all',\n",
       " 'done',\n",
       " 'by',\n",
       " 'Sunday',\n",
       " 'trust',\n",
       " 'me',\n",
       " '*wink*']"
      ]
     },
     "execution_count": 37,
     "metadata": {},
     "output_type": "execute_result"
    }
   ],
   "source": [
    "test_sentences_words[0]"
   ]
  },
  {
   "cell_type": "markdown",
   "metadata": {},
   "source": [
    "### Tokenizing words"
   ]
  },
  {
   "cell_type": "code",
   "execution_count": 38,
   "metadata": {},
   "outputs": [],
   "source": [
    "X_Test=word_tokenizer.texts_to_sequences(test_sentences_words)"
   ]
  },
  {
   "cell_type": "code",
   "execution_count": 39,
   "metadata": {},
   "outputs": [],
   "source": [
    "X_Test_padded=pad_sequences(X_Test, maxlen=MAX_SEQ_LENGTH, padding=\"post\")"
   ]
  },
  {
   "cell_type": "code",
   "execution_count": 40,
   "metadata": {},
   "outputs": [],
   "source": [
    "Y_Predicted_Set=best_model.predict(X_Test_padded)"
   ]
  },
  {
   "cell_type": "code",
   "execution_count": 41,
   "metadata": {},
   "outputs": [
    {
     "data": {
      "text/plain": [
       "array([1, 1, 1, 1, 1, 1, 1, 1, 1, 1, 1, 1, 1, 0, 0, 0, 0, 0, 0, 0, 0, 0,\n",
       "       0, 0, 0, 0, 0, 0, 0, 0, 0, 0, 0, 0, 0, 0, 0], dtype=int64)"
      ]
     },
     "execution_count": 41,
     "metadata": {},
     "output_type": "execute_result"
    }
   ],
   "source": [
    "Y_Predicted=decode_pred(Y_Predicted_Set)\n",
    "Y_Predicted[0]"
   ]
  },
  {
   "cell_type": "code",
   "execution_count": 42,
   "metadata": {},
   "outputs": [],
   "source": [
    "# Function takes a tokenized sentence and returns the words\n",
    "def sequence_to_text(list_of_indices):\n",
    "    # Looking up words in dictionary\n",
    "    words = [reverse_word_map.get(letter) for letter in list_of_indices]\n",
    "    return(words)\n",
    "\n",
    "# Creating texts \n",
    "Y_Pred_Labels = list(map(sequence_to_text, Y_Predicted))"
   ]
  },
  {
   "cell_type": "code",
   "execution_count": 43,
   "metadata": {},
   "outputs": [
    {
     "data": {
      "text/plain": [
       "['o',\n",
       " 'o',\n",
       " 'o',\n",
       " 'o',\n",
       " 'o',\n",
       " 'o',\n",
       " 'o',\n",
       " 'o',\n",
       " 'o',\n",
       " 'o',\n",
       " 'o',\n",
       " 'o',\n",
       " 'o',\n",
       " None,\n",
       " None,\n",
       " None,\n",
       " None,\n",
       " None,\n",
       " None,\n",
       " None,\n",
       " None,\n",
       " None,\n",
       " None,\n",
       " None,\n",
       " None,\n",
       " None,\n",
       " None,\n",
       " None,\n",
       " None,\n",
       " None,\n",
       " None,\n",
       " None,\n",
       " None,\n",
       " None,\n",
       " None,\n",
       " None,\n",
       " None]"
      ]
     },
     "execution_count": 43,
     "metadata": {},
     "output_type": "execute_result"
    }
   ],
   "source": [
    "Y_Pred_Labels[0]"
   ]
  },
  {
   "cell_type": "code",
   "execution_count": null,
   "metadata": {},
   "outputs": [],
   "source": []
  },
  {
   "cell_type": "code",
   "execution_count": null,
   "metadata": {},
   "outputs": [],
   "source": []
  }
 ],
 "metadata": {
  "kernelspec": {
   "display_name": "Python 3",
   "language": "python",
   "name": "python3"
  },
  "language_info": {
   "codemirror_mode": {
    "name": "ipython",
    "version": 3
   },
   "file_extension": ".py",
   "mimetype": "text/x-python",
   "name": "python",
   "nbconvert_exporter": "python",
   "pygments_lexer": "ipython3",
   "version": "3.6.10"
  }
 },
 "nbformat": 4,
 "nbformat_minor": 4
}
