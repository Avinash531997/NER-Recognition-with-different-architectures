{
 "cells": [
  {
   "cell_type": "markdown",
   "metadata": {},
   "source": [
    "### Importing libraries"
   ]
  },
  {
   "cell_type": "code",
   "execution_count": 1,
   "metadata": {},
   "outputs": [
    {
     "name": "stderr",
     "output_type": "stream",
     "text": [
      "\n",
      "Bad key \"text.kerning_factor\" on line 4 in\n",
      "C:\\Users\\VISHAL SINGH\\Anaconda3\\lib\\site-packages\\matplotlib\\mpl-data\\stylelib\\_classic_test_patch.mplstyle.\n",
      "You probably need to get an updated matplotlibrc file from\n",
      "https://github.com/matplotlib/matplotlib/blob/v3.1.3/matplotlibrc.template\n",
      "or from the matplotlib source distribution\n"
     ]
    }
   ],
   "source": [
    "import numpy as np\n",
    "import pandas as pd\n",
    "import matplotlib.pyplot as plt\n",
    "import random\n",
    "\n",
    "from sklearn.metrics import confusion_matrix,classification_report\n",
    "from sklearn.model_selection import train_test_split\n",
    "\n",
    "from tensorflow.keras.preprocessing.text import Tokenizer\n",
    "\n",
    "plt.style.use(\"ggplot\")\n",
    "\n",
    "np.random.seed(0)"
   ]
  },
  {
   "cell_type": "markdown",
   "metadata": {},
   "source": [
    "### Loading and Exploring the NER Dataset"
   ]
  },
  {
   "cell_type": "code",
   "execution_count": 2,
   "metadata": {},
   "outputs": [],
   "source": [
    "sentences_words=[]\n",
    "sentences_tags=[]\n",
    "file = open('NER-Dataset-10Types-Train.txt', 'r')\n",
    "lines = file.readlines()\n",
    "temp_sentence_words=[]\n",
    "temp_sentence_tags=[]\n",
    "for line in lines:\n",
    "    if line==\"\\n\":#Sentences ends at every blank line\n",
    "        if len(temp_sentence_words)==0:#If zero length sentence is formed, then ignore\n",
    "            continue\n",
    "        sentences_words.append(temp_sentence_words)\n",
    "        temp_sentence_words=[]\n",
    "        sentences_tags.append(temp_sentence_tags)\n",
    "        temp_sentence_tags=[]\n",
    "        continue\n",
    "    temp=line.split(\"\\t\")#splitting to get the tag and the word\n",
    "    temp[1]=temp[1].split(\"\\n\")[0]\n",
    "\n",
    "    temp_sentence_words.append(temp[0])\n",
    "    temp_sentence_tags.append(temp[1])\n",
    "file.close()"
   ]
  },
  {
   "cell_type": "code",
   "execution_count": 3,
   "metadata": {},
   "outputs": [
    {
     "data": {
      "text/plain": [
       "['@angelportugues', 'LMAO', '!', 'When', 'is', 'tht', 'one', 'day', '?:', 'P']"
      ]
     },
     "execution_count": 3,
     "metadata": {},
     "output_type": "execute_result"
    }
   ],
   "source": [
    "sentences_words[3]"
   ]
  },
  {
   "cell_type": "code",
   "execution_count": 4,
   "metadata": {},
   "outputs": [
    {
     "data": {
      "text/plain": [
       "['O', 'O', 'O', 'O', 'O', 'O', 'O', 'O', 'O', 'O']"
      ]
     },
     "execution_count": 4,
     "metadata": {},
     "output_type": "execute_result"
    }
   ],
   "source": [
    "sentences_tags[3]"
   ]
  },
  {
   "cell_type": "code",
   "execution_count": 5,
   "metadata": {},
   "outputs": [],
   "source": [
    "X=sentences_words\n",
    "Y=sentences_tags"
   ]
  },
  {
   "cell_type": "code",
   "execution_count": 6,
   "metadata": {},
   "outputs": [
    {
     "data": {
      "text/plain": [
       "(900, 900)"
      ]
     },
     "execution_count": 6,
     "metadata": {},
     "output_type": "execute_result"
    }
   ],
   "source": [
    "len(X),len(Y)"
   ]
  },
  {
   "cell_type": "markdown",
   "metadata": {},
   "source": [
    "### Tokenizing"
   ]
  },
  {
   "cell_type": "code",
   "execution_count": 7,
   "metadata": {},
   "outputs": [
    {
     "data": {
      "text/plain": [
       "[1346, 231, 8, 16, 18, 808, 66, 22, 1347, 809]"
      ]
     },
     "execution_count": 7,
     "metadata": {},
     "output_type": "execute_result"
    }
   ],
   "source": [
    "word_tokenizer = Tokenizer()   #initializing tokenizer\n",
    "word_tokenizer.fit_on_texts(X) \n",
    "X_encoded = word_tokenizer.texts_to_sequences(X) #tokenizing input based on index of every word in vocab set\n",
    "X_encoded[3]"
   ]
  },
  {
   "cell_type": "code",
   "execution_count": 8,
   "metadata": {},
   "outputs": [
    {
     "data": {
      "text/plain": [
       "[1, 1, 1, 1, 1, 1, 1, 1, 1, 1]"
      ]
     },
     "execution_count": 8,
     "metadata": {},
     "output_type": "execute_result"
    }
   ],
   "source": [
    "tags_tokenizer = Tokenizer()\n",
    "tags_tokenizer.fit_on_texts(Y)\n",
    "Y_encoded = tags_tokenizer.texts_to_sequences(Y) # tokenizing each tag based on index in tag vocab.\n",
    "Y_encoded[3]"
   ]
  },
  {
   "cell_type": "code",
   "execution_count": 9,
   "metadata": {},
   "outputs": [
    {
     "data": {
      "text/plain": [
       "21"
      ]
     },
     "execution_count": 9,
     "metadata": {},
     "output_type": "execute_result"
    }
   ],
   "source": [
    "NUM_TAGS=len(tags_tokenizer.word_counts)\n",
    "NUM_TAGS"
   ]
  },
  {
   "cell_type": "code",
   "execution_count": 10,
   "metadata": {},
   "outputs": [
    {
     "data": {
      "text/plain": [
       "4542"
      ]
     },
     "execution_count": 10,
     "metadata": {},
     "output_type": "execute_result"
    }
   ],
   "source": [
    "VOCAB_SIZE=len(word_tokenizer.word_counts)\n",
    "VOCAB_SIZE"
   ]
  },
  {
   "cell_type": "code",
   "execution_count": 11,
   "metadata": {},
   "outputs": [
    {
     "data": {
      "text/plain": [
       "900"
      ]
     },
     "execution_count": 11,
     "metadata": {},
     "output_type": "execute_result"
    }
   ],
   "source": [
    "#Number of Sentences\n",
    "len(X)"
   ]
  },
  {
   "cell_type": "markdown",
   "metadata": {},
   "source": [
    "#### Length of the sentences"
   ]
  },
  {
   "cell_type": "code",
   "execution_count": 12,
   "metadata": {},
   "outputs": [
    {
     "data": {
      "image/png": "[encoded data removed]",
      "text/plain": [
       "<Figure size 432x288 with 1 Axes>"
      ]
     },
     "metadata": {},
     "output_type": "display_data"
    }
   ],
   "source": [
    "plt.hist([len(s) for s in X], bins=100, color=\"blue\")\n",
    "plt.show()\n",
    "MAX_SEQ_LENGTH=max([len(s) for s in X])"
   ]
  },
  {
   "cell_type": "code",
   "execution_count": 13,
   "metadata": {},
   "outputs": [
    {
     "data": {
      "text/plain": [
       "37"
      ]
     },
     "execution_count": 13,
     "metadata": {},
     "output_type": "execute_result"
    }
   ],
   "source": [
    "MAX_SEQ_LENGTH"
   ]
  },
  {
   "cell_type": "markdown",
   "metadata": {},
   "source": [
    "### Padding Input Sentences and Tags"
   ]
  },
  {
   "cell_type": "code",
   "execution_count": 14,
   "metadata": {},
   "outputs": [
    {
     "name": "stderr",
     "output_type": "stream",
     "text": [
      "Using TensorFlow backend.\n"
     ]
    },
    {
     "data": {
      "text/plain": [
       "array([1333,  804,   35,    8,  108,  197,   30,  805,   45,  198,   49,\n",
       "       1334,   87,   63,    4,   30,  287, 1335,  584,  379,   95, 1336,\n",
       "        379, 1337,    8,    0,    0,    0,    0,    0,    0,    0,    0,\n",
       "          0,    0,    0,    0])"
      ]
     },
     "execution_count": 14,
     "metadata": {},
     "output_type": "execute_result"
    }
   ],
   "source": [
    "from tensorflow.keras.preprocessing.sequence import pad_sequences\n",
    "from keras.utils import to_categorical\n",
    "\n",
    "X_padded = pad_sequences(X_encoded, maxlen=MAX_SEQ_LENGTH, padding=\"post\")\n",
    "X_padded[0]"
   ]
  },
  {
   "cell_type": "code",
   "execution_count": 15,
   "metadata": {},
   "outputs": [
    {
     "data": {
      "text/plain": [
       "array([1, 1, 1, 1, 1, 1, 1, 1, 1, 1, 1, 1, 1, 1, 1, 1, 1, 1, 1, 1, 1, 1,\n",
       "       1, 1, 1, 0, 0, 0, 0, 0, 0, 0, 0, 0, 0, 0, 0])"
      ]
     },
     "execution_count": 15,
     "metadata": {},
     "output_type": "execute_result"
    }
   ],
   "source": [
    "Y_padded = pad_sequences(Y_encoded, maxlen=MAX_SEQ_LENGTH, padding=\"post\")\n",
    "Y_padded[0]"
   ]
  },
  {
   "cell_type": "code",
   "execution_count": 16,
   "metadata": {},
   "outputs": [],
   "source": [
    "#Re-Assigning to X and Y for ease of use\n",
    "X, Y = X_padded, Y_padded"
   ]
  },
  {
   "cell_type": "code",
   "execution_count": 17,
   "metadata": {},
   "outputs": [
    {
     "name": "stdout",
     "output_type": "stream",
     "text": [
      "(900, 37, 22)\n"
     ]
    }
   ],
   "source": [
    "Y = to_categorical(Y)\n",
    "print(Y.shape)"
   ]
  },
  {
   "cell_type": "markdown",
   "metadata": {},
   "source": [
    "### Build and Compile a GRU Model"
   ]
  },
  {
   "cell_type": "code",
   "execution_count": 18,
   "metadata": {},
   "outputs": [],
   "source": [
    "from tensorflow.keras.models import Sequential\n",
    "from tensorflow.keras.layers import Embedding\n",
    "from tensorflow.keras.layers import Dense, Input\n",
    "from tensorflow.keras.layers import TimeDistributed\n",
    "from tensorflow.keras.layers import GRU,SpatialDropout1D,Dropout\n",
    "from tensorflow.keras.models import Model\n",
    "from tensorflow.keras.metrics import Precision, Recall"
   ]
  },
  {
   "cell_type": "code",
   "execution_count": 19,
   "metadata": {},
   "outputs": [],
   "source": [
    "EMBED_DIM=50\n",
    "NUM_TAGS=Y.shape[2]\n",
    "VOCAB_SIZE+=1"
   ]
  },
  {
   "cell_type": "code",
   "execution_count": 20,
   "metadata": {},
   "outputs": [],
   "source": [
    "def evaluate_model(X_train,Y_train,X_test,Y_test):\n",
    "    VALID_SIZE=0.15 #Validation Split Size\n",
    "    #Train - Validation Set Split\n",
    "    X_train, X_validation, Y_train, Y_validation = train_test_split(X_train, Y_train, test_size=VALID_SIZE, random_state=1)\n",
    "    # total number of tags\n",
    "    \n",
    "    model = Sequential()\n",
    "\n",
    "    # Embedding layer \n",
    "    model.add(Embedding(input_dim     =  VOCAB_SIZE,         \n",
    "                            output_dim    =  EMBED_DIM,          \n",
    "                            input_length  =  MAX_SEQ_LENGTH,              \n",
    "                            trainable     =  True                     # True - update the embeddings while training\n",
    "    ))\n",
    "\n",
    "    \n",
    "    #Adding GRU Layer \n",
    "    model.add(GRU(64, \n",
    "                  return_sequences=True  # True to return whole sequence output \n",
    "    ))\n",
    "\n",
    "    model.add(Dropout(0.2)) # Adding dropout to avoid overfitting\n",
    "    \n",
    "    # Adding TimeDistributed layer - Softmax output based on number of classes or tags\n",
    "    model.add(TimeDistributed(Dense(NUM_TAGS, activation='softmax')))\n",
    "\n",
    "    #Compiling model\n",
    "    model.compile(loss      =  'categorical_crossentropy',\n",
    "                      optimizer =  'adam',\n",
    "                      metrics   =  ['acc', Precision(), Recall()])\n",
    "    \n",
    "    \n",
    "    # model summary\n",
    "    model.summary()\n",
    "    #Hyper-parameters for the model\n",
    "    epochs=10\n",
    "    batch_size=128\n",
    "    \n",
    "\n",
    "    #Fitting Model\n",
    "    rnn_training = model.fit(X_train, Y_train, batch_size=batch_size, epochs=epochs, validation_data=(X_validation, Y_validation))\n",
    "    #Model Evaluation\n",
    "    loss, accuracy, precision, recall = model.evaluate(X_train, Y_train, verbose = 1)\n",
    "    print(\"Loss: {0},\\nTrain Accuracy: {1}\".format(loss, accuracy*100))\n",
    "    print(\"Precision: {0},\\nRecall: {1}\".format(precision, recall))\n",
    "    print(\" \"*50)\n",
    "    loss, accuracy, precision, recall = model.evaluate(X_test, Y_test, verbose = 1)\n",
    "    print(\"Loss: {0},\\nTest Accuracy: {1}\".format(loss, accuracy*100))\n",
    "    print(\"Precision: {0},\\nRecall: {1}\".format(precision, recall))\n",
    "    Y_pred=model.predict(X_test)\n",
    "    return model,Y_pred,Y_test,accuracy,precision,recall"
   ]
  },
  {
   "cell_type": "markdown",
   "metadata": {},
   "source": [
    "### 5 - Fold cross Validation"
   ]
  },
  {
   "cell_type": "code",
   "execution_count": 21,
   "metadata": {},
   "outputs": [
    {
     "name": "stdout",
     "output_type": "stream",
     "text": [
      "****************************************************************************************************\n",
      "                        Cross Validation - 1 iteration\n",
      "****************************************************************************************************\n",
      "Model: \"sequential\"\n",
      "_________________________________________________________________\n",
      "Layer (type)                 Output Shape              Param #   \n",
      "=================================================================\n",
      "embedding (Embedding)        (None, 37, 50)            227150    \n",
      "_________________________________________________________________\n",
      "gru (GRU)                    (None, 37, 64)            22272     \n",
      "_________________________________________________________________\n",
      "dropout (Dropout)            (None, 37, 64)            0         \n",
      "_________________________________________________________________\n",
      "time_distributed (TimeDistri (None, 37, 22)            1430      \n",
      "=================================================================\n",
      "Total params: 250,852\n",
      "Trainable params: 250,852\n",
      "Non-trainable params: 0\n",
      "_________________________________________________________________\n",
      "Epoch 1/10\n",
      "5/5 [==============================] - 9s 721ms/step - loss: 3.0664 - acc: 0.2730 - precision: 0.0000e+00 - recall: 0.0000e+00 - val_loss: 2.9837 - val_acc: 0.8076 - val_precision: 0.0000e+00 - val_recall: 0.0000e+00\n",
      "Epoch 2/10\n",
      "5/5 [==============================] - 0s 91ms/step - loss: 2.9549 - acc: 0.8279 - precision: 0.0000e+00 - recall: 0.0000e+00 - val_loss: 2.8528 - val_acc: 0.8979 - val_precision: 0.0000e+00 - val_recall: 0.0000e+00\n",
      "Epoch 3/10\n",
      "5/5 [==============================] - 1s 112ms/step - loss: 2.8117 - acc: 0.8819 - precision: 0.0000e+00 - recall: 0.0000e+00 - val_loss: 2.6611 - val_acc: 0.8589 - val_precision: 0.0000e+00 - val_recall: 0.0000e+00\n",
      "Epoch 4/10\n",
      "5/5 [==============================] - 1s 185ms/step - loss: 2.5939 - acc: 0.8068 - precision: 0.0000e+00 - recall: 0.0000e+00 - val_loss: 2.3417 - val_acc: 0.6244 - val_precision: 0.0000e+00 - val_recall: 0.0000e+00\n",
      "Epoch 5/10\n",
      "5/5 [==============================] - 1s 172ms/step - loss: 2.2219 - acc: 0.6165 - precision: 0.3333 - recall: 1.7665e-04 - val_loss: 1.7582 - val_acc: 0.5205 - val_precision: 1.0000 - val_recall: 0.1682\n",
      "Epoch 6/10\n",
      "5/5 [==============================] - 1s 181ms/step - loss: 1.5721 - acc: 0.5390 - precision: 0.9851 - recall: 0.2842 - val_loss: 1.2558 - val_acc: 0.5018 - val_precision: 0.7367 - val_recall: 0.4662\n",
      "Epoch 7/10\n",
      "5/5 [==============================] - 1s 153ms/step - loss: 1.2440 - acc: 0.5163 - precision: 0.6860 - recall: 0.4707 - val_loss: 1.0490 - val_acc: 0.5673 - val_precision: 0.6702 - val_recall: 0.4700\n",
      "Epoch 8/10\n",
      "5/5 [==============================] - 1s 152ms/step - loss: 0.9720 - acc: 0.6520 - precision: 0.7166 - recall: 0.4798 - val_loss: 0.8334 - val_acc: 0.9680 - val_precision: 0.9883 - val_recall: 0.6574\n",
      "Epoch 9/10\n",
      "5/5 [==============================] - 1s 154ms/step - loss: 0.8177 - acc: 0.9048 - precision: 0.9121 - recall: 0.6297 - val_loss: 0.7742 - val_acc: 0.9177 - val_precision: 0.9189 - val_recall: 0.7315\n",
      "Epoch 10/10\n",
      "5/5 [==============================] - 1s 204ms/step - loss: 0.7363 - acc: 0.8855 - precision: 0.8817 - recall: 0.7186 - val_loss: 0.6459 - val_acc: 0.9652 - val_precision: 0.9734 - val_recall: 0.8243\n",
      "20/20 [==============================] - 0s 15ms/step - loss: 0.6096 - acc: 0.9679 - precision: 0.9748 - recall: 0.8406\n",
      "Loss: 0.6096120476722717,\n",
      "Train Accuracy: 96.78502082824707\n",
      "Precision: 0.9748028516769409,\n",
      "Recall: 0.8405758738517761\n",
      "                                                  \n",
      "6/6 [==============================] - 0s 12ms/step - loss: 0.6598 - acc: 0.9613 - precision: 0.9694 - recall: 0.8234\n",
      "Loss: 0.659839928150177,\n",
      "Test Accuracy: 96.12612724304199\n",
      "Precision: 0.9694184064865112,\n",
      "Recall: 0.823423445224762\n",
      "****************************************************************************************************\n",
      "                        Cross Validation - 2 iteration\n",
      "****************************************************************************************************\n",
      "Model: \"sequential_1\"\n",
      "_________________________________________________________________\n",
      "Layer (type)                 Output Shape              Param #   \n",
      "=================================================================\n",
      "embedding_1 (Embedding)      (None, 37, 50)            227150    \n",
      "_________________________________________________________________\n",
      "gru_1 (GRU)                  (None, 37, 64)            22272     \n",
      "_________________________________________________________________\n",
      "dropout_1 (Dropout)          (None, 37, 64)            0         \n",
      "_________________________________________________________________\n",
      "time_distributed_1 (TimeDist (None, 37, 22)            1430      \n",
      "=================================================================\n",
      "Total params: 250,852\n",
      "Trainable params: 250,852\n",
      "Non-trainable params: 0\n",
      "_________________________________________________________________\n",
      "Epoch 1/10\n",
      "5/5 [==============================] - 10s 682ms/step - loss: 3.0408 - acc: 0.4090 - precision_1: 0.0000e+00 - recall_1: 0.0000e+00 - val_loss: 2.9427 - val_acc: 0.6121 - val_precision_1: 0.0000e+00 - val_recall_1: 0.0000e+00\n",
      "Epoch 2/10\n",
      "5/5 [==============================] - 1s 109ms/step - loss: 2.9078 - acc: 0.6018 - precision_1: 0.0000e+00 - recall_1: 0.0000e+00 - val_loss: 2.7741 - val_acc: 0.5220 - val_precision_1: 0.0000e+00 - val_recall_1: 0.0000e+00\n",
      "Epoch 3/10\n",
      "5/5 [==============================] - 0s 105ms/step - loss: 2.7185 - acc: 0.5330 - precision_1: 0.0000e+00 - recall_1: 0.0000e+00 - val_loss: 2.5110 - val_acc: 0.4922 - val_precision_1: 0.0000e+00 - val_recall_1: 0.0000e+00\n",
      "Epoch 4/10\n",
      "5/5 [==============================] - 1s 176ms/step - loss: 2.4215 - acc: 0.4931 - precision_1: 0.0000e+00 - recall_1: 0.0000e+00 - val_loss: 2.0459 - val_acc: 0.4852 - val_precision_1: 0.0000e+00 - val_recall_1: 0.0000e+00\n",
      "Epoch 5/10\n",
      "5/5 [==============================] - 1s 187ms/step - loss: 1.8923 - acc: 0.4906 - precision_1: 1.0000 - recall_1: 0.1227 - val_loss: 1.4612 - val_acc: 0.4810 - val_precision_1: 0.9910 - val_recall_1: 0.4399\n",
      "Epoch 6/10\n",
      "5/5 [==============================] - 1s 192ms/step - loss: 1.4471 - acc: 0.4791 - precision_1: 0.8337 - recall_1: 0.4496 - val_loss: 1.3466 - val_acc: 0.4917 - val_precision_1: 0.6671 - val_recall_1: 0.4655\n",
      "Epoch 7/10\n",
      "5/5 [==============================] - 1s 181ms/step - loss: 1.2591 - acc: 0.5219 - precision_1: 0.6872 - recall_1: 0.4687 - val_loss: 1.0248 - val_acc: 0.6276 - val_precision_1: 0.8101 - val_recall_1: 0.4622\n",
      "Epoch 8/10\n",
      "5/5 [==============================] - 1s 169ms/step - loss: 0.9847 - acc: 0.7475 - precision_1: 0.8882 - recall_1: 0.4675 - val_loss: 0.8884 - val_acc: 0.9662 - val_precision_1: 0.9927 - val_recall_1: 0.5813\n",
      "Epoch 9/10\n",
      "5/5 [==============================] - 1s 177ms/step - loss: 0.8501 - acc: 0.9251 - precision_1: 0.9505 - recall_1: 0.6091 - val_loss: 0.7425 - val_acc: 0.9565 - val_precision_1: 0.9696 - val_recall_1: 0.7665\n",
      "Epoch 10/10\n",
      "5/5 [==============================] - 1s 166ms/step - loss: 0.7208 - acc: 0.9161 - precision_1: 0.9200 - recall_1: 0.7443 - val_loss: 0.6677 - val_acc: 0.9457 - val_precision_1: 0.9515 - val_recall_1: 0.8046\n",
      "20/20 [==============================] - 0s 13ms/step - loss: 0.6426 - acc: 0.9542 - precision_1: 0.9600 - recall_1: 0.8275 0s - loss: 0.6160 - acc: 0.9578 - precision_1: 0.9641 - recall_1\n",
      "Loss: 0.6426198482513428,\n",
      "Train Accuracy: 95.42483687400818\n",
      "Precision: 0.9599856734275818,\n",
      "Recall: 0.8274598121643066\n",
      "                                                  \n",
      "6/6 [==============================] - 0s 11ms/step - loss: 0.6260 - acc: 0.9559 - precision_1: 0.9641 - recall_1: 0.8182\n",
      "Loss: 0.6260015964508057,\n",
      "Test Accuracy: 95.58558464050293\n",
      "Precision: 0.9640834927558899,\n",
      "Recall: 0.8181681632995605\n",
      "****************************************************************************************************\n",
      "                        Cross Validation - 3 iteration\n",
      "****************************************************************************************************\n",
      "Model: \"sequential_2\"\n",
      "_________________________________________________________________\n",
      "Layer (type)                 Output Shape              Param #   \n",
      "=================================================================\n",
      "embedding_2 (Embedding)      (None, 37, 50)            227150    \n",
      "_________________________________________________________________\n",
      "gru_2 (GRU)                  (None, 37, 64)            22272     \n",
      "_________________________________________________________________\n",
      "dropout_2 (Dropout)          (None, 37, 64)            0         \n",
      "_________________________________________________________________\n",
      "time_distributed_2 (TimeDist (None, 37, 22)            1430      \n",
      "=================================================================\n",
      "Total params: 250,852\n",
      "Trainable params: 250,852\n",
      "Non-trainable params: 0\n",
      "_________________________________________________________________\n",
      "Epoch 1/10\n"
     ]
    },
    {
     "name": "stdout",
     "output_type": "stream",
     "text": [
      "5/5 [==============================] - 12s 606ms/step - loss: 3.0597 - acc: 0.3284 - precision_2: 0.0000e+00 - recall_2: 0.0000e+00 - val_loss: 2.9749 - val_acc: 0.9379 - val_precision_2: 0.0000e+00 - val_recall_2: 0.0000e+00\n",
      "Epoch 2/10\n",
      "5/5 [==============================] - 1s 110ms/step - loss: 2.9479 - acc: 0.9437 - precision_2: 0.0000e+00 - recall_2: 0.0000e+00 - val_loss: 2.8389 - val_acc: 0.9655 - val_precision_2: 0.0000e+00 - val_recall_2: 0.0000e+00\n",
      "Epoch 3/10\n",
      "5/5 [==============================] - 0s 104ms/step - loss: 2.8021 - acc: 0.9654 - precision_2: 0.0000e+00 - recall_2: 0.0000e+00 - val_loss: 2.6382 - val_acc: 0.9697 - val_precision_2: 0.0000e+00 - val_recall_2: 0.0000e+00\n",
      "Epoch 4/10\n",
      "5/5 [==============================] - 0s 108ms/step - loss: 2.5771 - acc: 0.9702 - precision_2: 0.0000e+00 - recall_2: 0.0000e+00 - val_loss: 2.3021 - val_acc: 0.9695 - val_precision_2: 0.0000e+00 - val_recall_2: 0.0000e+00\n",
      "Epoch 5/10\n",
      "5/5 [==============================] - 0s 103ms/step - loss: 2.1885 - acc: 0.9643 - precision_2: 0.0000e+00 - recall_2: 0.0000e+00 - val_loss: 1.6653 - val_acc: 0.9617 - val_precision_2: 0.0000e+00 - val_recall_2: 0.0000e+00\n",
      "Epoch 6/10\n",
      "5/5 [==============================] - 1s 157ms/step - loss: 1.4807 - acc: 0.8914 - precision_2: 0.9926 - recall_2: 0.1752 - val_loss: 0.9570 - val_acc: 0.7180 - val_precision_2: 0.8279 - val_recall_2: 0.4887\n",
      "Epoch 7/10\n",
      "5/5 [==============================] - 1s 163ms/step - loss: 0.9529 - acc: 0.7219 - precision_2: 0.7607 - recall_2: 0.4846 - val_loss: 0.8208 - val_acc: 0.7765 - val_precision_2: 0.7398 - val_recall_2: 0.5528\n",
      "Epoch 8/10\n",
      "5/5 [==============================] - 1s 276ms/step - loss: 0.8466 - acc: 0.7971 - precision_2: 0.7783 - recall_2: 0.6200 - val_loss: 0.7633 - val_acc: 0.9515 - val_precision_2: 0.9604 - val_recall_2: 0.8198\n",
      "Epoch 9/10\n",
      "5/5 [==============================] - 1s 210ms/step - loss: 0.7807 - acc: 0.8428 - precision_2: 0.8312 - recall_2: 0.7169 - val_loss: 0.6591 - val_acc: 0.9670 - val_precision_2: 0.9744 - val_recall_2: 0.8579\n",
      "Epoch 10/10\n",
      "5/5 [==============================] - 1s 247ms/step - loss: 0.6741 - acc: 0.9003 - precision_2: 0.8964 - recall_2: 0.7932 - val_loss: 0.5574 - val_acc: 0.9650 - val_precision_2: 0.9722 - val_recall_2: 0.8654\n",
      "20/20 [==============================] - 0s 15ms/step - loss: 0.5544 - acc: 0.9663 - precision_2: 0.9703 - recall_2: 0.8721\n",
      "Loss: 0.554419994354248,\n",
      "Train Accuracy: 96.63045406341553\n",
      "Precision: 0.9703208804130554,\n",
      "Recall: 0.8720632195472717\n",
      "                                                  \n",
      "6/6 [==============================] - 0s 7ms/step - loss: 0.6111 - acc: 0.9622 - precision_2: 0.9662 - recall_2: 0.8631\n",
      "Loss: 0.6110652089118958,\n",
      "Test Accuracy: 96.21621370315552\n",
      "Precision: 0.966212809085846,\n",
      "Recall: 0.8630630373954773\n",
      "****************************************************************************************************\n",
      "                        Cross Validation - 4 iteration\n",
      "****************************************************************************************************\n",
      "Model: \"sequential_3\"\n",
      "_________________________________________________________________\n",
      "Layer (type)                 Output Shape              Param #   \n",
      "=================================================================\n",
      "embedding_3 (Embedding)      (None, 37, 50)            227150    \n",
      "_________________________________________________________________\n",
      "gru_3 (GRU)                  (None, 37, 64)            22272     \n",
      "_________________________________________________________________\n",
      "dropout_3 (Dropout)          (None, 37, 64)            0         \n",
      "_________________________________________________________________\n",
      "time_distributed_3 (TimeDist (None, 37, 22)            1430      \n",
      "=================================================================\n",
      "Total params: 250,852\n",
      "Trainable params: 250,852\n",
      "Non-trainable params: 0\n",
      "_________________________________________________________________\n",
      "Epoch 1/10\n",
      "5/5 [==============================] - 12s 616ms/step - loss: 3.0772 - acc: 0.1637 - precision_3: 0.0000e+00 - recall_3: 0.0000e+00 - val_loss: 3.0001 - val_acc: 0.8091 - val_precision_3: 0.0000e+00 - val_recall_3: 0.0000e+00\n",
      "Epoch 2/10\n",
      "5/5 [==============================] - 1s 117ms/step - loss: 2.9733 - acc: 0.8035 - precision_3: 0.0000e+00 - recall_3: 0.0000e+00 - val_loss: 2.8750 - val_acc: 0.8353 - val_precision_3: 0.0000e+00 - val_recall_3: 0.0000e+00\n",
      "Epoch 3/10\n",
      "5/5 [==============================] - 1s 118ms/step - loss: 2.8338 - acc: 0.8047 - precision_3: 0.0000e+00 - recall_3: 0.0000e+00 - val_loss: 2.6830 - val_acc: 0.7152 - val_precision_3: 0.0000e+00 - val_recall_3: 0.0000e+00\n",
      "Epoch 4/10\n",
      "5/5 [==============================] - 1s 111ms/step - loss: 2.6144 - acc: 0.7163 - precision_3: 0.0000e+00 - recall_3: 0.0000e+00 - val_loss: 2.3351 - val_acc: 0.5611 - val_precision_3: 0.0000e+00 - val_recall_3: 0.0000e+00\n",
      "Epoch 5/10\n",
      "5/5 [==============================] - 0s 106ms/step - loss: 2.1930 - acc: 0.6151 - precision_3: 0.3333 - recall_3: 1.3249e-04 - val_loss: 1.6196 - val_acc: 0.5303 - val_precision_3: 1.0000 - val_recall_3: 0.1329\n",
      "Epoch 6/10\n",
      "5/5 [==============================] - 1s 113ms/step - loss: 1.4268 - acc: 0.5590 - precision_3: 0.9286 - recall_3: 0.2773 - val_loss: 1.1147 - val_acc: 0.5215 - val_precision_3: 0.6735 - val_recall_3: 0.4822\n",
      "Epoch 7/10\n",
      "5/5 [==============================] - 1s 112ms/step - loss: 1.0888 - acc: 0.5406 - precision_3: 0.6393 - recall_3: 0.4650 - val_loss: 1.0272 - val_acc: 0.5968 - val_precision_3: 0.6262 - val_recall_3: 0.4867\n",
      "Epoch 8/10\n",
      "5/5 [==============================] - 1s 108ms/step - loss: 0.9773 - acc: 0.6290 - precision_3: 0.6269 - recall_3: 0.4938 - val_loss: 1.0061 - val_acc: 0.9522 - val_precision_3: 0.9641 - val_recall_3: 0.8061\n",
      "Epoch 9/10\n",
      "5/5 [==============================] - 1s 111ms/step - loss: 0.9374 - acc: 0.6780 - precision_3: 0.6467 - recall_3: 0.5422 - val_loss: 0.9474 - val_acc: 0.7958 - val_precision_3: 0.7881 - val_recall_3: 0.6644\n",
      "Epoch 10/10\n",
      "5/5 [==============================] - 1s 116ms/step - loss: 0.8653 - acc: 0.7309 - precision_3: 0.7103 - recall_3: 0.6128 - val_loss: 0.8848 - val_acc: 0.7693 - val_precision_3: 0.7562 - val_recall_3: 0.6567\n",
      "20/20 [==============================] - 0s 12ms/step - loss: 0.7723 - acc: 0.7768 - precision_3: 0.7595 - recall_3: 0.6697\n",
      "Loss: 0.7723466753959656,\n",
      "Train Accuracy: 77.68062353134155\n",
      "Precision: 0.7594531178474426,\n",
      "Recall: 0.6696696877479553\n",
      "                                                  \n",
      "6/6 [==============================] - 0s 14ms/step - loss: 0.8077 - acc: 0.7619 - precision_3: 0.7404 - recall_3: 0.6462\n",
      "Loss: 0.8076962232589722,\n",
      "Test Accuracy: 76.18618607521057\n",
      "Precision: 0.7404094338417053,\n",
      "Recall: 0.6462462544441223\n",
      "****************************************************************************************************\n",
      "                        Cross Validation - 5 iteration\n",
      "****************************************************************************************************\n",
      "Model: \"sequential_4\"\n",
      "_________________________________________________________________\n",
      "Layer (type)                 Output Shape              Param #   \n",
      "=================================================================\n",
      "embedding_4 (Embedding)      (None, 37, 50)            227150    \n",
      "_________________________________________________________________\n",
      "gru_4 (GRU)                  (None, 37, 64)            22272     \n",
      "_________________________________________________________________\n",
      "dropout_4 (Dropout)          (None, 37, 64)            0         \n",
      "_________________________________________________________________\n",
      "time_distributed_4 (TimeDist (None, 37, 22)            1430      \n",
      "=================================================================\n",
      "Total params: 250,852\n",
      "Trainable params: 250,852\n",
      "Non-trainable params: 0\n",
      "_________________________________________________________________\n",
      "Epoch 1/10\n",
      "5/5 [==============================] - 11s 545ms/step - loss: 3.0594 - acc: 0.2781 - precision_4: 0.0000e+00 - recall_4: 0.0000e+00 - val_loss: 2.9804 - val_acc: 0.7725 - val_precision_4: 0.0000e+00 - val_recall_4: 0.0000e+00\n",
      "Epoch 2/10\n"
     ]
    },
    {
     "name": "stdout",
     "output_type": "stream",
     "text": [
      "5/5 [==============================] - 1s 111ms/step - loss: 2.9460 - acc: 0.8096 - precision_4: 0.0000e+00 - recall_4: 0.0000e+00 - val_loss: 2.8497 - val_acc: 0.8178 - val_precision_4: 0.0000e+00 - val_recall_4: 0.0000e+00\n",
      "Epoch 3/10\n",
      "5/5 [==============================] - 1s 114ms/step - loss: 2.7990 - acc: 0.8455 - precision_4: 0.0000e+00 - recall_4: 0.0000e+00 - val_loss: 2.6554 - val_acc: 0.7950 - val_precision_4: 0.0000e+00 - val_recall_4: 0.0000e+00\n",
      "Epoch 4/10\n",
      "5/5 [==============================] - 0s 102ms/step - loss: 2.5697 - acc: 0.8080 - precision_4: 0.0000e+00 - recall_4: 0.0000e+00 - val_loss: 2.3252 - val_acc: 0.6429 - val_precision_4: 0.0000e+00 - val_recall_4: 0.0000e+00\n",
      "Epoch 5/10\n",
      "5/5 [==============================] - 1s 111ms/step - loss: 2.1577 - acc: 0.6794 - precision_4: 0.3333 - recall_4: 0.0043 - val_loss: 1.7098 - val_acc: 0.5103 - val_precision_4: 1.0000 - val_recall_4: 0.2558\n",
      "Epoch 6/10\n",
      "5/5 [==============================] - 0s 103ms/step - loss: 1.4917 - acc: 0.5531 - precision_4: 0.9681 - recall_4: 0.3483 - val_loss: 1.3089 - val_acc: 0.4885 - val_precision_4: 0.6725 - val_recall_4: 0.4449\n",
      "Epoch 7/10\n",
      "5/5 [==============================] - 0s 101ms/step - loss: 1.1921 - acc: 0.5551 - precision_4: 0.6867 - recall_4: 0.4711 - val_loss: 1.0117 - val_acc: 0.6409 - val_precision_4: 0.6835 - val_recall_4: 0.4459\n",
      "Epoch 8/10\n",
      "5/5 [==============================] - 1s 106ms/step - loss: 0.8793 - acc: 0.7880 - precision_4: 0.8099 - recall_4: 0.5164 - val_loss: 0.8244 - val_acc: 0.9319 - val_precision_4: 0.9481 - val_recall_4: 0.6949\n",
      "Epoch 9/10\n",
      "5/5 [==============================] - 1s 124ms/step - loss: 0.7672 - acc: 0.9088 - precision_4: 0.9149 - recall_4: 0.6884 - val_loss: 0.7384 - val_acc: 0.9239 - val_precision_4: 0.9306 - val_recall_4: 0.7623\n",
      "Epoch 10/10\n",
      "5/5 [==============================] - 1s 124ms/step - loss: 0.6515 - acc: 0.9262 - precision_4: 0.9297 - recall_4: 0.7760 - val_loss: 0.6481 - val_acc: 0.9484 - val_precision_4: 0.9573 - val_recall_4: 0.8201\n",
      "20/20 [==============================] - 0s 11ms/step - loss: 0.5471 - acc: 0.9664 - precision_4: 0.9731 - recall_4: 0.8475\n",
      "Loss: 0.5470744371414185,\n",
      "Train Accuracy: 96.6437041759491\n",
      "Precision: 0.9731237292289734,\n",
      "Recall: 0.8474650979042053\n",
      "                                                  \n",
      "6/6 [==============================] - 0s 15ms/step - loss: 0.5540 - acc: 0.9647 - precision_4: 0.9711 - recall_4: 0.8324\n",
      "Loss: 0.5540199875831604,\n",
      "Test Accuracy: 96.47147059440613\n",
      "Precision: 0.9710982441902161,\n",
      "Recall: 0.8324324488639832\n"
     ]
    }
   ],
   "source": [
    "from sklearn.model_selection import ShuffleSplit\n",
    "#Shuffling and splitting into 5 different sets for cross validation\n",
    "cv = ShuffleSplit(n_splits=5, test_size=.20, random_state=1)\n",
    "cv_scores=[0]*5\n",
    "itr=0\n",
    "prec=[0]*5\n",
    "rec=[0]*5\n",
    "#Initializing\n",
    "best_pred_set=None\n",
    "best_test_set=None\n",
    "best_accuracy=0 \n",
    "best_precision=0\n",
    "best_recall=0\n",
    "#For each split creating and evaluating model\n",
    "for train_idx,test_idx in cv.split(X):\n",
    "    itr+=1\n",
    "    print(\"*\"*100)\n",
    "    print(\"                        Cross Validation - {} iteration\".format(itr))\n",
    "    print(\"*\"*100)\n",
    "    model,Pred_Set,Test_Set,cv_scores[itr-1],prec[itr-1],rec[itr-1]=evaluate_model(X[train_idx],Y[train_idx]\n",
    "                                                            ,X[test_idx],Y[test_idx])\n",
    "    if cv_scores[itr-1]>best_accuracy:\n",
    "        best_accuracy=cv_scores[itr-1]\n",
    "        best_precision=prec[itr-1]\n",
    "        best_recall=rec[itr-1]\n",
    "        best_test_set=Test_Set\n",
    "        best_pred_set=Pred_Set\n",
    "        best_model=model"
   ]
  },
  {
   "cell_type": "markdown",
   "metadata": {},
   "source": [
    "### Analysis of the best model among the 5 folds"
   ]
  },
  {
   "cell_type": "code",
   "execution_count": 22,
   "metadata": {},
   "outputs": [
    {
     "name": "stdout",
     "output_type": "stream",
     "text": [
      "Average Test Accuracy is given as 0.9211711645126343\n"
     ]
    }
   ],
   "source": [
    "print(\"Average Test Accuracy is given as {}\".format(sum(cv_scores)/len(cv_scores)))"
   ]
  },
  {
   "cell_type": "code",
   "execution_count": 23,
   "metadata": {},
   "outputs": [
    {
     "name": "stdout",
     "output_type": "stream",
     "text": [
      "Best Test Accuracy among all the folds is given as 0.9647147059440613\n"
     ]
    }
   ],
   "source": [
    "print(\"Best Test Accuracy among all the folds is given as {}\".format(best_accuracy))"
   ]
  },
  {
   "cell_type": "code",
   "execution_count": 24,
   "metadata": {},
   "outputs": [
    {
     "name": "stdout",
     "output_type": "stream",
     "text": [
      "Average precision : 0.9222444772720337, Average Recall : 0.7966666698455811\n"
     ]
    }
   ],
   "source": [
    "print(\"Average precision : {}, Average Recall : {}\".format(sum(prec)/5,sum(rec)/5))"
   ]
  },
  {
   "cell_type": "code",
   "execution_count": 25,
   "metadata": {},
   "outputs": [],
   "source": [
    "def f_score(p,r):\n",
    "    return 2*(p*r)/(p+r)\n",
    "\n",
    "best_fscore=f_score(best_precision,best_recall)"
   ]
  },
  {
   "cell_type": "code",
   "execution_count": 26,
   "metadata": {},
   "outputs": [
    {
     "name": "stdout",
     "output_type": "stream",
     "text": [
      "Best Model Precision : 0.9710982441902161, Recall : 0.8324324488639832 and F-Score : 0.8964346352540647\n"
     ]
    }
   ],
   "source": [
    "print(\"Best Model Precision : {}, Recall : {} and F-Score : {}\".format(best_precision,\n",
    "                                                                       best_recall,best_fscore))"
   ]
  },
  {
   "cell_type": "code",
   "execution_count": 27,
   "metadata": {},
   "outputs": [
    {
     "name": "stdout",
     "output_type": "stream",
     "text": [
      "The Accuracies for the 5 folds are given as :\n",
      "0.9612612724304199 0.9558558464050293 0.9621621370315552 0.7618618607521057 0.9647147059440613\n"
     ]
    }
   ],
   "source": [
    "print(\"The Accuracies for the 5 folds are given as :\")\n",
    "print(*cv_scores)"
   ]
  },
  {
   "cell_type": "code",
   "execution_count": 28,
   "metadata": {},
   "outputs": [],
   "source": [
    "reverse_word_map = dict(map(reversed, tags_tokenizer.word_index.items()))"
   ]
  },
  {
   "cell_type": "markdown",
   "metadata": {},
   "source": [
    "### Decoding the predicted tags in the best_pred_set"
   ]
  },
  {
   "cell_type": "code",
   "execution_count": 29,
   "metadata": {},
   "outputs": [],
   "source": [
    "def decode_pred(Y):\n",
    "    #Defining an empty matrix of zeros of shape of best_pred_set\n",
    "    out = np.zeros(Y.shape)\n",
    "    #Finding the tag index for each sequence which has the highest probablity value \n",
    "    idx = Y.argmax(axis=-1)\n",
    "    #Setting that value to 1 and rest to 0\n",
    "    out[np.arange(Y.shape[0])[:,None],np.arange(Y.shape[1]),idx] = 1\n",
    "    pred=np.argmax(out, axis=-1)\n",
    "    return pred\n",
    "    "
   ]
  },
  {
   "cell_type": "code",
   "execution_count": 30,
   "metadata": {},
   "outputs": [
    {
     "data": {
      "text/plain": [
       "array([1, 1, 1, 1, 2, 1, 2, 1, 1, 0, 0, 0, 0, 0, 0, 0, 0, 0, 0, 0, 0, 0,\n",
       "       0, 0, 0, 0, 0, 0, 0, 0, 0, 0, 0, 0, 0, 0, 0], dtype=int64)"
      ]
     },
     "execution_count": 30,
     "metadata": {},
     "output_type": "execute_result"
    }
   ],
   "source": [
    "#Finding the index having the max value among the 21 tag values for a certain sequence\n",
    "best_pred=decode_pred(best_pred_set)\n",
    "best_test=np.argmax(best_test_set,axis=2)\n",
    "#Actual Tags(Encoded) for the 2nd sequence in Test Set\n",
    "best_test[2]"
   ]
  },
  {
   "cell_type": "code",
   "execution_count": 31,
   "metadata": {},
   "outputs": [
    {
     "data": {
      "text/plain": [
       "array([1, 1, 1, 1, 1, 1, 1, 1, 1, 1, 0, 0, 0, 0, 0, 0, 0, 0, 0, 0, 0, 0,\n",
       "       0, 0, 0, 0, 0, 0, 0, 0, 0, 0, 0, 0, 0, 0, 0], dtype=int64)"
      ]
     },
     "execution_count": 31,
     "metadata": {},
     "output_type": "execute_result"
    }
   ],
   "source": [
    "#Predicted Tags(Encoded) for the 2nd sequence in Test Set\n",
    "best_pred[2]"
   ]
  },
  {
   "cell_type": "markdown",
   "metadata": {},
   "source": [
    "### Class-wise accuracy for the different tags"
   ]
  },
  {
   "cell_type": "code",
   "execution_count": 32,
   "metadata": {},
   "outputs": [],
   "source": [
    "true_positive=[0]*(NUM_TAGS)\n",
    "actual_count=[0]*(NUM_TAGS)\n",
    "for i in range(best_test.shape[0]):\n",
    "    for j in range(best_test.shape[1]):\n",
    "        if best_test[i][j]==0: #Ignore if its 0 as it is present due to padding\n",
    "            continue\n",
    "        #if both are equal then increment count by 1 for true positive case\n",
    "        if best_test[i][j]==best_pred[i][j]:\n",
    "            true_positive[best_test[i][j]]+=1\n",
    "        actual_count[best_test[i][j]]+=1"
   ]
  },
  {
   "cell_type": "code",
   "execution_count": 33,
   "metadata": {},
   "outputs": [
    {
     "data": {
      "text/plain": [
       "([0, 3226, 36, 26, 23, 17, 13, 8, 4, 5, 4, 8, 7, 2, 1, 0, 0, 6, 0, 1, 1, 2],\n",
       " [0, 3193, 0, 0, 0, 0, 0, 0, 0, 0, 0, 0, 0, 0, 0, 0, 0, 0, 0, 0, 0, 0])"
      ]
     },
     "execution_count": 33,
     "metadata": {},
     "output_type": "execute_result"
    }
   ],
   "source": [
    "actual_count,true_positive"
   ]
  },
  {
   "cell_type": "code",
   "execution_count": 34,
   "metadata": {},
   "outputs": [
    {
     "name": "stdout",
     "output_type": "stream",
     "text": [
      "****************************************************************************************************\n",
      "             Class-Wise Accuracies for different classes are \n",
      "****************************************************************************************************\n",
      "Accuracy of Tag - Class o is : 98.97706137631742 %\n",
      "Accuracy of Tag - Class b-person is : 0.0 %\n",
      "Accuracy of Tag - Class i-other is : 0.0 %\n",
      "Accuracy of Tag - Class b-geo-loc is : 0.0 %\n",
      "Accuracy of Tag - Class i-person is : 0.0 %\n",
      "Accuracy of Tag - Class b-other is : 0.0 %\n",
      "Accuracy of Tag - Class b-company is : 0.0 %\n",
      "Accuracy of Tag - Class b-facility is : 0.0 %\n",
      "Accuracy of Tag - Class i-facility is : 0.0 %\n",
      "Accuracy of Tag - Class i-product is : 0.0 %\n",
      "Accuracy of Tag - Class b-product is : 0.0 %\n",
      "Accuracy of Tag - Class i-geo-loc is : 0.0 %\n",
      "Accuracy of Tag - Class b-musicartist is : 0.0 %\n",
      "Accuracy of Tag - Class i-musicartist is : 0.0 %\n",
      "Accuracy of Tag - Class i-company is : 0.0 % \n",
      "Accuracy of Tag - Class i-movie is : 0.0 % \n",
      "Accuracy of Tag - Class b-sportsteam is : 0.0 %\n",
      "Accuracy of Tag - Class b-movie is : 0.0 % \n",
      "Accuracy of Tag - Class b-tvshow is : 0.0 %\n",
      "Accuracy of Tag - Class i-tvshow is : 0.0 %\n",
      "Accuracy of Tag - Class i-sportsteam is : 0.0 %\n"
     ]
    }
   ],
   "source": [
    "print(\"*\"*100)\n",
    "print(\"             Class-Wise Accuracies for different classes are \")\n",
    "print(\"*\"*100)\n",
    "class_accuracies=[]\n",
    "for i in range(1,NUM_TAGS):\n",
    "    if actual_count[i]!=0:\n",
    "        class_accuracies.append((true_positive[i]/actual_count[i])*100)\n",
    "        print(\"Accuracy of Tag - Class {} is : {} %\".format(reverse_word_map.get(i),(class_accuracies[i-1])))\n",
    "    else:\n",
    "        class_accuracies.append(0)\n",
    "        print(\"Accuracy of Tag - Class {} is : 0.0 % \".format(reverse_word_map.get(i)))"
   ]
  },
  {
   "cell_type": "code",
   "execution_count": 35,
   "metadata": {},
   "outputs": [
    {
     "data": {
      "image/png": "[encoded data removed]",
      "text/plain": [
       "<Figure size 1008x360 with 1 Axes>"
      ]
     },
     "metadata": {},
     "output_type": "display_data"
    }
   ],
   "source": [
    "fig = plt.figure(figsize = (14, 5)) \n",
    "# creating the bar plot \n",
    "category_list=[str(i) for i in range(1,NUM_TAGS)]\n",
    "plt.bar(category_list, class_accuracies, color ='blue',  \n",
    "        width = 0.4) \n",
    "  \n",
    "plt.xlabel(\"Tag - Classes\") \n",
    "plt.ylabel(\"Percentage Accuracy\") \n",
    "plt.title(\"Different Tag - Classes Accuracy\") \n",
    "plt.show() "
   ]
  },
  {
   "cell_type": "markdown",
   "metadata": {},
   "source": [
    "## Importing Unseen Test Data"
   ]
  },
  {
   "cell_type": "code",
   "execution_count": 36,
   "metadata": {},
   "outputs": [],
   "source": [
    "test_sentences_words=[]\n",
    "file = open('NER-Dataset--TestSet.txt', 'r')\n",
    "lines = file.readlines()\n",
    "temp_sentence_words=[]\n",
    "for line in lines:\n",
    "    if line==\"\\n\":#Blank line represents end of sentence\n",
    "        test_sentences_words.append(temp_sentence_words)\n",
    "        temp_sentence_words=[]\n",
    "        continue\n",
    "    temp=line.split(\"\\n\")[0]\n",
    "    temp_sentence_words.append(temp)\n",
    "file.close()"
   ]
  },
  {
   "cell_type": "code",
   "execution_count": 37,
   "metadata": {},
   "outputs": [
    {
     "data": {
      "text/plain": [
       "['@SammieLynnsMom',\n",
       " '@tg1.781',\n",
       " 'they',\n",
       " 'will',\n",
       " 'be',\n",
       " 'all',\n",
       " 'done',\n",
       " 'by',\n",
       " 'Sunday',\n",
       " 'trust',\n",
       " 'me',\n",
       " '*wink*']"
      ]
     },
     "execution_count": 37,
     "metadata": {},
     "output_type": "execute_result"
    }
   ],
   "source": [
    "test_sentences_words[0]"
   ]
  },
  {
   "cell_type": "markdown",
   "metadata": {},
   "source": [
    "### Tokenizing words"
   ]
  },
  {
   "cell_type": "code",
   "execution_count": 38,
   "metadata": {},
   "outputs": [],
   "source": [
    "X_Test=word_tokenizer.texts_to_sequences(test_sentences_words)"
   ]
  },
  {
   "cell_type": "code",
   "execution_count": 39,
   "metadata": {},
   "outputs": [],
   "source": [
    "X_Test_padded=pad_sequences(X_Test, maxlen=MAX_SEQ_LENGTH, padding=\"post\")"
   ]
  },
  {
   "cell_type": "code",
   "execution_count": 40,
   "metadata": {},
   "outputs": [],
   "source": [
    "Y_Predicted_Set=best_model.predict(X_Test_padded)"
   ]
  },
  {
   "cell_type": "code",
   "execution_count": 41,
   "metadata": {},
   "outputs": [
    {
     "data": {
      "text/plain": [
       "array([1, 1, 1, 1, 1, 1, 1, 1, 1, 1, 0, 0, 0, 0, 0, 0, 0, 0, 0, 0, 0, 0,\n",
       "       0, 0, 0, 0, 0, 0, 0, 0, 0, 0, 0, 0, 0, 0, 0], dtype=int64)"
      ]
     },
     "execution_count": 41,
     "metadata": {},
     "output_type": "execute_result"
    }
   ],
   "source": [
    "Y_Predicted=decode_pred(Y_Predicted_Set)\n",
    "Y_Predicted[0]"
   ]
  },
  {
   "cell_type": "code",
   "execution_count": 42,
   "metadata": {},
   "outputs": [],
   "source": [
    "reverse_word_map = dict(map(reversed, tags_tokenizer.word_index.items()))\n",
    "\n",
    "# Function takes a tokenized sentence and returns the words\n",
    "def sequence_to_text(list_of_indices):\n",
    "    # Looking up words in dictionary\n",
    "    words = [reverse_word_map.get(letter) for letter in list_of_indices]\n",
    "    return(words)\n",
    "\n",
    "# Creating texts \n",
    "Y_Pred_Labels = list(map(sequence_to_text, Y_Predicted))"
   ]
  },
  {
   "cell_type": "code",
   "execution_count": 43,
   "metadata": {},
   "outputs": [
    {
     "data": {
      "text/plain": [
       "['o',\n",
       " 'o',\n",
       " 'o',\n",
       " 'o',\n",
       " 'o',\n",
       " 'o',\n",
       " 'o',\n",
       " 'o',\n",
       " 'o',\n",
       " 'o',\n",
       " None,\n",
       " None,\n",
       " None,\n",
       " None,\n",
       " None,\n",
       " None,\n",
       " None,\n",
       " None,\n",
       " None,\n",
       " None,\n",
       " None,\n",
       " None,\n",
       " None,\n",
       " None,\n",
       " None,\n",
       " None,\n",
       " None,\n",
       " None,\n",
       " None,\n",
       " None,\n",
       " None,\n",
       " None,\n",
       " None,\n",
       " None,\n",
       " None,\n",
       " None,\n",
       " None]"
      ]
     },
     "execution_count": 43,
     "metadata": {},
     "output_type": "execute_result"
    }
   ],
   "source": [
    "Y_Pred_Labels[0]"
   ]
  },
  {
   "cell_type": "code",
   "execution_count": null,
   "metadata": {},
   "outputs": [],
   "source": []
  }
 ],
 "metadata": {
  "kernelspec": {
   "display_name": "Python 3",
   "language": "python",
   "name": "python3"
  },
  "language_info": {
   "codemirror_mode": {
    "name": "ipython",
    "version": 3
   },
   "file_extension": ".py",
   "mimetype": "text/x-python",
   "name": "python",
   "nbconvert_exporter": "python",
   "pygments_lexer": "ipython3",
   "version": "3.6.10"
  }
 },
 "nbformat": 4,
 "nbformat_minor": 4
}
