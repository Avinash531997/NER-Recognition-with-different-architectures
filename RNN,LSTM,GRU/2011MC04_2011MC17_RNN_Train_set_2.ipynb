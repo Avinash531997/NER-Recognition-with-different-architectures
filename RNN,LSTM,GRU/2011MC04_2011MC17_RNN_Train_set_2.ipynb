{
 "cells": [
  {
   "cell_type": "markdown",
   "metadata": {},
   "source": [
    "### Importing libraries"
   ]
  },
  {
   "cell_type": "code",
   "execution_count": 1,
   "metadata": {},
   "outputs": [
    {
     "name": "stderr",
     "output_type": "stream",
     "text": [
      "\n",
      "Bad key \"text.kerning_factor\" on line 4 in\n",
      "C:\\Users\\VISHAL SINGH\\Anaconda3\\lib\\site-packages\\matplotlib\\mpl-data\\stylelib\\_classic_test_patch.mplstyle.\n",
      "You probably need to get an updated matplotlibrc file from\n",
      "https://github.com/matplotlib/matplotlib/blob/v3.1.3/matplotlibrc.template\n",
      "or from the matplotlib source distribution\n"
     ]
    }
   ],
   "source": [
    "import numpy as np\n",
    "import pandas as pd\n",
    "import matplotlib.pyplot as plt\n",
    "import random\n",
    "\n",
    "from sklearn.metrics import confusion_matrix,classification_report\n",
    "from sklearn.model_selection import train_test_split\n",
    "\n",
    "from tensorflow.keras.preprocessing.text import Tokenizer\n",
    "\n",
    "plt.style.use(\"ggplot\")\n",
    "\n",
    "np.random.seed(0)"
   ]
  },
  {
   "cell_type": "markdown",
   "metadata": {},
   "source": [
    "### Loading and Exploring the NER Dataset"
   ]
  },
  {
   "cell_type": "code",
   "execution_count": 2,
   "metadata": {},
   "outputs": [],
   "source": [
    "sentences_words=[]\n",
    "sentences_tags=[]\n",
    "file = open('NER-Dataset-10Types-Train.txt', 'r')\n",
    "lines = file.readlines()\n",
    "temp_sentence_words=[]\n",
    "temp_sentence_tags=[]\n",
    "for line in lines:\n",
    "    if line==\"\\n\":#Sentences ends at every blank line\n",
    "        if len(temp_sentence_words)==0:#If zero length sentence is formed, then ignore\n",
    "            continue\n",
    "        sentences_words.append(temp_sentence_words)\n",
    "        temp_sentence_words=[]\n",
    "        sentences_tags.append(temp_sentence_tags)\n",
    "        temp_sentence_tags=[]\n",
    "        continue\n",
    "    temp=line.split(\"\\t\")#splitting to get the tag and the word\n",
    "    temp[1]=temp[1].split(\"\\n\")[0]\n",
    "\n",
    "    temp_sentence_words.append(temp[0])\n",
    "    temp_sentence_tags.append(temp[1])\n",
    "file.close()"
   ]
  },
  {
   "cell_type": "code",
   "execution_count": 3,
   "metadata": {},
   "outputs": [
    {
     "data": {
      "text/plain": [
       "['@angelportugues', 'LMAO', '!', 'When', 'is', 'tht', 'one', 'day', '?:', 'P']"
      ]
     },
     "execution_count": 3,
     "metadata": {},
     "output_type": "execute_result"
    }
   ],
   "source": [
    "sentences_words[3]"
   ]
  },
  {
   "cell_type": "code",
   "execution_count": 4,
   "metadata": {},
   "outputs": [
    {
     "data": {
      "text/plain": [
       "['O', 'O', 'O', 'O', 'O', 'O', 'O', 'O', 'O', 'O']"
      ]
     },
     "execution_count": 4,
     "metadata": {},
     "output_type": "execute_result"
    }
   ],
   "source": [
    "sentences_tags[3]"
   ]
  },
  {
   "cell_type": "code",
   "execution_count": 5,
   "metadata": {},
   "outputs": [],
   "source": [
    "X=sentences_words\n",
    "Y=sentences_tags"
   ]
  },
  {
   "cell_type": "code",
   "execution_count": 6,
   "metadata": {},
   "outputs": [
    {
     "data": {
      "text/plain": [
       "(900, 900)"
      ]
     },
     "execution_count": 6,
     "metadata": {},
     "output_type": "execute_result"
    }
   ],
   "source": [
    "len(X),len(Y)"
   ]
  },
  {
   "cell_type": "markdown",
   "metadata": {},
   "source": [
    "### Tokenizing"
   ]
  },
  {
   "cell_type": "code",
   "execution_count": 7,
   "metadata": {},
   "outputs": [
    {
     "data": {
      "text/plain": [
       "[1346, 231, 8, 16, 18, 808, 66, 22, 1347, 809]"
      ]
     },
     "execution_count": 7,
     "metadata": {},
     "output_type": "execute_result"
    }
   ],
   "source": [
    "word_tokenizer = Tokenizer()   #initializing tokenizer\n",
    "word_tokenizer.fit_on_texts(X) \n",
    "X_encoded = word_tokenizer.texts_to_sequences(X) #tokenizing input based on index of every word in vocab set\n",
    "X_encoded[3]"
   ]
  },
  {
   "cell_type": "code",
   "execution_count": 8,
   "metadata": {},
   "outputs": [
    {
     "data": {
      "text/plain": [
       "[1, 1, 1, 1, 1, 1, 1, 1, 1, 1]"
      ]
     },
     "execution_count": 8,
     "metadata": {},
     "output_type": "execute_result"
    }
   ],
   "source": [
    "tags_tokenizer = Tokenizer()\n",
    "tags_tokenizer.fit_on_texts(Y)\n",
    "Y_encoded = tags_tokenizer.texts_to_sequences(Y) # tokenizing each tag based on index in tag vocab.\n",
    "Y_encoded[3]"
   ]
  },
  {
   "cell_type": "code",
   "execution_count": 9,
   "metadata": {},
   "outputs": [
    {
     "data": {
      "text/plain": [
       "21"
      ]
     },
     "execution_count": 9,
     "metadata": {},
     "output_type": "execute_result"
    }
   ],
   "source": [
    "NUM_TAGS=len(tags_tokenizer.word_counts)\n",
    "NUM_TAGS"
   ]
  },
  {
   "cell_type": "code",
   "execution_count": 10,
   "metadata": {},
   "outputs": [
    {
     "data": {
      "text/plain": [
       "4542"
      ]
     },
     "execution_count": 10,
     "metadata": {},
     "output_type": "execute_result"
    }
   ],
   "source": [
    "VOCAB_SIZE=len(word_tokenizer.word_counts)\n",
    "VOCAB_SIZE"
   ]
  },
  {
   "cell_type": "code",
   "execution_count": 11,
   "metadata": {},
   "outputs": [
    {
     "data": {
      "text/plain": [
       "900"
      ]
     },
     "execution_count": 11,
     "metadata": {},
     "output_type": "execute_result"
    }
   ],
   "source": [
    "#Number of Sentences\n",
    "len(X)"
   ]
  },
  {
   "cell_type": "markdown",
   "metadata": {},
   "source": [
    "#### Length of the sentences"
   ]
  },
  {
   "cell_type": "code",
   "execution_count": 12,
   "metadata": {},
   "outputs": [
    {
     "data": {
      "image/png": "[encoded data removed]",
      "text/plain": [
       "<Figure size 432x288 with 1 Axes>"
      ]
     },
     "metadata": {},
     "output_type": "display_data"
    }
   ],
   "source": [
    "plt.hist([len(s) for s in X], bins=100, color=\"blue\")\n",
    "plt.show()\n",
    "MAX_SEQ_LENGTH=max([len(s) for s in X])"
   ]
  },
  {
   "cell_type": "code",
   "execution_count": 13,
   "metadata": {},
   "outputs": [
    {
     "data": {
      "text/plain": [
       "37"
      ]
     },
     "execution_count": 13,
     "metadata": {},
     "output_type": "execute_result"
    }
   ],
   "source": [
    "MAX_SEQ_LENGTH"
   ]
  },
  {
   "cell_type": "markdown",
   "metadata": {},
   "source": [
    "### Padding Input Sentences and Tags"
   ]
  },
  {
   "cell_type": "code",
   "execution_count": 14,
   "metadata": {},
   "outputs": [
    {
     "name": "stderr",
     "output_type": "stream",
     "text": [
      "Using TensorFlow backend.\n"
     ]
    },
    {
     "data": {
      "text/plain": [
       "array([1333,  804,   35,    8,  108,  197,   30,  805,   45,  198,   49,\n",
       "       1334,   87,   63,    4,   30,  287, 1335,  584,  379,   95, 1336,\n",
       "        379, 1337,    8,    0,    0,    0,    0,    0,    0,    0,    0,\n",
       "          0,    0,    0,    0])"
      ]
     },
     "execution_count": 14,
     "metadata": {},
     "output_type": "execute_result"
    }
   ],
   "source": [
    "from tensorflow.keras.preprocessing.sequence import pad_sequences\n",
    "from keras.utils import to_categorical\n",
    "\n",
    "X_padded = pad_sequences(X_encoded, maxlen=MAX_SEQ_LENGTH, padding=\"post\")\n",
    "X_padded[0]"
   ]
  },
  {
   "cell_type": "code",
   "execution_count": 15,
   "metadata": {},
   "outputs": [
    {
     "data": {
      "text/plain": [
       "array([1, 1, 1, 1, 1, 1, 1, 1, 1, 1, 1, 1, 1, 1, 1, 1, 1, 1, 1, 1, 1, 1,\n",
       "       1, 1, 1, 0, 0, 0, 0, 0, 0, 0, 0, 0, 0, 0, 0])"
      ]
     },
     "execution_count": 15,
     "metadata": {},
     "output_type": "execute_result"
    }
   ],
   "source": [
    "Y_padded = pad_sequences(Y_encoded, maxlen=MAX_SEQ_LENGTH, padding=\"post\")\n",
    "Y_padded[0]"
   ]
  },
  {
   "cell_type": "code",
   "execution_count": 16,
   "metadata": {},
   "outputs": [],
   "source": [
    "#Re-Assigning to X and Y for ease of use\n",
    "X, Y = X_padded, Y_padded"
   ]
  },
  {
   "cell_type": "code",
   "execution_count": 17,
   "metadata": {},
   "outputs": [
    {
     "name": "stdout",
     "output_type": "stream",
     "text": [
      "(900, 37, 22)\n"
     ]
    }
   ],
   "source": [
    "Y = to_categorical(Y)\n",
    "print(Y.shape)"
   ]
  },
  {
   "cell_type": "markdown",
   "metadata": {},
   "source": [
    "### Build and Compile a Vanilla RNN Model"
   ]
  },
  {
   "cell_type": "code",
   "execution_count": 18,
   "metadata": {},
   "outputs": [],
   "source": [
    "from tensorflow.keras.models import Sequential\n",
    "from tensorflow.keras.layers import Embedding\n",
    "from tensorflow.keras.layers import Dense, Input\n",
    "from tensorflow.keras.layers import TimeDistributed\n",
    "from tensorflow.keras.layers import SimpleRNN, RNN,SpatialDropout1D,Dropout\n",
    "from tensorflow.keras.models import Model\n",
    "from tensorflow.keras.metrics import Precision, Recall"
   ]
  },
  {
   "cell_type": "code",
   "execution_count": 19,
   "metadata": {},
   "outputs": [],
   "source": [
    "EMBED_DIM=50\n",
    "NUM_TAGS=Y.shape[2]\n",
    "VOCAB_SIZE+=1"
   ]
  },
  {
   "cell_type": "code",
   "execution_count": 20,
   "metadata": {},
   "outputs": [],
   "source": [
    "def evaluate_model(X_train,Y_train,X_test,Y_test):\n",
    "    VALID_SIZE=0.15 #Validation Split Size\n",
    "    #Train - Validation Set Split\n",
    "    X_train, X_validation, Y_train, Y_validation = train_test_split(X_train, Y_train, test_size=VALID_SIZE, random_state=1)\n",
    "    # total number of tags\n",
    "    \n",
    "    model = Sequential()\n",
    "\n",
    "    # Embedding layer \n",
    "    model.add(Embedding(input_dim     =  VOCAB_SIZE,         \n",
    "                            output_dim    =  EMBED_DIM,          \n",
    "                            input_length  =  MAX_SEQ_LENGTH,              \n",
    "                            trainable     =  True                     # True - update the embeddings while training\n",
    "    ))\n",
    "\n",
    "    \n",
    "    #Adding RNN Layer \n",
    "    model.add(SimpleRNN(64, \n",
    "                  return_sequences=True  # True to return whole sequence output \n",
    "    ))\n",
    "    \n",
    "    model.add(Dropout(0.2)) # Adding dropout to avoid overfitting\n",
    "    \n",
    "    # Adding TimeDistributed layer - Softmax output based on number of classes or tags\n",
    "    model.add(TimeDistributed(Dense(NUM_TAGS, activation='softmax')))\n",
    "\n",
    "    #Compiling model\n",
    "    model.compile(loss      =  'categorical_crossentropy',\n",
    "                      optimizer =  'adam',\n",
    "                      metrics   =  ['acc', Precision(), Recall()])\n",
    "    \n",
    "    # model summary\n",
    "    model.summary()\n",
    "    #Hyper-parameters for the model\n",
    "    epochs=10\n",
    "    batch_size=128\n",
    "    \n",
    "\n",
    "    #Fitting Model\n",
    "    rnn_training = model.fit(X_train, Y_train, batch_size=batch_size, epochs=epochs, validation_data=(X_validation, Y_validation))\n",
    "    #Model Evaluation\n",
    "    loss, accuracy, precision, recall = model.evaluate(X_train, Y_train, verbose = 1)\n",
    "    print(\"Loss: {0},\\nTrain Accuracy: {1}\".format(loss, accuracy*100))\n",
    "    print(\"Precision: {0},\\nRecall: {1}\".format(precision, recall))\n",
    "    print(\" \"*50)\n",
    "    loss, accuracy, precision, recall = model.evaluate(X_test, Y_test, verbose = 1)\n",
    "    print(\"Loss: {0},\\nTest Accuracy: {1}\".format(loss, accuracy*100))\n",
    "    print(\"Precision: {0},\\nRecall: {1}\".format(precision, recall))\n",
    "    Y_pred=model.predict(X_test)\n",
    "    return model,Y_pred,Y_test,accuracy,precision,recall"
   ]
  },
  {
   "cell_type": "markdown",
   "metadata": {},
   "source": [
    "### 5 - Fold cross Validation"
   ]
  },
  {
   "cell_type": "code",
   "execution_count": 21,
   "metadata": {},
   "outputs": [
    {
     "name": "stdout",
     "output_type": "stream",
     "text": [
      "****************************************************************************************************\n",
      "                        Cross Validation - 1 iteration\n",
      "****************************************************************************************************\n",
      "Model: \"sequential\"\n",
      "_________________________________________________________________\n",
      "Layer (type)                 Output Shape              Param #   \n",
      "=================================================================\n",
      "embedding (Embedding)        (None, 37, 50)            227150    \n",
      "_________________________________________________________________\n",
      "simple_rnn (SimpleRNN)       (None, 37, 64)            7360      \n",
      "_________________________________________________________________\n",
      "dropout (Dropout)            (None, 37, 64)            0         \n",
      "_________________________________________________________________\n",
      "time_distributed (TimeDistri (None, 37, 22)            1430      \n",
      "=================================================================\n",
      "Total params: 235,940\n",
      "Trainable params: 235,940\n",
      "Non-trainable params: 0\n",
      "_________________________________________________________________\n",
      "Epoch 1/10\n",
      "5/5 [==============================] - 2s 210ms/step - loss: 3.0347 - acc: 0.0757 - precision: 0.0000e+00 - recall: 0.0000e+00 - val_loss: 2.6825 - val_acc: 0.5646 - val_precision: 0.0000e+00 - val_recall: 0.0000e+00\n",
      "Epoch 2/10\n",
      "5/5 [==============================] - 0s 37ms/step - loss: 2.5533 - acc: 0.4230 - precision: 0.0000e+00 - recall: 0.0000e+00 - val_loss: 2.0514 - val_acc: 0.5238 - val_precision: 0.0000e+00 - val_recall: 0.0000e+00\n",
      "Epoch 3/10\n",
      "5/5 [==============================] - 0s 37ms/step - loss: 1.9499 - acc: 0.5119 - precision: 0.4065 - recall: 0.0010 - val_loss: 1.5190 - val_acc: 0.5113 - val_precision: 0.0000e+00 - val_recall: 0.0000e+00\n",
      "Epoch 4/10\n",
      "5/5 [==============================] - 0s 33ms/step - loss: 1.4582 - acc: 0.5349 - precision: 0.6993 - recall: 0.0847 - val_loss: 1.2009 - val_acc: 0.5150 - val_precision: 1.0000 - val_recall: 0.4217\n",
      "Epoch 5/10\n",
      "5/5 [==============================] - 0s 47ms/step - loss: 1.1975 - acc: 0.5294 - precision: 0.6092 - recall: 0.2667 - val_loss: 1.0540 - val_acc: 0.5751 - val_precision: 1.0000 - val_recall: 0.4580\n",
      "Epoch 6/10\n",
      "5/5 [==============================] - 0s 36ms/step - loss: 1.0759 - acc: 0.5521 - precision: 0.5777 - recall: 0.3673 - val_loss: 0.9839 - val_acc: 0.7605 - val_precision: 0.9979 - val_recall: 0.4720\n",
      "Epoch 7/10\n",
      "5/5 [==============================] - 0s 36ms/step - loss: 1.0052 - acc: 0.5801 - precision: 0.5918 - recall: 0.4437 - val_loss: 0.9362 - val_acc: 0.6311 - val_precision: 0.6667 - val_recall: 0.4785\n",
      "Epoch 8/10\n",
      "5/5 [==============================] - 0s 36ms/step - loss: 0.9403 - acc: 0.6180 - precision: 0.6230 - recall: 0.5022 - val_loss: 0.8849 - val_acc: 0.9399 - val_precision: 0.9827 - val_recall: 0.7673\n",
      "Epoch 9/10\n",
      "5/5 [==============================] - 0s 37ms/step - loss: 0.8950 - acc: 0.6762 - precision: 0.6772 - recall: 0.5642 - val_loss: 0.8219 - val_acc: 0.9657 - val_precision: 0.9732 - val_recall: 0.8804\n",
      "Epoch 10/10\n",
      "5/5 [==============================] - 0s 40ms/step - loss: 0.8342 - acc: 0.7440 - precision: 0.7549 - recall: 0.6421 - val_loss: 0.7404 - val_acc: 0.9665 - val_precision: 0.9726 - val_recall: 0.8869\n",
      "20/20 [==============================] - 0s 5ms/step - loss: 0.7046 - acc: 0.9697 - precision: 0.9752 - recall: 0.8974\n",
      "Loss: 0.7045581936836243,\n",
      "Train Accuracy: 96.96608185768127\n",
      "Precision: 0.9751895666122437,\n",
      "Recall: 0.897412121295929\n",
      "                                                  \n",
      "6/6 [==============================] - 0s 4ms/step - loss: 0.7448 - acc: 0.9644 - precision: 0.9716 - recall: 0.8850\n",
      "Loss: 0.7447918653488159,\n",
      "Test Accuracy: 96.44144177436829\n",
      "Precision: 0.9716452360153198,\n",
      "Recall: 0.8849849700927734\n",
      "****************************************************************************************************\n",
      "                        Cross Validation - 2 iteration\n",
      "****************************************************************************************************\n",
      "Model: \"sequential_1\"\n",
      "_________________________________________________________________\n",
      "Layer (type)                 Output Shape              Param #   \n",
      "=================================================================\n",
      "embedding_1 (Embedding)      (None, 37, 50)            227150    \n",
      "_________________________________________________________________\n",
      "simple_rnn_1 (SimpleRNN)     (None, 37, 64)            7360      \n",
      "_________________________________________________________________\n",
      "dropout_1 (Dropout)          (None, 37, 64)            0         \n",
      "_________________________________________________________________\n",
      "time_distributed_1 (TimeDist (None, 37, 22)            1430      \n",
      "=================================================================\n",
      "Total params: 235,940\n",
      "Trainable params: 235,940\n",
      "Non-trainable params: 0\n",
      "_________________________________________________________________\n",
      "Epoch 1/10\n",
      "5/5 [==============================] - 2s 172ms/step - loss: 3.0131 - acc: 0.1324 - precision_1: 0.0000e+00 - recall_1: 0.0000e+00 - val_loss: 2.5922 - val_acc: 0.4617 - val_precision_1: 0.0000e+00 - val_recall_1: 0.0000e+00\n",
      "Epoch 2/10\n",
      "5/5 [==============================] - 0s 50ms/step - loss: 2.4685 - acc: 0.4497 - precision_1: 0.4907 - recall_1: 5.2402e-04 - val_loss: 2.0755 - val_acc: 0.5220 - val_precision_1: 0.0000e+00 - val_recall_1: 0.0000e+00\n",
      "Epoch 3/10\n",
      "5/5 [==============================] - 0s 40ms/step - loss: 2.0070 - acc: 0.5412 - precision_1: 0.9200 - recall_1: 0.1128 - val_loss: 1.6542 - val_acc: 0.7783 - val_precision_1: 0.9958 - val_recall_1: 0.2985\n",
      "Epoch 4/10\n",
      "5/5 [==============================] - 0s 47ms/step - loss: 1.5763 - acc: 0.7756 - precision_1: 0.9641 - recall_1: 0.2831 - val_loss: 1.3293 - val_acc: 0.7770 - val_precision_1: 0.8859 - val_recall_1: 0.4159\n",
      "Epoch 5/10\n",
      "5/5 [==============================] - 0s 37ms/step - loss: 1.2290 - acc: 0.8433 - precision_1: 0.9697 - recall_1: 0.3954 - val_loss: 1.0770 - val_acc: 0.8261 - val_precision_1: 0.8792 - val_recall_1: 0.4262\n",
      "Epoch 6/10\n",
      "5/5 [==============================] - 0s 35ms/step - loss: 0.9705 - acc: 0.8943 - precision_1: 0.9704 - recall_1: 0.4715 - val_loss: 0.8915 - val_acc: 0.8589 - val_precision_1: 0.8887 - val_recall_1: 0.5816\n",
      "Epoch 7/10\n",
      "5/5 [==============================] - 0s 37ms/step - loss: 0.7764 - acc: 0.9201 - precision_1: 0.9600 - recall_1: 0.6404 - val_loss: 0.7734 - val_acc: 0.8694 - val_precision_1: 0.8757 - val_recall_1: 0.6947\n",
      "Epoch 8/10\n",
      "5/5 [==============================] - 0s 44ms/step - loss: 0.6444 - acc: 0.9298 - precision_1: 0.9497 - recall_1: 0.7538 - val_loss: 0.7599 - val_acc: 0.8516 - val_precision_1: 0.8493 - val_recall_1: 0.7162\n",
      "Epoch 9/10\n",
      "5/5 [==============================] - 0s 44ms/step - loss: 0.5586 - acc: 0.9361 - precision_1: 0.9484 - recall_1: 0.8041 - val_loss: 0.7452 - val_acc: 0.8478 - val_precision_1: 0.8441 - val_recall_1: 0.7355\n",
      "Epoch 10/10\n",
      "5/5 [==============================] - 0s 40ms/step - loss: 0.5053 - acc: 0.9331 - precision_1: 0.9405 - recall_1: 0.8239 - val_loss: 0.7116 - val_acc: 0.8541 - val_precision_1: 0.8477 - val_recall_1: 0.7520\n",
      "20/20 [==============================] - 0s 4ms/step - loss: 0.4471 - acc: 0.9505 - precision_1: 0.9558 - recall_1: 0.8544\n",
      "Loss: 0.44711005687713623,\n",
      "Train Accuracy: 95.05387544631958\n",
      "Precision: 0.9557849764823914,\n",
      "Recall: 0.8543984889984131\n",
      "                                                  \n",
      "6/6 [==============================] - 0s 4ms/step - loss: 0.6341 - acc: 0.8731 - precision_1: 0.8723 - recall_1: 0.7731\n",
      "Loss: 0.6341429352760315,\n",
      "Test Accuracy: 87.31231093406677\n",
      "Precision: 0.8722683191299438,\n",
      "Recall: 0.7731231451034546\n",
      "****************************************************************************************************\n",
      "                        Cross Validation - 3 iteration\n",
      "****************************************************************************************************\n",
      "Model: \"sequential_2\"\n",
      "_________________________________________________________________\n",
      "Layer (type)                 Output Shape              Param #   \n",
      "=================================================================\n",
      "embedding_2 (Embedding)      (None, 37, 50)            227150    \n",
      "_________________________________________________________________\n",
      "simple_rnn_2 (SimpleRNN)     (None, 37, 64)            7360      \n",
      "_________________________________________________________________\n",
      "dropout_2 (Dropout)          (None, 37, 64)            0         \n",
      "_________________________________________________________________\n",
      "time_distributed_2 (TimeDist (None, 37, 22)            1430      \n",
      "=================================================================\n",
      "Total params: 235,940\n",
      "Trainable params: 235,940\n",
      "Non-trainable params: 0\n",
      "_________________________________________________________________\n"
     ]
    },
    {
     "name": "stdout",
     "output_type": "stream",
     "text": [
      "Epoch 1/10\n",
      "5/5 [==============================] - 2s 143ms/step - loss: 2.9507 - acc: 0.1274 - precision_2: 0.0000e+00 - recall_2: 0.0000e+00 - val_loss: 2.4932 - val_acc: 0.5000 - val_precision_2: 0.0000e+00 - val_recall_2: 0.0000e+00\n",
      "Epoch 2/10\n",
      "5/5 [==============================] - 0s 39ms/step - loss: 2.4414 - acc: 0.4435 - precision_2: 0.5000 - recall_2: 6.0642e-04 - val_loss: 2.0277 - val_acc: 0.5198 - val_precision_2: 0.0000e+00 - val_recall_2: 0.0000e+00\n",
      "Epoch 3/10\n",
      "5/5 [==============================] - 0s 34ms/step - loss: 1.9952 - acc: 0.5150 - precision_2: 0.9216 - recall_2: 0.1369 - val_loss: 1.6019 - val_acc: 0.6299 - val_precision_2: 0.9983 - val_recall_2: 0.4399\n",
      "Epoch 4/10\n",
      "5/5 [==============================] - 0s 63ms/step - loss: 1.5953 - acc: 0.6708 - precision_2: 0.9615 - recall_2: 0.3202 - val_loss: 1.2448 - val_acc: 0.8016 - val_precision_2: 0.9911 - val_recall_2: 0.4469\n",
      "Epoch 5/10\n",
      "5/5 [==============================] - 0s 34ms/step - loss: 1.2167 - acc: 0.7981 - precision_2: 0.9561 - recall_2: 0.4238 - val_loss: 0.9664 - val_acc: 0.9217 - val_precision_2: 1.0000 - val_recall_2: 0.4057\n",
      "Epoch 6/10\n",
      "5/5 [==============================] - 0s 34ms/step - loss: 0.9428 - acc: 0.9081 - precision_2: 0.9752 - recall_2: 0.4899 - val_loss: 0.7541 - val_acc: 0.9124 - val_precision_2: 0.9537 - val_recall_2: 0.6747\n",
      "Epoch 7/10\n",
      "5/5 [==============================] - 0s 38ms/step - loss: 0.7370 - acc: 0.9205 - precision_2: 0.9583 - recall_2: 0.6907 - val_loss: 0.6486 - val_acc: 0.9054 - val_precision_2: 0.9228 - val_recall_2: 0.7508\n",
      "Epoch 8/10\n",
      "5/5 [==============================] - 0s 34ms/step - loss: 0.6017 - acc: 0.9327 - precision_2: 0.9540 - recall_2: 0.7833 - val_loss: 0.5661 - val_acc: 0.9107 - val_precision_2: 0.9228 - val_recall_2: 0.7928\n",
      "Epoch 9/10\n",
      "5/5 [==============================] - 0s 33ms/step - loss: 0.5251 - acc: 0.9384 - precision_2: 0.9518 - recall_2: 0.8263 - val_loss: 0.5291 - val_acc: 0.9082 - val_precision_2: 0.9160 - val_recall_2: 0.8078\n",
      "Epoch 10/10\n",
      "5/5 [==============================] - 0s 45ms/step - loss: 0.4743 - acc: 0.9447 - precision_2: 0.9535 - recall_2: 0.8488 - val_loss: 0.5143 - val_acc: 0.9067 - val_precision_2: 0.9121 - val_recall_2: 0.8153\n",
      "20/20 [==============================] - 0s 4ms/step - loss: 0.4179 - acc: 0.9527 - precision_2: 0.9586 - recall_2: 0.8711\n",
      "Loss: 0.4179409146308899,\n",
      "Train Accuracy: 95.27027010917664\n",
      "Precision: 0.958594560623169,\n",
      "Recall: 0.8710916638374329\n",
      "                                                  \n",
      "6/6 [==============================] - 0s 5ms/step - loss: 0.6358 - acc: 0.8721 - precision_2: 0.8715 - recall_2: 0.7820\n",
      "Loss: 0.6357962489128113,\n",
      "Test Accuracy: 87.20721006393433\n",
      "Precision: 0.8714859485626221,\n",
      "Recall: 0.7819820046424866\n",
      "****************************************************************************************************\n",
      "                        Cross Validation - 4 iteration\n",
      "****************************************************************************************************\n",
      "Model: \"sequential_3\"\n",
      "_________________________________________________________________\n",
      "Layer (type)                 Output Shape              Param #   \n",
      "=================================================================\n",
      "embedding_3 (Embedding)      (None, 37, 50)            227150    \n",
      "_________________________________________________________________\n",
      "simple_rnn_3 (SimpleRNN)     (None, 37, 64)            7360      \n",
      "_________________________________________________________________\n",
      "dropout_3 (Dropout)          (None, 37, 64)            0         \n",
      "_________________________________________________________________\n",
      "time_distributed_3 (TimeDist (None, 37, 22)            1430      \n",
      "=================================================================\n",
      "Total params: 235,940\n",
      "Trainable params: 235,940\n",
      "Non-trainable params: 0\n",
      "_________________________________________________________________\n",
      "Epoch 1/10\n",
      "5/5 [==============================] - 2s 148ms/step - loss: 3.0393 - acc: 0.1089 - precision_3: 0.0000e+00 - recall_3: 0.0000e+00 - val_loss: 2.6540 - val_acc: 0.3631 - val_precision_3: 0.0000e+00 - val_recall_3: 0.0000e+00\n",
      "Epoch 2/10\n",
      "5/5 [==============================] - 0s 40ms/step - loss: 2.4711 - acc: 0.4395 - precision_3: 0.0000e+00 - recall_3: 0.0000e+00 - val_loss: 1.8655 - val_acc: 0.8483 - val_precision_3: 0.0000e+00 - val_recall_3: 0.0000e+00\n",
      "Epoch 3/10\n",
      "5/5 [==============================] - 0s 40ms/step - loss: 1.7473 - acc: 0.5975 - precision_3: 0.8369 - recall_3: 0.0154 - val_loss: 1.3630 - val_acc: 0.6479 - val_precision_3: 0.0000e+00 - val_recall_3: 0.0000e+00\n",
      "Epoch 4/10\n",
      "5/5 [==============================] - 0s 43ms/step - loss: 1.3275 - acc: 0.5988 - precision_3: 0.6727 - recall_3: 0.1726 - val_loss: 1.1384 - val_acc: 0.6664 - val_precision_3: 1.0000 - val_recall_3: 0.4249\n",
      "Epoch 5/10\n",
      "5/5 [==============================] - 0s 46ms/step - loss: 1.1153 - acc: 0.6066 - precision_3: 0.6185 - recall_3: 0.3290 - val_loss: 1.0385 - val_acc: 0.8866 - val_precision_3: 0.9925 - val_recall_3: 0.4950\n",
      "Epoch 6/10\n",
      "5/5 [==============================] - 0s 46ms/step - loss: 1.0152 - acc: 0.6368 - precision_3: 0.6343 - recall_3: 0.4424 - val_loss: 0.9664 - val_acc: 0.7953 - val_precision_3: 0.9674 - val_recall_3: 0.5648\n",
      "Epoch 7/10\n",
      "5/5 [==============================] - 0s 47ms/step - loss: 0.9193 - acc: 0.6903 - precision_3: 0.6879 - recall_3: 0.5398 - val_loss: 0.8800 - val_acc: 0.9302 - val_precision_3: 0.9551 - val_recall_3: 0.8298\n",
      "Epoch 8/10\n",
      "5/5 [==============================] - 0s 37ms/step - loss: 0.8159 - acc: 0.7813 - precision_3: 0.7912 - recall_3: 0.6523 - val_loss: 0.7393 - val_acc: 0.9072 - val_precision_3: 0.9199 - val_recall_3: 0.8166\n",
      "Epoch 9/10\n",
      "5/5 [==============================] - 0s 42ms/step - loss: 0.6623 - acc: 0.8936 - precision_3: 0.9053 - recall_3: 0.7903 - val_loss: 0.6143 - val_acc: 0.9214 - val_precision_3: 0.9330 - val_recall_3: 0.8333\n",
      "Epoch 10/10\n",
      "5/5 [==============================] - 0s 71ms/step - loss: 0.5205 - acc: 0.9308 - precision_3: 0.9387 - recall_3: 0.8399 - val_loss: 0.5537 - val_acc: 0.9159 - val_precision_3: 0.9271 - val_recall_3: 0.8336\n",
      "20/20 [==============================] - 0s 6ms/step - loss: 0.4457 - acc: 0.9321 - precision_3: 0.9374 - recall_3: 0.8548\n",
      "Loss: 0.4456983208656311,\n",
      "Train Accuracy: 93.21233034133911\n",
      "Precision: 0.9374243021011353,\n",
      "Recall: 0.8547518253326416\n",
      "                                                  \n",
      "6/6 [==============================] - 0s 5ms/step - loss: 0.4886 - acc: 0.9296 - precision_3: 0.9381 - recall_3: 0.8459\n",
      "Loss: 0.4885924160480499,\n",
      "Test Accuracy: 92.95795559883118\n",
      "Precision: 0.9380619525909424,\n",
      "Recall: 0.8459459543228149\n",
      "****************************************************************************************************\n",
      "                        Cross Validation - 5 iteration\n",
      "****************************************************************************************************\n",
      "Model: \"sequential_4\"\n",
      "_________________________________________________________________\n",
      "Layer (type)                 Output Shape              Param #   \n",
      "=================================================================\n",
      "embedding_4 (Embedding)      (None, 37, 50)            227150    \n",
      "_________________________________________________________________\n",
      "simple_rnn_4 (SimpleRNN)     (None, 37, 64)            7360      \n",
      "_________________________________________________________________\n",
      "dropout_4 (Dropout)          (None, 37, 64)            0         \n",
      "_________________________________________________________________\n",
      "time_distributed_4 (TimeDist (None, 37, 22)            1430      \n",
      "=================================================================\n",
      "Total params: 235,940\n",
      "Trainable params: 235,940\n",
      "Non-trainable params: 0\n",
      "_________________________________________________________________\n",
      "Epoch 1/10\n",
      "5/5 [==============================] - 4s 282ms/step - loss: 3.0430 - acc: 0.1147 - precision_4: 0.0000e+00 - recall_4: 0.0000e+00 - val_loss: 2.7505 - val_acc: 0.4607 - val_precision_4: 0.0000e+00 - val_recall_4: 0.0000e+00\n",
      "Epoch 2/10\n",
      "5/5 [==============================] - 0s 58ms/step - loss: 2.5940 - acc: 0.4921 - precision_4: 0.3333 - recall_4: 2.9441e-05 - val_loss: 2.2772 - val_acc: 0.5838 - val_precision_4: 0.0000e+00 - val_recall_4: 0.0000e+00\n"
     ]
    },
    {
     "name": "stdout",
     "output_type": "stream",
     "text": [
      "Epoch 3/10\n",
      "5/5 [==============================] - 0s 58ms/step - loss: 2.0910 - acc: 0.6374 - precision_4: 0.9746 - recall_4: 0.0563 - val_loss: 1.8782 - val_acc: 0.7553 - val_precision_4: 0.9378 - val_recall_4: 0.3318\n",
      "Epoch 4/10\n",
      "5/5 [==============================] - 0s 44ms/step - loss: 1.6757 - acc: 0.7939 - precision_4: 0.9634 - recall_4: 0.3094 - val_loss: 1.4916 - val_acc: 0.8096 - val_precision_4: 0.9174 - val_recall_4: 0.3806\n",
      "Epoch 5/10\n",
      "5/5 [==============================] - 0s 64ms/step - loss: 1.3255 - acc: 0.8688 - precision_4: 0.9679 - recall_4: 0.3880 - val_loss: 1.1739 - val_acc: 0.8271 - val_precision_4: 0.8910 - val_recall_4: 0.4032\n",
      "Epoch 6/10\n",
      "5/5 [==============================] - 0s 49ms/step - loss: 1.0005 - acc: 0.9015 - precision_4: 0.9655 - recall_4: 0.4716 - val_loss: 0.9216 - val_acc: 0.8531 - val_precision_4: 0.8888 - val_recall_4: 0.6119\n",
      "Epoch 7/10\n",
      "5/5 [==============================] - 0s 42ms/step - loss: 0.7522 - acc: 0.9218 - precision_4: 0.9581 - recall_4: 0.6868 - val_loss: 0.7562 - val_acc: 0.8774 - val_precision_4: 0.8917 - val_recall_4: 0.7195\n",
      "Epoch 8/10\n",
      "5/5 [==============================] - 0s 63ms/step - loss: 0.6108 - acc: 0.9320 - precision_4: 0.9486 - recall_4: 0.7786 - val_loss: 0.7474 - val_acc: 0.8626 - val_precision_4: 0.8682 - val_recall_4: 0.7382\n",
      "Epoch 9/10\n",
      "5/5 [==============================] - 0s 53ms/step - loss: 0.5346 - acc: 0.9357 - precision_4: 0.9469 - recall_4: 0.8161 - val_loss: 0.8049 - val_acc: 0.8524 - val_precision_4: 0.8485 - val_recall_4: 0.7445\n",
      "Epoch 10/10\n",
      "5/5 [==============================] - 0s 38ms/step - loss: 0.4835 - acc: 0.9405 - precision_4: 0.9479 - recall_4: 0.8387 - val_loss: 0.7063 - val_acc: 0.8684 - val_precision_4: 0.8670 - val_recall_4: 0.7730\n",
      "20/20 [==============================] - 0s 4ms/step - loss: 0.4294 - acc: 0.9469 - precision_4: 0.9531 - recall_4: 0.8586\n",
      "Loss: 0.42936426401138306,\n",
      "Train Accuracy: 94.68733668327332\n",
      "Precision: 0.9531349539756775,\n",
      "Recall: 0.8586380481719971\n",
      "                                                  \n",
      "6/6 [==============================] - 0s 3ms/step - loss: 0.6455 - acc: 0.8817 - precision_4: 0.8767 - recall_4: 0.7839\n",
      "Loss: 0.645486056804657,\n",
      "Test Accuracy: 88.16816806793213\n",
      "Precision: 0.8767422437667847,\n",
      "Recall: 0.7839339375495911\n"
     ]
    }
   ],
   "source": [
    "from sklearn.model_selection import ShuffleSplit\n",
    "#Shuffling and splitting into 5 different sets for cross validation\n",
    "cv = ShuffleSplit(n_splits=5, test_size=.20, random_state=1)\n",
    "cv_scores=[0]*5\n",
    "itr=0\n",
    "prec=[0]*5\n",
    "rec=[0]*5\n",
    "#Initializing\n",
    "best_pred_set=None\n",
    "best_test_set=None\n",
    "best_accuracy=0 \n",
    "best_precision=0\n",
    "best_recall=0\n",
    "#For each split creating and evaluating model\n",
    "for train_idx,test_idx in cv.split(X):\n",
    "    itr+=1\n",
    "    print(\"*\"*100)\n",
    "    print(\"                        Cross Validation - {} iteration\".format(itr))\n",
    "    print(\"*\"*100)\n",
    "    model,Pred_Set,Test_Set,cv_scores[itr-1],prec[itr-1],rec[itr-1]=evaluate_model(X[train_idx],Y[train_idx]\n",
    "                                                            ,X[test_idx],Y[test_idx])\n",
    "    if cv_scores[itr-1]>best_accuracy:\n",
    "        best_accuracy=cv_scores[itr-1]\n",
    "        best_precision=prec[itr-1]\n",
    "        best_recall=rec[itr-1]\n",
    "        best_test_set=Test_Set\n",
    "        best_pred_set=Pred_Set\n",
    "        best_model=model"
   ]
  },
  {
   "cell_type": "markdown",
   "metadata": {},
   "source": [
    "### Analysis of the best model among the 5 folds"
   ]
  },
  {
   "cell_type": "code",
   "execution_count": 22,
   "metadata": {},
   "outputs": [
    {
     "name": "stdout",
     "output_type": "stream",
     "text": [
      "Average Test Accuracy is : 0.9041741728782654\n"
     ]
    }
   ],
   "source": [
    "print(\"Average Test Accuracy is : {}\".format(sum(cv_scores)/len(cv_scores)))"
   ]
  },
  {
   "cell_type": "code",
   "execution_count": 23,
   "metadata": {},
   "outputs": [
    {
     "name": "stdout",
     "output_type": "stream",
     "text": [
      "Best Test Accuracy among all the folds is : 0.9644144177436829\n"
     ]
    }
   ],
   "source": [
    "print(\"Best Test Accuracy among all the folds is : {}\".format(best_accuracy))"
   ]
  },
  {
   "cell_type": "code",
   "execution_count": 24,
   "metadata": {},
   "outputs": [
    {
     "name": "stdout",
     "output_type": "stream",
     "text": [
      "Average precision : 0.9060407400131225, Average Recall : 0.8139940023422241\n"
     ]
    }
   ],
   "source": [
    "print(\"Average precision : {}, Average Recall : {}\".format(sum(prec)/5,sum(rec)/5))"
   ]
  },
  {
   "cell_type": "code",
   "execution_count": 25,
   "metadata": {},
   "outputs": [],
   "source": [
    "def f_score(p,r):\n",
    "    return 2*(p*r)/(p+r)\n",
    "\n",
    "best_fscore=f_score(best_precision,best_recall)"
   ]
  },
  {
   "cell_type": "code",
   "execution_count": 26,
   "metadata": {},
   "outputs": [
    {
     "name": "stdout",
     "output_type": "stream",
     "text": [
      "Best Model Precision : 0.9716452360153198, Recall : 0.8849849700927734 and F-Score : 0.9262926212305097\n"
     ]
    }
   ],
   "source": [
    "print(\"Best Model Precision : {}, Recall : {} and F-Score : {}\".format(best_precision,\n",
    "                                                                       best_recall,best_fscore))"
   ]
  },
  {
   "cell_type": "code",
   "execution_count": 27,
   "metadata": {},
   "outputs": [
    {
     "name": "stdout",
     "output_type": "stream",
     "text": [
      "Accuracies for the 5 folds are :\n",
      "0.9644144177436829 0.8731231093406677 0.8720721006393433 0.9295795559883118 0.8816816806793213\n"
     ]
    }
   ],
   "source": [
    "print(\"Accuracies for the 5 folds are :\")\n",
    "print(*cv_scores)"
   ]
  },
  {
   "cell_type": "code",
   "execution_count": 28,
   "metadata": {},
   "outputs": [],
   "source": [
    "reverse_word_map = dict(map(reversed, tags_tokenizer.word_index.items()))"
   ]
  },
  {
   "cell_type": "markdown",
   "metadata": {},
   "source": [
    "### Decoding the predicted tags in the best_pred_set"
   ]
  },
  {
   "cell_type": "code",
   "execution_count": 29,
   "metadata": {},
   "outputs": [],
   "source": [
    "def decode_pred(Y):\n",
    "    #Defining an empty matrix of zeros of shape of best_pred_set\n",
    "    out = np.zeros(Y.shape)\n",
    "    #Finding the tag index for each sequence which has the highest probablity value \n",
    "    idx = Y.argmax(axis=-1)\n",
    "    #Setting that value to 1 and rest to 0\n",
    "    out[np.arange(Y.shape[0])[:,None],np.arange(Y.shape[1]),idx] = 1\n",
    "    pred=np.argmax(out, axis=-1)\n",
    "    return pred\n",
    "    "
   ]
  },
  {
   "cell_type": "code",
   "execution_count": 30,
   "metadata": {},
   "outputs": [
    {
     "data": {
      "text/plain": [
       "array([1, 1, 1, 1, 1, 1, 1, 1, 1, 1, 1, 1, 1, 1, 1, 1, 1, 1, 1, 1, 1, 1,\n",
       "       1, 1, 1, 1, 1, 1, 1, 1, 1, 1, 1, 1, 1, 0, 0], dtype=int64)"
      ]
     },
     "execution_count": 30,
     "metadata": {},
     "output_type": "execute_result"
    }
   ],
   "source": [
    "#Finding the index having the max value among the 21 tag values for a certain sequence\n",
    "best_pred=decode_pred(best_pred_set)\n",
    "best_test=np.argmax(best_test_set,axis=2)\n",
    "#Actual Tags(Encoded) for the 2nd sequence in Test Set\n",
    "best_test[2]"
   ]
  },
  {
   "cell_type": "code",
   "execution_count": 31,
   "metadata": {},
   "outputs": [
    {
     "data": {
      "text/plain": [
       "array([1, 1, 1, 1, 1, 1, 1, 1, 1, 1, 1, 1, 1, 1, 1, 1, 1, 1, 1, 1, 1, 1,\n",
       "       1, 1, 1, 1, 1, 1, 1, 1, 1, 1, 1, 1, 1, 0, 0], dtype=int64)"
      ]
     },
     "execution_count": 31,
     "metadata": {},
     "output_type": "execute_result"
    }
   ],
   "source": [
    "#Predicted Tags(Encoded) for the 2nd sequence in Test Set\n",
    "best_pred[2]"
   ]
  },
  {
   "cell_type": "markdown",
   "metadata": {},
   "source": [
    "### Class-wise accuracy for the different tags"
   ]
  },
  {
   "cell_type": "code",
   "execution_count": 32,
   "metadata": {},
   "outputs": [],
   "source": [
    "true_positive=[0]*(NUM_TAGS)\n",
    "actual_count=[0]*(NUM_TAGS)\n",
    "for i in range(best_test.shape[0]):\n",
    "    for j in range(best_test.shape[1]):\n",
    "        if best_test[i][j]==0: #Ignore if its 0 as it is present due to padding\n",
    "            continue\n",
    "        #if both are equal then increment count by 1 for true positive case\n",
    "        if best_test[i][j]==best_pred[i][j]:\n",
    "            true_positive[best_test[i][j]]+=1\n",
    "        actual_count[best_test[i][j]]+=1"
   ]
  },
  {
   "cell_type": "code",
   "execution_count": 33,
   "metadata": {},
   "outputs": [
    {
     "data": {
      "text/plain": [
       "([0, 3260, 38, 33, 19, 13, 18, 13, 8, 8, 11, 10, 3, 9, 9, 8, 3, 2, 5, 3, 0, 1],\n",
       " [0, 3241, 0, 0, 0, 0, 0, 0, 0, 0, 0, 0, 0, 0, 0, 0, 0, 0, 0, 0, 0, 0])"
      ]
     },
     "execution_count": 33,
     "metadata": {},
     "output_type": "execute_result"
    }
   ],
   "source": [
    "actual_count,true_positive"
   ]
  },
  {
   "cell_type": "code",
   "execution_count": 34,
   "metadata": {},
   "outputs": [
    {
     "name": "stdout",
     "output_type": "stream",
     "text": [
      "****************************************************************************************************\n",
      "             Class-Wise Accuracies for different classes are \n",
      "****************************************************************************************************\n",
      "Accuracy of Tag - Class o is : 99.41717791411044 %\n",
      "Accuracy of Tag - Class b-person is : 0.0 %\n",
      "Accuracy of Tag - Class i-other is : 0.0 %\n",
      "Accuracy of Tag - Class b-geo-loc is : 0.0 %\n",
      "Accuracy of Tag - Class i-person is : 0.0 %\n",
      "Accuracy of Tag - Class b-other is : 0.0 %\n",
      "Accuracy of Tag - Class b-company is : 0.0 %\n",
      "Accuracy of Tag - Class b-facility is : 0.0 %\n",
      "Accuracy of Tag - Class i-facility is : 0.0 %\n",
      "Accuracy of Tag - Class i-product is : 0.0 %\n",
      "Accuracy of Tag - Class b-product is : 0.0 %\n",
      "Accuracy of Tag - Class i-geo-loc is : 0.0 %\n",
      "Accuracy of Tag - Class b-musicartist is : 0.0 %\n",
      "Accuracy of Tag - Class i-musicartist is : 0.0 %\n",
      "Accuracy of Tag - Class i-company is : 0.0 %\n",
      "Accuracy of Tag - Class i-movie is : 0.0 %\n",
      "Accuracy of Tag - Class b-sportsteam is : 0.0 %\n",
      "Accuracy of Tag - Class b-movie is : 0.0 %\n",
      "Accuracy of Tag - Class b-tvshow is : 0.0 %\n",
      "Accuracy of Tag - Class i-tvshow is 0.0 % \n",
      "Accuracy of Tag - Class i-sportsteam is : 0.0 %\n"
     ]
    }
   ],
   "source": [
    "print(\"*\"*100)\n",
    "print(\"             Class-Wise Accuracies for different classes are \")\n",
    "print(\"*\"*100)\n",
    "class_accuracies=[]\n",
    "for i in range(1,NUM_TAGS):\n",
    "    if actual_count[i]!=0:\n",
    "        class_accuracies.append((true_positive[i]/actual_count[i])*100)\n",
    "        print(\"Accuracy of Tag - Class {} is : {} %\".format(reverse_word_map.get(i),(class_accuracies[i-1])))\n",
    "    else:\n",
    "        class_accuracies.append(0)\n",
    "        print(\"Accuracy of Tag - Class {} is 0.0 % \".format(reverse_word_map.get(i)))"
   ]
  },
  {
   "cell_type": "code",
   "execution_count": 35,
   "metadata": {},
   "outputs": [
    {
     "data": {
      "image/png": "[encoded data removed]",
      "text/plain": [
       "<Figure size 1008x360 with 1 Axes>"
      ]
     },
     "metadata": {},
     "output_type": "display_data"
    }
   ],
   "source": [
    "fig = plt.figure(figsize = (14, 5)) \n",
    "# creating the bar plot \n",
    "category_list=[str(i) for i in range(1,NUM_TAGS)]\n",
    "plt.bar(category_list, class_accuracies, color ='blue',  \n",
    "        width = 0.4) \n",
    "  \n",
    "plt.xlabel(\"Tag - Classes\") \n",
    "plt.ylabel(\"Percentage Accuracy\") \n",
    "plt.title(\"Different Tag - Classes Accuracy\") \n",
    "plt.show() "
   ]
  },
  {
   "cell_type": "markdown",
   "metadata": {},
   "source": [
    "## Importing Unseen Test Data"
   ]
  },
  {
   "cell_type": "code",
   "execution_count": 36,
   "metadata": {},
   "outputs": [],
   "source": [
    "test_sentences_words=[]\n",
    "file = open('NER-Dataset--TestSet.txt', 'r')\n",
    "lines = file.readlines()\n",
    "temp_sentence_words=[]\n",
    "for line in lines:\n",
    "    if line==\"\\n\":#Blank line represents end of sentence\n",
    "        test_sentences_words.append(temp_sentence_words)\n",
    "        temp_sentence_words=[]\n",
    "        continue\n",
    "    temp=line.split(\"\\n\")[0]\n",
    "    temp_sentence_words.append(temp)\n",
    "file.close()"
   ]
  },
  {
   "cell_type": "code",
   "execution_count": 37,
   "metadata": {},
   "outputs": [
    {
     "data": {
      "text/plain": [
       "['@SammieLynnsMom',\n",
       " '@tg1.781',\n",
       " 'they',\n",
       " 'will',\n",
       " 'be',\n",
       " 'all',\n",
       " 'done',\n",
       " 'by',\n",
       " 'Sunday',\n",
       " 'trust',\n",
       " 'me',\n",
       " '*wink*']"
      ]
     },
     "execution_count": 37,
     "metadata": {},
     "output_type": "execute_result"
    }
   ],
   "source": [
    "test_sentences_words[0]"
   ]
  },
  {
   "cell_type": "markdown",
   "metadata": {},
   "source": [
    "### Tokenizing words"
   ]
  },
  {
   "cell_type": "code",
   "execution_count": 38,
   "metadata": {},
   "outputs": [],
   "source": [
    "X_Test=word_tokenizer.texts_to_sequences(test_sentences_words)"
   ]
  },
  {
   "cell_type": "code",
   "execution_count": 39,
   "metadata": {},
   "outputs": [],
   "source": [
    "X_Test_padded=pad_sequences(X_Test, maxlen=MAX_SEQ_LENGTH, padding=\"post\")"
   ]
  },
  {
   "cell_type": "code",
   "execution_count": 40,
   "metadata": {},
   "outputs": [],
   "source": [
    "Y_Predicted_Set=best_model.predict(X_Test_padded)"
   ]
  },
  {
   "cell_type": "code",
   "execution_count": 41,
   "metadata": {},
   "outputs": [
    {
     "data": {
      "text/plain": [
       "array([1, 1, 1, 1, 1, 1, 1, 1, 1, 0, 0, 0, 0, 0, 0, 0, 0, 0, 0, 0, 0, 0,\n",
       "       0, 0, 0, 0, 0, 0, 0, 0, 0, 0, 0, 0, 0, 0, 0], dtype=int64)"
      ]
     },
     "execution_count": 41,
     "metadata": {},
     "output_type": "execute_result"
    }
   ],
   "source": [
    "Y_Predicted=decode_pred(Y_Predicted_Set)\n",
    "Y_Predicted[0]"
   ]
  },
  {
   "cell_type": "code",
   "execution_count": 42,
   "metadata": {},
   "outputs": [],
   "source": [
    "reverse_word_map = dict(map(reversed, tags_tokenizer.word_index.items()))\n",
    "\n",
    "# Function takes a tokenized sentence and returns the words\n",
    "def sequence_to_text(list_of_indices):\n",
    "    # Looking up words in dictionary\n",
    "    words = [reverse_word_map.get(letter) for letter in list_of_indices]\n",
    "    return(words)\n",
    "\n",
    "# Creating texts \n",
    "Y_Pred_Labels = list(map(sequence_to_text, Y_Predicted))"
   ]
  },
  {
   "cell_type": "code",
   "execution_count": 43,
   "metadata": {},
   "outputs": [
    {
     "data": {
      "text/plain": [
       "['o',\n",
       " 'o',\n",
       " 'o',\n",
       " 'o',\n",
       " 'o',\n",
       " 'o',\n",
       " 'o',\n",
       " 'o',\n",
       " 'o',\n",
       " None,\n",
       " None,\n",
       " None,\n",
       " None,\n",
       " None,\n",
       " None,\n",
       " None,\n",
       " None,\n",
       " None,\n",
       " None,\n",
       " None,\n",
       " None,\n",
       " None,\n",
       " None,\n",
       " None,\n",
       " None,\n",
       " None,\n",
       " None,\n",
       " None,\n",
       " None,\n",
       " None,\n",
       " None,\n",
       " None,\n",
       " None,\n",
       " None,\n",
       " None,\n",
       " None,\n",
       " None]"
      ]
     },
     "execution_count": 43,
     "metadata": {},
     "output_type": "execute_result"
    }
   ],
   "source": [
    "Y_Pred_Labels[0]"
   ]
  },
  {
   "cell_type": "code",
   "execution_count": null,
   "metadata": {},
   "outputs": [],
   "source": []
  }
 ],
 "metadata": {
  "kernelspec": {
   "display_name": "Python 3",
   "language": "python",
   "name": "python3"
  },
  "language_info": {
   "codemirror_mode": {
    "name": "ipython",
    "version": 3
   },
   "file_extension": ".py",
   "mimetype": "text/x-python",
   "name": "python",
   "nbconvert_exporter": "python",
   "pygments_lexer": "ipython3",
   "version": "3.6.10"
  }
 },
 "nbformat": 4,
 "nbformat_minor": 4
}
