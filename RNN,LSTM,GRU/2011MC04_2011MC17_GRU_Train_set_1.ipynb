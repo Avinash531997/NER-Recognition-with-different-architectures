{
 "cells": [
  {
   "cell_type": "markdown",
   "metadata": {},
   "source": [
    "### Importing libraries"
   ]
  },
  {
   "cell_type": "code",
   "execution_count": 1,
   "metadata": {},
   "outputs": [
    {
     "name": "stderr",
     "output_type": "stream",
     "text": [
      "\n",
      "Bad key \"text.kerning_factor\" on line 4 in\n",
      "C:\\Users\\VISHAL SINGH\\Anaconda3\\lib\\site-packages\\matplotlib\\mpl-data\\stylelib\\_classic_test_patch.mplstyle.\n",
      "You probably need to get an updated matplotlibrc file from\n",
      "https://github.com/matplotlib/matplotlib/blob/v3.1.3/matplotlibrc.template\n",
      "or from the matplotlib source distribution\n"
     ]
    }
   ],
   "source": [
    "import numpy as np\n",
    "import pandas as pd\n",
    "import matplotlib.pyplot as plt\n",
    "import random\n",
    "\n",
    "from sklearn.metrics import confusion_matrix,classification_report\n",
    "from sklearn.model_selection import train_test_split\n",
    "\n",
    "from tensorflow.keras.preprocessing.text import Tokenizer\n",
    "\n",
    "plt.style.use(\"ggplot\")\n",
    "\n",
    "np.random.seed(0)"
   ]
  },
  {
   "cell_type": "markdown",
   "metadata": {},
   "source": [
    "### Loading and Exploring the NER Dataset"
   ]
  },
  {
   "cell_type": "code",
   "execution_count": 2,
   "metadata": {},
   "outputs": [],
   "source": [
    "sentences_words=[]\n",
    "sentences_tags=[]\n",
    "file = open('NER-Dataset-Train.txt', 'r')\n",
    "lines = file.readlines()\n",
    "temp_sentence_words=[]\n",
    "temp_sentence_tags=[]\n",
    "for line in lines:\n",
    "    if line==\"\\n\":#Sentences ends at every blank line\n",
    "        if len(temp_sentence_words)==0:#If zero length sentence is formed, then ignore\n",
    "            continue\n",
    "        sentences_words.append(temp_sentence_words)\n",
    "        temp_sentence_words=[]\n",
    "        sentences_tags.append(temp_sentence_tags)\n",
    "        temp_sentence_tags=[]\n",
    "        continue\n",
    "    temp=line.split(\"\\t\")#splitting to get the tag and the word\n",
    "    temp[1]=temp[1].split(\"\\n\")[0]\n",
    "\n",
    "    temp_sentence_words.append(temp[0])\n",
    "    temp_sentence_tags.append(temp[1])\n",
    "file.close()"
   ]
  },
  {
   "cell_type": "code",
   "execution_count": 3,
   "metadata": {},
   "outputs": [
    {
     "data": {
      "text/plain": [
       "['The',\n",
       " 'Basic',\n",
       " 'Step',\n",
       " 'Before',\n",
       " 'You',\n",
       " 'Even',\n",
       " 'Start',\n",
       " 'Thinking',\n",
       " 'Of',\n",
       " 'Making',\n",
       " 'Your',\n",
       " '...:',\n",
       " 'Keyword',\n",
       " 'research',\n",
       " 'is',\n",
       " 'a',\n",
       " 'well',\n",
       " 'known',\n",
       " 'subject',\n",
       " ',',\n",
       " 'yet',\n",
       " 'so',\n",
       " '...',\n",
       " 'http://bit.ly/9XQgSr']"
      ]
     },
     "execution_count": 3,
     "metadata": {},
     "output_type": "execute_result"
    }
   ],
   "source": [
    "sentences_words[4]"
   ]
  },
  {
   "cell_type": "code",
   "execution_count": 4,
   "metadata": {},
   "outputs": [
    {
     "data": {
      "text/plain": [
       "['O',\n",
       " 'O',\n",
       " 'O',\n",
       " 'O',\n",
       " 'O',\n",
       " 'O',\n",
       " 'O',\n",
       " 'O',\n",
       " 'O',\n",
       " 'O',\n",
       " 'O',\n",
       " 'O',\n",
       " 'O',\n",
       " 'O',\n",
       " 'O',\n",
       " 'O',\n",
       " 'O',\n",
       " 'O',\n",
       " 'O',\n",
       " 'O',\n",
       " 'O',\n",
       " 'O',\n",
       " 'O',\n",
       " 'O']"
      ]
     },
     "execution_count": 4,
     "metadata": {},
     "output_type": "execute_result"
    }
   ],
   "source": [
    "sentences_tags[4]"
   ]
  },
  {
   "cell_type": "code",
   "execution_count": 5,
   "metadata": {},
   "outputs": [],
   "source": [
    "X=sentences_words\n",
    "Y=sentences_tags"
   ]
  },
  {
   "cell_type": "code",
   "execution_count": 6,
   "metadata": {},
   "outputs": [
    {
     "data": {
      "text/plain": [
       "(900, 900)"
      ]
     },
     "execution_count": 6,
     "metadata": {},
     "output_type": "execute_result"
    }
   ],
   "source": [
    "len(X),len(Y)"
   ]
  },
  {
   "cell_type": "markdown",
   "metadata": {},
   "source": [
    "### Tokenizing"
   ]
  },
  {
   "cell_type": "code",
   "execution_count": 7,
   "metadata": {},
   "outputs": [
    {
     "data": {
      "text/plain": [
       "[1346, 231, 8, 16, 18, 808, 66, 22, 1347, 809]"
      ]
     },
     "execution_count": 7,
     "metadata": {},
     "output_type": "execute_result"
    }
   ],
   "source": [
    "word_tokenizer = Tokenizer()   #initializing tokenizer\n",
    "word_tokenizer.fit_on_texts(X) \n",
    "X_encoded = word_tokenizer.texts_to_sequences(X) #tokenizing input based on index of every word in vocab set\n",
    "X_encoded[3]"
   ]
  },
  {
   "cell_type": "code",
   "execution_count": 8,
   "metadata": {},
   "outputs": [
    {
     "data": {
      "text/plain": [
       "[1, 1, 1, 1, 1, 1, 1, 1, 1, 1]"
      ]
     },
     "execution_count": 8,
     "metadata": {},
     "output_type": "execute_result"
    }
   ],
   "source": [
    "tags_tokenizer = Tokenizer()\n",
    "tags_tokenizer.fit_on_texts(Y)\n",
    "Y_encoded = tags_tokenizer.texts_to_sequences(Y) # tokenizing each tag based on index in tag vocab.\n",
    "Y_encoded[3]"
   ]
  },
  {
   "cell_type": "code",
   "execution_count": 9,
   "metadata": {},
   "outputs": [
    {
     "data": {
      "text/plain": [
       "3"
      ]
     },
     "execution_count": 9,
     "metadata": {},
     "output_type": "execute_result"
    }
   ],
   "source": [
    "NUM_TAGS=len(tags_tokenizer.word_counts)\n",
    "NUM_TAGS"
   ]
  },
  {
   "cell_type": "code",
   "execution_count": 10,
   "metadata": {},
   "outputs": [
    {
     "data": {
      "text/plain": [
       "4542"
      ]
     },
     "execution_count": 10,
     "metadata": {},
     "output_type": "execute_result"
    }
   ],
   "source": [
    "VOCAB_SIZE=len(word_tokenizer.word_counts)\n",
    "VOCAB_SIZE"
   ]
  },
  {
   "cell_type": "code",
   "execution_count": 11,
   "metadata": {},
   "outputs": [
    {
     "data": {
      "text/plain": [
       "900"
      ]
     },
     "execution_count": 11,
     "metadata": {},
     "output_type": "execute_result"
    }
   ],
   "source": [
    "#Number of Sentences\n",
    "len(X)"
   ]
  },
  {
   "cell_type": "markdown",
   "metadata": {},
   "source": [
    "#### Length of the sentences"
   ]
  },
  {
   "cell_type": "code",
   "execution_count": 12,
   "metadata": {},
   "outputs": [
    {
     "data": {
      "image/png": "[encoded data removed]",
      "text/plain": [
       "<Figure size 432x288 with 1 Axes>"
      ]
     },
     "metadata": {},
     "output_type": "display_data"
    }
   ],
   "source": [
    "plt.hist([len(s) for s in X], bins=100, color=\"blue\")\n",
    "plt.show()\n",
    "MAX_SEQ_LENGTH=max([len(s) for s in X])"
   ]
  },
  {
   "cell_type": "code",
   "execution_count": 13,
   "metadata": {},
   "outputs": [
    {
     "data": {
      "text/plain": [
       "37"
      ]
     },
     "execution_count": 13,
     "metadata": {},
     "output_type": "execute_result"
    }
   ],
   "source": [
    "MAX_SEQ_LENGTH"
   ]
  },
  {
   "cell_type": "markdown",
   "metadata": {},
   "source": [
    "### Padding Input Sentences and Tags"
   ]
  },
  {
   "cell_type": "code",
   "execution_count": 14,
   "metadata": {},
   "outputs": [
    {
     "name": "stderr",
     "output_type": "stream",
     "text": [
      "Using TensorFlow backend.\n"
     ]
    },
    {
     "data": {
      "text/plain": [
       "array([1333,  804,   35,    8,  108,  197,   30,  805,   45,  198,   49,\n",
       "       1334,   87,   63,    4,   30,  287, 1335,  584,  379,   95, 1336,\n",
       "        379, 1337,    8,    0,    0,    0,    0,    0,    0,    0,    0,\n",
       "          0,    0,    0,    0])"
      ]
     },
     "execution_count": 14,
     "metadata": {},
     "output_type": "execute_result"
    }
   ],
   "source": [
    "from tensorflow.keras.preprocessing.sequence import pad_sequences\n",
    "from keras.utils import to_categorical\n",
    "\n",
    "X_padded = pad_sequences(X_encoded, maxlen=MAX_SEQ_LENGTH, padding=\"post\")\n",
    "X_padded[0]"
   ]
  },
  {
   "cell_type": "code",
   "execution_count": 15,
   "metadata": {},
   "outputs": [
    {
     "data": {
      "text/plain": [
       "array([1, 1, 1, 1, 1, 1, 1, 1, 1, 1, 1, 1, 1, 1, 1, 1, 1, 1, 1, 1, 1, 1,\n",
       "       1, 1, 1, 0, 0, 0, 0, 0, 0, 0, 0, 0, 0, 0, 0])"
      ]
     },
     "execution_count": 15,
     "metadata": {},
     "output_type": "execute_result"
    }
   ],
   "source": [
    "Y_padded = pad_sequences(Y_encoded, maxlen=MAX_SEQ_LENGTH, padding=\"post\")\n",
    "Y_padded[0]"
   ]
  },
  {
   "cell_type": "code",
   "execution_count": 16,
   "metadata": {},
   "outputs": [],
   "source": [
    "#Re-Assigning to X and Y for ease of use\n",
    "X, Y = X_padded, Y_padded"
   ]
  },
  {
   "cell_type": "code",
   "execution_count": 17,
   "metadata": {},
   "outputs": [
    {
     "name": "stdout",
     "output_type": "stream",
     "text": [
      "(900, 37, 4)\n"
     ]
    }
   ],
   "source": [
    "Y = to_categorical(Y)\n",
    "print(Y.shape)"
   ]
  },
  {
   "cell_type": "markdown",
   "metadata": {},
   "source": [
    "### Build and Compile a GRU Model"
   ]
  },
  {
   "cell_type": "code",
   "execution_count": 18,
   "metadata": {},
   "outputs": [],
   "source": [
    "from tensorflow.keras.models import Sequential\n",
    "from tensorflow.keras.layers import Embedding\n",
    "from tensorflow.keras.layers import Dense, Input\n",
    "from tensorflow.keras.layers import TimeDistributed\n",
    "from tensorflow.keras.layers import GRU,SpatialDropout1D,Dropout\n",
    "from tensorflow.keras.models import Model\n",
    "from tensorflow.keras.metrics import Precision, Recall"
   ]
  },
  {
   "cell_type": "code",
   "execution_count": 19,
   "metadata": {},
   "outputs": [],
   "source": [
    "EMBED_DIM=50\n",
    "NUM_TAGS=Y.shape[2]\n",
    "VOCAB_SIZE+=1"
   ]
  },
  {
   "cell_type": "code",
   "execution_count": 20,
   "metadata": {},
   "outputs": [],
   "source": [
    "def evaluate_model(X_train,Y_train,X_test,Y_test):\n",
    "    VALID_SIZE=0.15 #Validation Split Size\n",
    "    #Train - Validation Set Split\n",
    "    X_train, X_validation, Y_train, Y_validation = train_test_split(X_train, Y_train, test_size=VALID_SIZE, random_state=1)\n",
    "    # total number of tags\n",
    "    \n",
    "    model = Sequential()\n",
    "\n",
    "    # Embedding layer \n",
    "    model.add(Embedding(input_dim     =  VOCAB_SIZE,         \n",
    "                            output_dim    =  EMBED_DIM,          \n",
    "                            input_length  =  MAX_SEQ_LENGTH,              \n",
    "                            trainable     =  True                     # True - update the embeddings while training\n",
    "    ))\n",
    "\n",
    "    \n",
    "    #Adding GRU Layer \n",
    "    model.add(GRU(64, \n",
    "                  return_sequences=True  # True to return whole sequence output \n",
    "    ))\n",
    "\n",
    "    model.add(Dropout(0.2)) # Adding dropout to avoid overfitting\n",
    "    \n",
    "    # Adding TimeDistributed layer - Softmax output based on number of classes or tags\n",
    "    model.add(TimeDistributed(Dense(NUM_TAGS, activation='softmax')))\n",
    "\n",
    "    #Compiling model\n",
    "    model.compile(loss      =  'categorical_crossentropy',\n",
    "                      optimizer =  'adam',\n",
    "                      metrics   =  ['acc', Precision(), Recall()])\n",
    "    \n",
    "    # model summary\n",
    "    model.summary()\n",
    "    #Hyper-parameters for the model\n",
    "    epochs=10\n",
    "    batch_size=128\n",
    "    \n",
    "\n",
    "    #Fitting Model\n",
    "    rnn_training = model.fit(X_train, Y_train, batch_size=batch_size, epochs=epochs, validation_data=(X_validation, Y_validation))\n",
    "    #Model Evaluation\n",
    "    loss, accuracy, precision, recall = model.evaluate(X_train, Y_train, verbose = 1)\n",
    "    print(\"Loss: {0},\\nTrain Accuracy: {1}\".format(loss, accuracy*100))\n",
    "    print(\"Precision: {0},\\nRecall: {1}\".format(precision, recall))\n",
    "    print(\" \"*50)\n",
    "    loss, accuracy, precision, recall = model.evaluate(X_test, Y_test, verbose = 1)\n",
    "    print(\"Loss: {0},\\nTest Accuracy: {1}\".format(loss, accuracy*100))\n",
    "    print(\"Precision: {0},\\nRecall: {1}\".format(precision, recall))\n",
    "    Y_pred=model.predict(X_test)\n",
    "    return model,Y_pred,Y_test,accuracy,precision,recall"
   ]
  },
  {
   "cell_type": "markdown",
   "metadata": {},
   "source": [
    "### 5 - Fold cross Validation"
   ]
  },
  {
   "cell_type": "code",
   "execution_count": 21,
   "metadata": {},
   "outputs": [
    {
     "name": "stdout",
     "output_type": "stream",
     "text": [
      "****************************************************************************************************\n",
      "                        Cross Validation - 1 iteration\n",
      "****************************************************************************************************\n",
      "Model: \"sequential\"\n",
      "_________________________________________________________________\n",
      "Layer (type)                 Output Shape              Param #   \n",
      "=================================================================\n",
      "embedding (Embedding)        (None, 37, 50)            227150    \n",
      "_________________________________________________________________\n",
      "gru (GRU)                    (None, 37, 64)            22272     \n",
      "_________________________________________________________________\n",
      "dropout (Dropout)            (None, 37, 64)            0         \n",
      "_________________________________________________________________\n",
      "time_distributed (TimeDistri (None, 37, 4)             260       \n",
      "=================================================================\n",
      "Total params: 249,682\n",
      "Trainable params: 249,682\n",
      "Non-trainable params: 0\n",
      "_________________________________________________________________\n",
      "Epoch 1/10\n",
      "5/5 [==============================] - 16s 715ms/step - loss: 1.3639 - acc: 0.4710 - precision: 0.0000e+00 - recall: 0.0000e+00 - val_loss: 1.2943 - val_acc: 0.9520 - val_precision: 0.0000e+00 - val_recall: 0.0000e+00\n",
      "Epoch 2/10\n",
      "5/5 [==============================] - 1s 117ms/step - loss: 1.2701 - acc: 0.9597 - precision: 0.0000e+00 - recall: 0.0000e+00 - val_loss: 1.1899 - val_acc: 0.9660 - val_precision: 0.0000e+00 - val_recall: 0.0000e+00\n",
      "Epoch 3/10\n",
      "5/5 [==============================] - 0s 110ms/step - loss: 1.1573 - acc: 0.9663 - precision: 0.0000e+00 - recall: 0.0000e+00 - val_loss: 1.0538 - val_acc: 0.9642 - val_precision: 0.0000e+00 - val_recall: 0.0000e+00\n",
      "Epoch 4/10\n",
      "5/5 [==============================] - 1s 115ms/step - loss: 1.0057 - acc: 0.9647 - precision: 0.6667 - recall: 0.0124 - val_loss: 0.8687 - val_acc: 0.9575 - val_precision: 1.0000 - val_recall: 0.3183\n",
      "Epoch 5/10\n",
      "5/5 [==============================] - 0s 103ms/step - loss: 0.8065 - acc: 0.9559 - precision: 0.9994 - recall: 0.3469 - val_loss: 0.6311 - val_acc: 0.9499 - val_precision: 0.9904 - val_recall: 0.6186\n",
      "Epoch 6/10\n",
      "5/5 [==============================] - 1s 107ms/step - loss: 0.5591 - acc: 0.9477 - precision: 0.9809 - recall: 0.7360 - val_loss: 0.4058 - val_acc: 0.9437 - val_precision: 0.9583 - val_recall: 0.8504\n",
      "Epoch 7/10\n",
      "5/5 [==============================] - 1s 108ms/step - loss: 0.3513 - acc: 0.9421 - precision: 0.9505 - recall: 0.8698 - val_loss: 0.2985 - val_acc: 0.9517 - val_precision: 0.9549 - val_recall: 0.9004\n",
      "Epoch 8/10\n",
      "5/5 [==============================] - 0s 105ms/step - loss: 0.2715 - acc: 0.9503 - precision: 0.9525 - recall: 0.9098 - val_loss: 0.2830 - val_acc: 0.9414 - val_precision: 0.9437 - val_recall: 0.9027\n",
      "Epoch 9/10\n",
      "5/5 [==============================] - 1s 120ms/step - loss: 0.2527 - acc: 0.9485 - precision: 0.9508 - recall: 0.9200 - val_loss: 0.2721 - val_acc: 0.9434 - val_precision: 0.9456 - val_recall: 0.9094\n",
      "Epoch 10/10\n",
      "5/5 [==============================] - 1s 110ms/step - loss: 0.2284 - acc: 0.9544 - precision: 0.9560 - recall: 0.9293 - val_loss: 0.2877 - val_acc: 0.9302 - val_precision: 0.9328 - val_recall: 0.8996\n",
      "20/20 [==============================] - 0s 8ms/step - loss: 0.2033 - acc: 0.9638 - precision: 0.9661 - recall: 0.9414\n",
      "Loss: 0.20334437489509583,\n",
      "Train Accuracy: 96.38314843177795\n",
      "Precision: 0.9661001563072205,\n",
      "Recall: 0.9413973093032837\n",
      "                                                  \n",
      "6/6 [==============================] - 0s 11ms/step - loss: 0.3060 - acc: 0.9270 - precision: 0.9299 - recall: 0.8977\n",
      "Loss: 0.3059579133987427,\n",
      "Test Accuracy: 92.70270466804504\n",
      "Precision: 0.9298600554466248,\n",
      "Recall: 0.8977477550506592\n",
      "****************************************************************************************************\n",
      "                        Cross Validation - 2 iteration\n",
      "****************************************************************************************************\n",
      "Model: \"sequential_1\"\n",
      "_________________________________________________________________\n",
      "Layer (type)                 Output Shape              Param #   \n",
      "=================================================================\n",
      "embedding_1 (Embedding)      (None, 37, 50)            227150    \n",
      "_________________________________________________________________\n",
      "gru_1 (GRU)                  (None, 37, 64)            22272     \n",
      "_________________________________________________________________\n",
      "dropout_1 (Dropout)          (None, 37, 64)            0         \n",
      "_________________________________________________________________\n",
      "time_distributed_1 (TimeDist (None, 37, 4)             260       \n",
      "=================================================================\n",
      "Total params: 249,682\n",
      "Trainable params: 249,682\n",
      "Non-trainable params: 0\n",
      "_________________________________________________________________\n",
      "Epoch 1/10\n",
      "5/5 [==============================] - 16s 527ms/step - loss: 1.3834 - acc: 0.3742 - precision_1: 0.0000e+00 - recall_1: 0.0000e+00 - val_loss: 1.3187 - val_acc: 0.9177 - val_precision_1: 0.0000e+00 - val_recall_1: 0.0000e+00\n",
      "Epoch 2/10\n",
      "5/5 [==============================] - 0s 103ms/step - loss: 1.2977 - acc: 0.9210 - precision_1: 0.0000e+00 - recall_1: 0.0000e+00 - val_loss: 1.2243 - val_acc: 0.9597 - val_precision_1: 0.0000e+00 - val_recall_1: 0.0000e+00\n",
      "Epoch 3/10\n",
      "5/5 [==============================] - 0s 97ms/step - loss: 1.1972 - acc: 0.9569 - precision_1: 0.0000e+00 - recall_1: 0.0000e+00 - val_loss: 1.0995 - val_acc: 0.9617 - val_precision_1: 0.0000e+00 - val_recall_1: 0.0000e+00\n",
      "Epoch 4/10\n",
      "5/5 [==============================] - 0s 98ms/step - loss: 1.0583 - acc: 0.9642 - precision_1: 0.5000 - recall_1: 0.0030 - val_loss: 0.9236 - val_acc: 0.9612 - val_precision_1: 1.0000 - val_recall_1: 0.2608\n",
      "Epoch 5/10\n",
      "5/5 [==============================] - 0s 94ms/step - loss: 0.8654 - acc: 0.9615 - precision_1: 1.0000 - recall_1: 0.3032 - val_loss: 0.6864 - val_acc: 0.9575 - val_precision_1: 1.0000 - val_recall_1: 0.4162\n",
      "Epoch 6/10\n",
      "5/5 [==============================] - 0s 94ms/step - loss: 0.6167 - acc: 0.9593 - precision_1: 0.9934 - recall_1: 0.5378 - val_loss: 0.4556 - val_acc: 0.9459 - val_precision_1: 0.9706 - val_recall_1: 0.8011\n",
      "Epoch 7/10\n",
      "5/5 [==============================] - 0s 99ms/step - loss: 0.4072 - acc: 0.9445 - precision_1: 0.9579 - recall_1: 0.8324 - val_loss: 0.3248 - val_acc: 0.9414 - val_precision_1: 0.9471 - val_recall_1: 0.8739\n",
      "Epoch 8/10\n",
      "5/5 [==============================] - 0s 96ms/step - loss: 0.2964 - acc: 0.9443 - precision_1: 0.9467 - recall_1: 0.8877 - val_loss: 0.3066 - val_acc: 0.9324 - val_precision_1: 0.9366 - val_recall_1: 0.8876\n",
      "Epoch 9/10\n",
      "5/5 [==============================] - 0s 104ms/step - loss: 0.2820 - acc: 0.9392 - precision_1: 0.9410 - recall_1: 0.8988 - val_loss: 0.2877 - val_acc: 0.9374 - val_precision_1: 0.9404 - val_recall_1: 0.8964\n",
      "Epoch 10/10\n",
      "5/5 [==============================] - 0s 95ms/step - loss: 0.2507 - acc: 0.9442 - precision_1: 0.9461 - recall_1: 0.9119 - val_loss: 0.3105 - val_acc: 0.9302 - val_precision_1: 0.9336 - val_recall_1: 0.8936\n",
      "20/20 [==============================] - 0s 10ms/step - loss: 0.2224 - acc: 0.9594 - precision_1: 0.9622 - recall_1: 0.9303\n",
      "Loss: 0.2224145531654358,\n",
      "Train Accuracy: 95.94153165817261\n",
      "Precision: 0.9622253775596619,\n",
      "Recall: 0.9303126931190491\n",
      "                                                  \n",
      "6/6 [==============================] - 0s 9ms/step - loss: 0.2629 - acc: 0.9411 - precision_1: 0.9438 - recall_1: 0.9008\n",
      "Loss: 0.2629419267177582,\n",
      "Test Accuracy: 94.1141128540039\n",
      "Precision: 0.9438325762748718,\n",
      "Recall: 0.9007507562637329\n",
      "****************************************************************************************************\n",
      "                        Cross Validation - 3 iteration\n",
      "****************************************************************************************************\n",
      "Model: \"sequential_2\"\n",
      "_________________________________________________________________\n",
      "Layer (type)                 Output Shape              Param #   \n",
      "=================================================================\n",
      "embedding_2 (Embedding)      (None, 37, 50)            227150    \n",
      "_________________________________________________________________\n",
      "gru_2 (GRU)                  (None, 37, 64)            22272     \n",
      "_________________________________________________________________\n",
      "dropout_2 (Dropout)          (None, 37, 64)            0         \n",
      "_________________________________________________________________\n",
      "time_distributed_2 (TimeDist (None, 37, 4)             260       \n",
      "=================================================================\n",
      "Total params: 249,682\n",
      "Trainable params: 249,682\n",
      "Non-trainable params: 0\n",
      "_________________________________________________________________\n",
      "Epoch 1/10\n"
     ]
    },
    {
     "name": "stdout",
     "output_type": "stream",
     "text": [
      "5/5 [==============================] - 12s 597ms/step - loss: 1.3718 - acc: 0.4791 - precision_2: 0.0000e+00 - recall_2: 0.0000e+00 - val_loss: 1.3027 - val_acc: 0.9254 - val_precision_2: 0.0000e+00 - val_recall_2: 0.0000e+00\n",
      "Epoch 2/10\n",
      "5/5 [==============================] - 0s 95ms/step - loss: 1.2805 - acc: 0.9294 - precision_2: 0.0000e+00 - recall_2: 0.0000e+00 - val_loss: 1.2002 - val_acc: 0.9640 - val_precision_2: 0.0000e+00 - val_recall_2: 0.0000e+00\n",
      "Epoch 3/10\n",
      "5/5 [==============================] - 0s 94ms/step - loss: 1.1728 - acc: 0.9605 - precision_2: 0.0000e+00 - recall_2: 0.0000e+00 - val_loss: 1.0659 - val_acc: 0.9672 - val_precision_2: 0.0000e+00 - val_recall_2: 0.0000e+00\n",
      "Epoch 4/10\n",
      "5/5 [==============================] - 0s 103ms/step - loss: 1.0289 - acc: 0.9665 - precision_2: 0.5000 - recall_2: 0.0026 - val_loss: 0.8827 - val_acc: 0.9675 - val_precision_2: 1.0000 - val_recall_2: 0.3091\n",
      "Epoch 5/10\n",
      "5/5 [==============================] - 0s 99ms/step - loss: 0.8306 - acc: 0.9689 - precision_2: 1.0000 - recall_2: 0.3194 - val_loss: 0.6470 - val_acc: 0.9670 - val_precision_2: 1.0000 - val_recall_2: 0.4917\n",
      "Epoch 6/10\n",
      "5/5 [==============================] - 0s 98ms/step - loss: 0.5969 - acc: 0.9653 - precision_2: 0.9920 - recall_2: 0.6200 - val_loss: 0.4457 - val_acc: 0.9612 - val_precision_2: 0.9784 - val_recall_2: 0.8506\n",
      "Epoch 7/10\n",
      "5/5 [==============================] - 0s 101ms/step - loss: 0.4226 - acc: 0.9540 - precision_2: 0.9622 - recall_2: 0.8651 - val_loss: 0.3374 - val_acc: 0.9454 - val_precision_2: 0.9502 - val_recall_2: 0.8929\n",
      "Epoch 8/10\n",
      "5/5 [==============================] - 0s 96ms/step - loss: 0.3210 - acc: 0.9406 - precision_2: 0.9425 - recall_2: 0.8943 - val_loss: 0.2724 - val_acc: 0.9525 - val_precision_2: 0.9562 - val_recall_2: 0.9114\n",
      "Epoch 9/10\n",
      "5/5 [==============================] - 0s 104ms/step - loss: 0.2573 - acc: 0.9492 - precision_2: 0.9514 - recall_2: 0.9147 - val_loss: 0.2402 - val_acc: 0.9497 - val_precision_2: 0.9533 - val_recall_2: 0.9152\n",
      "Epoch 10/10\n",
      "5/5 [==============================] - 1s 160ms/step - loss: 0.2290 - acc: 0.9479 - precision_2: 0.9509 - recall_2: 0.9191 - val_loss: 0.2247 - val_acc: 0.9492 - val_precision_2: 0.9523 - val_recall_2: 0.9199\n",
      "20/20 [==============================] - 0s 9ms/step - loss: 0.2064 - acc: 0.9497 - precision_2: 0.9523 - recall_2: 0.9245\n",
      "Loss: 0.20636525750160217,\n",
      "Train Accuracy: 94.97438669204712\n",
      "Precision: 0.952283501625061,\n",
      "Recall: 0.9245274662971497\n",
      "                                                  \n",
      "6/6 [==============================] - 0s 9ms/step - loss: 0.2676 - acc: 0.9386 - precision_2: 0.9413 - recall_2: 0.9071\n",
      "Loss: 0.26758551597595215,\n",
      "Test Accuracy: 93.8588559627533\n",
      "Precision: 0.94125896692276,\n",
      "Recall: 0.9070570468902588\n",
      "****************************************************************************************************\n",
      "                        Cross Validation - 4 iteration\n",
      "****************************************************************************************************\n",
      "Model: \"sequential_3\"\n",
      "_________________________________________________________________\n",
      "Layer (type)                 Output Shape              Param #   \n",
      "=================================================================\n",
      "embedding_3 (Embedding)      (None, 37, 50)            227150    \n",
      "_________________________________________________________________\n",
      "gru_3 (GRU)                  (None, 37, 64)            22272     \n",
      "_________________________________________________________________\n",
      "dropout_3 (Dropout)          (None, 37, 64)            0         \n",
      "_________________________________________________________________\n",
      "time_distributed_3 (TimeDist (None, 37, 4)             260       \n",
      "=================================================================\n",
      "Total params: 249,682\n",
      "Trainable params: 249,682\n",
      "Non-trainable params: 0\n",
      "_________________________________________________________________\n",
      "Epoch 1/10\n",
      "5/5 [==============================] - 12s 645ms/step - loss: 1.3813 - acc: 0.2854 - precision_3: 0.0000e+00 - recall_3: 0.0000e+00 - val_loss: 1.3209 - val_acc: 0.8924 - val_precision_3: 0.0000e+00 - val_recall_3: 0.0000e+00\n",
      "Epoch 2/10\n",
      "5/5 [==============================] - 1s 122ms/step - loss: 1.2998 - acc: 0.8889 - precision_3: 0.0000e+00 - recall_3: 0.0000e+00 - val_loss: 1.2337 - val_acc: 0.9397 - val_precision_3: 0.0000e+00 - val_recall_3: 0.0000e+00\n",
      "Epoch 3/10\n",
      "5/5 [==============================] - 1s 138ms/step - loss: 1.2060 - acc: 0.9501 - precision_3: 0.0000e+00 - recall_3: 0.0000e+00 - val_loss: 1.1198 - val_acc: 0.9447 - val_precision_3: 0.0000e+00 - val_recall_3: 0.0000e+00\n",
      "Epoch 4/10\n",
      "5/5 [==============================] - 1s 129ms/step - loss: 1.0806 - acc: 0.9562 - precision_3: 0.3333 - recall_3: 2.0609e-04 - val_loss: 0.9591 - val_acc: 0.9432 - val_precision_3: 0.0000e+00 - val_recall_3: 0.0000e+00\n",
      "Epoch 5/10\n",
      "5/5 [==============================] - 1s 135ms/step - loss: 0.9006 - acc: 0.9414 - precision_3: 1.0000 - recall_3: 0.2185 - val_loss: 0.7367 - val_acc: 0.8944 - val_precision_3: 1.0000 - val_recall_3: 0.4632\n",
      "Epoch 6/10\n",
      "5/5 [==============================] - 0s 91ms/step - loss: 0.6787 - acc: 0.8605 - precision_3: 0.9563 - recall_3: 0.4681 - val_loss: 0.6079 - val_acc: 0.7615 - val_precision_3: 0.7630 - val_recall_3: 0.5358\n",
      "Epoch 7/10\n",
      "5/5 [==============================] - 0s 99ms/step - loss: 0.5671 - acc: 0.8271 - precision_3: 0.8262 - recall_3: 0.6531 - val_loss: 0.5110 - val_acc: 0.9472 - val_precision_3: 0.9576 - val_recall_3: 0.8584\n",
      "Epoch 8/10\n",
      "5/5 [==============================] - 0s 97ms/step - loss: 0.4450 - acc: 0.9487 - precision_3: 0.9537 - recall_3: 0.8723 - val_loss: 0.4039 - val_acc: 0.9347 - val_precision_3: 0.9426 - val_recall_3: 0.8714\n",
      "Epoch 9/10\n",
      "5/5 [==============================] - 1s 101ms/step - loss: 0.3351 - acc: 0.9503 - precision_3: 0.9535 - recall_3: 0.8968 - val_loss: 0.3381 - val_acc: 0.9354 - val_precision_3: 0.9407 - val_recall_3: 0.8856\n",
      "Epoch 10/10\n",
      "5/5 [==============================] - 0s 100ms/step - loss: 0.2690 - acc: 0.9520 - precision_3: 0.9547 - recall_3: 0.9116 - val_loss: 0.3057 - val_acc: 0.9399 - val_precision_3: 0.9456 - val_recall_3: 0.8969\n",
      "20/20 [==============================] - 0s 13ms/step - loss: 0.2306 - acc: 0.9563 - precision_3: 0.9590 - recall_3: 0.9265\n",
      "Loss: 0.2306368499994278,\n",
      "Train Accuracy: 95.62798142433167\n",
      "Precision: 0.9590418934822083,\n",
      "Recall: 0.926514744758606\n",
      "                                                  \n",
      "6/6 [==============================] - 0s 9ms/step - loss: 0.2621 - acc: 0.9565 - precision_3: 0.9592 - recall_3: 0.9168\n",
      "Loss: 0.26209935545921326,\n",
      "Test Accuracy: 95.64564824104309\n",
      "Precision: 0.9591580033302307,\n",
      "Recall: 0.9168168306350708\n",
      "****************************************************************************************************\n",
      "                        Cross Validation - 5 iteration\n",
      "****************************************************************************************************\n",
      "Model: \"sequential_4\"\n",
      "_________________________________________________________________\n",
      "Layer (type)                 Output Shape              Param #   \n",
      "=================================================================\n",
      "embedding_4 (Embedding)      (None, 37, 50)            227150    \n",
      "_________________________________________________________________\n",
      "gru_4 (GRU)                  (None, 37, 64)            22272     \n",
      "_________________________________________________________________\n",
      "dropout_4 (Dropout)          (None, 37, 64)            0         \n",
      "_________________________________________________________________\n",
      "time_distributed_4 (TimeDist (None, 37, 4)             260       \n",
      "=================================================================\n",
      "Total params: 249,682\n",
      "Trainable params: 249,682\n",
      "Non-trainable params: 0\n",
      "_________________________________________________________________\n",
      "Epoch 1/10\n",
      "5/5 [==============================] - 8s 518ms/step - loss: 1.3805 - acc: 0.3904 - precision_4: 0.0000e+00 - recall_4: 0.0000e+00 - val_loss: 1.3238 - val_acc: 0.9162 - val_precision_4: 0.0000e+00 - val_recall_4: 0.0000e+00\n",
      "Epoch 2/10\n"
     ]
    },
    {
     "name": "stdout",
     "output_type": "stream",
     "text": [
      "5/5 [==============================] - 1s 103ms/step - loss: 1.3030 - acc: 0.9340 - precision_4: 0.0000e+00 - recall_4: 0.0000e+00 - val_loss: 1.2418 - val_acc: 0.9479 - val_precision_4: 0.0000e+00 - val_recall_4: 0.0000e+00\n",
      "Epoch 3/10\n",
      "5/5 [==============================] - 0s 101ms/step - loss: 1.2117 - acc: 0.9615 - precision_4: 0.0000e+00 - recall_4: 0.0000e+00 - val_loss: 1.1351 - val_acc: 0.9505 - val_precision_4: 0.0000e+00 - val_recall_4: 0.0000e+00\n",
      "Epoch 4/10\n",
      "5/5 [==============================] - 0s 102ms/step - loss: 1.0913 - acc: 0.9663 - precision_4: 0.0000e+00 - recall_4: 0.0000e+00 - val_loss: 0.9881 - val_acc: 0.9474 - val_precision_4: 0.0000e+00 - val_recall_4: 0.0000e+00\n",
      "Epoch 5/10\n",
      "5/5 [==============================] - 0s 109ms/step - loss: 0.9230 - acc: 0.9664 - precision_4: 1.0000 - recall_4: 0.1604 - val_loss: 0.7899 - val_acc: 0.9357 - val_precision_4: 1.0000 - val_recall_4: 0.3949\n",
      "Epoch 6/10\n",
      "5/5 [==============================] - 0s 99ms/step - loss: 0.7029 - acc: 0.9589 - precision_4: 0.9999 - recall_4: 0.4389 - val_loss: 0.5929 - val_acc: 0.8881 - val_precision_4: 0.9945 - val_recall_4: 0.4517\n",
      "Epoch 7/10\n",
      "5/5 [==============================] - 0s 101ms/step - loss: 0.5119 - acc: 0.9396 - precision_4: 0.9895 - recall_4: 0.6021 - val_loss: 0.4487 - val_acc: 0.9382 - val_precision_4: 0.9568 - val_recall_4: 0.8421\n",
      "Epoch 8/10\n",
      "5/5 [==============================] - 0s 97ms/step - loss: 0.3576 - acc: 0.9562 - precision_4: 0.9647 - recall_4: 0.8870 - val_loss: 0.3577 - val_acc: 0.9212 - val_precision_4: 0.9232 - val_recall_4: 0.8726\n",
      "Epoch 9/10\n",
      "5/5 [==============================] - 0s 83ms/step - loss: 0.2871 - acc: 0.9352 - precision_4: 0.9373 - recall_4: 0.8954 - val_loss: 0.3675 - val_acc: 0.9207 - val_precision_4: 0.9215 - val_recall_4: 0.8816\n",
      "Epoch 10/10\n",
      "5/5 [==============================] - 0s 84ms/step - loss: 0.2496 - acc: 0.9417 - precision_4: 0.9446 - recall_4: 0.9137 - val_loss: 0.3789 - val_acc: 0.9119 - val_precision_4: 0.9124 - val_recall_4: 0.8789\n",
      "20/20 [==============================] - 0s 11ms/step - loss: 0.2204 - acc: 0.9520 - precision_4: 0.9545 - recall_4: 0.9259\n",
      "Loss: 0.2203514277935028,\n",
      "Train Accuracy: 95.19960880279541\n",
      "Precision: 0.9545206427574158,\n",
      "Recall: 0.9259406328201294\n",
      "                                                  \n",
      "6/6 [==============================] - 0s 6ms/step - loss: 0.2850 - acc: 0.9320 - precision_4: 0.9330 - recall_4: 0.8985\n",
      "Loss: 0.2850327491760254,\n",
      "Test Accuracy: 93.19819808006287\n",
      "Precision: 0.9329591393470764,\n",
      "Recall: 0.8984984755516052\n"
     ]
    }
   ],
   "source": [
    "from sklearn.model_selection import ShuffleSplit\n",
    "#Shuffling and splitting into 5 different sets for cross validation\n",
    "cv = ShuffleSplit(n_splits=5, test_size=.20, random_state=1)\n",
    "cv_scores=[0]*5\n",
    "itr=0\n",
    "prec=[0]*5\n",
    "rec=[0]*5\n",
    "#Initializing\n",
    "best_pred_set=None\n",
    "best_test_set=None\n",
    "best_accuracy=0 \n",
    "best_precision=0\n",
    "best_recall=0\n",
    "#For each split creating and evaluating model\n",
    "for train_idx,test_idx in cv.split(X):\n",
    "    itr+=1\n",
    "    print(\"*\"*100)\n",
    "    print(\"                        Cross Validation - {} iteration\".format(itr))\n",
    "    print(\"*\"*100)\n",
    "    model,Pred_Set,Test_Set,cv_scores[itr-1],prec[itr-1],rec[itr-1]=evaluate_model(X[train_idx],Y[train_idx]\n",
    "                                                            ,X[test_idx],Y[test_idx])\n",
    "    if cv_scores[itr-1]>best_accuracy:\n",
    "        best_accuracy=cv_scores[itr-1]\n",
    "        best_precision=prec[itr-1]\n",
    "        best_recall=rec[itr-1]\n",
    "        best_test_set=Test_Set\n",
    "        best_pred_set=Pred_Set\n",
    "        best_model=model"
   ]
  },
  {
   "cell_type": "markdown",
   "metadata": {},
   "source": [
    "### Analysis of the best model among the 5 folds"
   ]
  },
  {
   "cell_type": "code",
   "execution_count": 22,
   "metadata": {},
   "outputs": [
    {
     "name": "stdout",
     "output_type": "stream",
     "text": [
      "Average Test Accuracy is given as 0.9390390396118165\n"
     ]
    }
   ],
   "source": [
    "print(\"Average Test Accuracy is given as {}\".format(sum(cv_scores)/len(cv_scores)))"
   ]
  },
  {
   "cell_type": "code",
   "execution_count": 23,
   "metadata": {},
   "outputs": [
    {
     "name": "stdout",
     "output_type": "stream",
     "text": [
      "Best Test Accuracy among all the folds is given as 0.9564564824104309\n"
     ]
    }
   ],
   "source": [
    "print(\"Best Test Accuracy among all the folds is given as {}\".format(best_accuracy))"
   ]
  },
  {
   "cell_type": "code",
   "execution_count": 24,
   "metadata": {},
   "outputs": [
    {
     "name": "stdout",
     "output_type": "stream",
     "text": [
      "The Accuracies for the 5 folds are given as :\n",
      "0.9270270466804504 0.9411411285400391 0.938588559627533 0.9564564824104309 0.9319819808006287\n"
     ]
    }
   ],
   "source": [
    "print(\"The Accuracies for the 5 folds are given as :\")\n",
    "print(*cv_scores)"
   ]
  },
  {
   "cell_type": "code",
   "execution_count": 25,
   "metadata": {},
   "outputs": [
    {
     "name": "stdout",
     "output_type": "stream",
     "text": [
      "Average precision : 0.9414137482643128, Average Recall : 0.9041741728782654\n"
     ]
    }
   ],
   "source": [
    "print(\"Average precision : {}, Average Recall : {}\".format(sum(prec)/5,sum(rec)/5))"
   ]
  },
  {
   "cell_type": "code",
   "execution_count": 26,
   "metadata": {},
   "outputs": [],
   "source": [
    "def f_score(p,r):\n",
    "    return 2*(p*r)/(p+r)\n",
    "\n",
    "best_fscore=f_score(best_precision,best_recall)"
   ]
  },
  {
   "cell_type": "code",
   "execution_count": 27,
   "metadata": {},
   "outputs": [
    {
     "name": "stdout",
     "output_type": "stream",
     "text": [
      "Best Model Precision : 0.9591580033302307, Recall : 0.9168168306350708 and F-Score : 0.9375095921012231\n"
     ]
    }
   ],
   "source": [
    "print(\"Best Model Precision : {}, Recall : {} and F-Score : {}\".format(best_precision,\n",
    "                                                                       best_recall,best_fscore))"
   ]
  },
  {
   "cell_type": "code",
   "execution_count": 28,
   "metadata": {},
   "outputs": [],
   "source": [
    "reverse_word_map = dict(map(reversed, tags_tokenizer.word_index.items()))"
   ]
  },
  {
   "cell_type": "markdown",
   "metadata": {},
   "source": [
    "### Decoding the predicted tags in the best_pred_set"
   ]
  },
  {
   "cell_type": "code",
   "execution_count": 29,
   "metadata": {},
   "outputs": [],
   "source": [
    "def decode_pred(Y):\n",
    "    #Defining an empty matrix of zeros of shape of best_pred_set\n",
    "    out = np.zeros(Y.shape)\n",
    "    #Finding the tag index for each sequence which has the highest probablity value \n",
    "    idx = Y.argmax(axis=-1)\n",
    "    #Setting that value to 1 and rest to 0\n",
    "    out[np.arange(Y.shape[0])[:,None],np.arange(Y.shape[1]),idx] = 1\n",
    "    pred=np.argmax(out, axis=-1)\n",
    "    return pred\n",
    "    "
   ]
  },
  {
   "cell_type": "code",
   "execution_count": 30,
   "metadata": {},
   "outputs": [
    {
     "data": {
      "text/plain": [
       "array([1, 1, 1, 1, 1, 1, 1, 1, 1, 1, 1, 0, 0, 0, 0, 0, 0, 0, 0, 0, 0, 0,\n",
       "       0, 0, 0, 0, 0, 0, 0, 0, 0, 0, 0, 0, 0, 0, 0], dtype=int64)"
      ]
     },
     "execution_count": 30,
     "metadata": {},
     "output_type": "execute_result"
    }
   ],
   "source": [
    "#Finding the index having the max value among the 21 tag values for a certain sequence\n",
    "best_pred=decode_pred(best_pred_set)\n",
    "best_test=np.argmax(best_test_set,axis=2)\n",
    "#Actual Tags(Encoded) for the 2nd sequence in Test Set\n",
    "best_test[3]"
   ]
  },
  {
   "cell_type": "code",
   "execution_count": 31,
   "metadata": {},
   "outputs": [
    {
     "data": {
      "text/plain": [
       "array([1, 1, 1, 1, 1, 1, 1, 1, 1, 1, 1, 1, 0, 0, 0, 0, 0, 0, 0, 0, 0, 0,\n",
       "       0, 0, 0, 0, 0, 0, 0, 0, 0, 0, 0, 0, 0, 0, 0], dtype=int64)"
      ]
     },
     "execution_count": 31,
     "metadata": {},
     "output_type": "execute_result"
    }
   ],
   "source": [
    "#Predicted Tags(Encoded) for the 2nd sequence in Test Set\n",
    "best_pred[3]"
   ]
  },
  {
   "cell_type": "markdown",
   "metadata": {},
   "source": [
    "### Class-wise accuracy for the different tags"
   ]
  },
  {
   "cell_type": "code",
   "execution_count": 32,
   "metadata": {},
   "outputs": [],
   "source": [
    "true_positive=[0]*(NUM_TAGS)\n",
    "actual_count=[0]*(NUM_TAGS)\n",
    "for i in range(best_test.shape[0]):\n",
    "    for j in range(best_test.shape[1]):\n",
    "        if best_test[i][j]==0: #Ignore if its 0 as it is present due to padding\n",
    "            continue\n",
    "        #if both are equal then increment count by 1 for true positive case\n",
    "        if best_test[i][j]==best_pred[i][j]:\n",
    "            true_positive[best_test[i][j]]+=1\n",
    "        actual_count[best_test[i][j]]+=1"
   ]
  },
  {
   "cell_type": "code",
   "execution_count": 33,
   "metadata": {},
   "outputs": [
    {
     "data": {
      "text/plain": [
       "([0, 3454, 110, 75], [0, 3449, 0, 0])"
      ]
     },
     "execution_count": 33,
     "metadata": {},
     "output_type": "execute_result"
    }
   ],
   "source": [
    "actual_count,true_positive"
   ]
  },
  {
   "cell_type": "code",
   "execution_count": 34,
   "metadata": {},
   "outputs": [
    {
     "name": "stdout",
     "output_type": "stream",
     "text": [
      "****************************************************************************************************\n",
      "             Class-Wise Accuracies for different classes are \n",
      "****************************************************************************************************\n",
      "Accuracy of Tag - Class o is : 99.85524030110018 %\n",
      "Accuracy of Tag - Class b is : 0.0 %\n",
      "Accuracy of Tag - Class i is : 0.0 %\n"
     ]
    }
   ],
   "source": [
    "print(\"*\"*100)\n",
    "print(\"             Class-Wise Accuracies for different classes are \")\n",
    "print(\"*\"*100)\n",
    "class_accuracies=[]\n",
    "for i in range(1,NUM_TAGS):\n",
    "    if actual_count[i]!=0:\n",
    "        class_accuracies.append((true_positive[i]/actual_count[i])*100)\n",
    "        print(\"Accuracy of Tag - Class {} is : {} %\".format(reverse_word_map.get(i),(class_accuracies[i-1])))\n",
    "    else:\n",
    "        class_accuracies.append(0)\n",
    "        print(\"Accuracy of Tag - Class {} is : 0.0 % \".format(reverse_word_map.get(i)))"
   ]
  },
  {
   "cell_type": "code",
   "execution_count": 35,
   "metadata": {},
   "outputs": [
    {
     "data": {
      "image/png": "[encoded data removed]",
      "text/plain": [
       "<Figure size 1008x360 with 1 Axes>"
      ]
     },
     "metadata": {},
     "output_type": "display_data"
    }
   ],
   "source": [
    "fig = plt.figure(figsize = (14, 5)) \n",
    "# creating the bar plot \n",
    "category_list=[str(reverse_word_map.get(i)) for i in range(1,NUM_TAGS)]\n",
    "plt.bar(category_list, class_accuracies, color ='blue',  \n",
    "        width = 0.4) \n",
    "  \n",
    "plt.xlabel(\"Tag - Classes\") \n",
    "plt.ylabel(\"Percentage Accuracy\") \n",
    "plt.title(\"Different Tag - Classes Accuracy\") \n",
    "plt.show() "
   ]
  },
  {
   "cell_type": "markdown",
   "metadata": {},
   "source": [
    "### Importing Test Data"
   ]
  },
  {
   "cell_type": "code",
   "execution_count": 36,
   "metadata": {},
   "outputs": [],
   "source": [
    "test_sentences_words=[]\n",
    "file = open('NER-Dataset--TestSet.txt', 'r')\n",
    "lines = file.readlines()\n",
    "temp_sentence_words=[]\n",
    "for line in lines:\n",
    "    if line==\"\\n\":#Blank line represents end of sentence\n",
    "        test_sentences_words.append(temp_sentence_words)\n",
    "        temp_sentence_words=[]\n",
    "        continue\n",
    "    temp=line.split(\"\\n\")[0]\n",
    "    temp_sentence_words.append(temp)\n",
    "file.close()"
   ]
  },
  {
   "cell_type": "code",
   "execution_count": 37,
   "metadata": {},
   "outputs": [
    {
     "data": {
      "text/plain": [
       "['@SammieLynnsMom',\n",
       " '@tg1.781',\n",
       " 'they',\n",
       " 'will',\n",
       " 'be',\n",
       " 'all',\n",
       " 'done',\n",
       " 'by',\n",
       " 'Sunday',\n",
       " 'trust',\n",
       " 'me',\n",
       " '*wink*']"
      ]
     },
     "execution_count": 37,
     "metadata": {},
     "output_type": "execute_result"
    }
   ],
   "source": [
    "test_sentences_words[0]"
   ]
  },
  {
   "cell_type": "markdown",
   "metadata": {},
   "source": [
    "### Tokenizing words"
   ]
  },
  {
   "cell_type": "code",
   "execution_count": 38,
   "metadata": {},
   "outputs": [],
   "source": [
    "X_Test=word_tokenizer.texts_to_sequences(test_sentences_words)"
   ]
  },
  {
   "cell_type": "code",
   "execution_count": 39,
   "metadata": {},
   "outputs": [],
   "source": [
    "X_Test_padded=pad_sequences(X_Test, maxlen=MAX_SEQ_LENGTH, padding=\"post\")"
   ]
  },
  {
   "cell_type": "code",
   "execution_count": 40,
   "metadata": {},
   "outputs": [],
   "source": [
    "Y_Predicted_Set=best_model.predict(X_Test_padded)"
   ]
  },
  {
   "cell_type": "code",
   "execution_count": 41,
   "metadata": {},
   "outputs": [
    {
     "data": {
      "text/plain": [
       "array([1, 1, 1, 1, 1, 1, 1, 1, 1, 1, 0, 0, 0, 0, 0, 0, 0, 0, 0, 0, 0, 0,\n",
       "       0, 0, 0, 0, 0, 0, 0, 0, 0, 0, 0, 0, 0, 0, 0], dtype=int64)"
      ]
     },
     "execution_count": 41,
     "metadata": {},
     "output_type": "execute_result"
    }
   ],
   "source": [
    "Y_Predicted=decode_pred(Y_Predicted_Set)\n",
    "Y_Predicted[0]"
   ]
  },
  {
   "cell_type": "code",
   "execution_count": 42,
   "metadata": {},
   "outputs": [],
   "source": [
    "# Function takes a tokenized sentence and returns the words\n",
    "def sequence_to_text(list_of_indices):\n",
    "    # Looking up words in dictionary\n",
    "    words = [reverse_word_map.get(letter) for letter in list_of_indices]\n",
    "    return(words)\n",
    "\n",
    "# Creating texts \n",
    "Y_Pred_Labels = list(map(sequence_to_text, Y_Predicted))"
   ]
  },
  {
   "cell_type": "code",
   "execution_count": 43,
   "metadata": {},
   "outputs": [
    {
     "data": {
      "text/plain": [
       "['o',\n",
       " 'o',\n",
       " 'o',\n",
       " 'o',\n",
       " 'o',\n",
       " 'o',\n",
       " 'o',\n",
       " 'o',\n",
       " 'o',\n",
       " 'o',\n",
       " None,\n",
       " None,\n",
       " None,\n",
       " None,\n",
       " None,\n",
       " None,\n",
       " None,\n",
       " None,\n",
       " None,\n",
       " None,\n",
       " None,\n",
       " None,\n",
       " None,\n",
       " None,\n",
       " None,\n",
       " None,\n",
       " None,\n",
       " None,\n",
       " None,\n",
       " None,\n",
       " None,\n",
       " None,\n",
       " None,\n",
       " None,\n",
       " None,\n",
       " None,\n",
       " None]"
      ]
     },
     "execution_count": 43,
     "metadata": {},
     "output_type": "execute_result"
    }
   ],
   "source": [
    "Y_Pred_Labels[0]"
   ]
  },
  {
   "cell_type": "code",
   "execution_count": null,
   "metadata": {},
   "outputs": [],
   "source": []
  },
  {
   "cell_type": "code",
   "execution_count": null,
   "metadata": {},
   "outputs": [],
   "source": []
  }
 ],
 "metadata": {
  "kernelspec": {
   "display_name": "Python 3",
   "language": "python",
   "name": "python3"
  },
  "language_info": {
   "codemirror_mode": {
    "name": "ipython",
    "version": 3
   },
   "file_extension": ".py",
   "mimetype": "text/x-python",
   "name": "python",
   "nbconvert_exporter": "python",
   "pygments_lexer": "ipython3",
   "version": "3.6.10"
  }
 },
 "nbformat": 4,
 "nbformat_minor": 4
}
