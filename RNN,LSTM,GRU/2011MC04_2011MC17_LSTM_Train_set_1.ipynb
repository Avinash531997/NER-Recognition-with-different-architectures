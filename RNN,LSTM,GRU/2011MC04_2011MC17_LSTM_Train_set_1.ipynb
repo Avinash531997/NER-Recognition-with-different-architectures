{
 "cells": [
  {
   "cell_type": "markdown",
   "metadata": {},
   "source": [
    "### Importing libraries"
   ]
  },
  {
   "cell_type": "code",
   "execution_count": 1,
   "metadata": {},
   "outputs": [
    {
     "name": "stderr",
     "output_type": "stream",
     "text": [
      "\n",
      "Bad key \"text.kerning_factor\" on line 4 in\n",
      "C:\\Users\\VISHAL SINGH\\Anaconda3\\lib\\site-packages\\matplotlib\\mpl-data\\stylelib\\_classic_test_patch.mplstyle.\n",
      "You probably need to get an updated matplotlibrc file from\n",
      "https://github.com/matplotlib/matplotlib/blob/v3.1.3/matplotlibrc.template\n",
      "or from the matplotlib source distribution\n"
     ]
    }
   ],
   "source": [
    "import numpy as np\n",
    "import pandas as pd\n",
    "import matplotlib.pyplot as plt\n",
    "import random\n",
    "\n",
    "from sklearn.metrics import confusion_matrix,classification_report\n",
    "from sklearn.model_selection import train_test_split\n",
    "\n",
    "from tensorflow.keras.preprocessing.text import Tokenizer\n",
    "\n",
    "plt.style.use(\"ggplot\")\n",
    "\n",
    "np.random.seed(0)"
   ]
  },
  {
   "cell_type": "markdown",
   "metadata": {},
   "source": [
    "### Loading and Exploring the NER Dataset"
   ]
  },
  {
   "cell_type": "code",
   "execution_count": 2,
   "metadata": {},
   "outputs": [],
   "source": [
    "sentences_words=[]\n",
    "sentences_tags=[]\n",
    "file = open('NER-Dataset-Train.txt', 'r')\n",
    "lines = file.readlines()\n",
    "temp_sentence_words=[]\n",
    "temp_sentence_tags=[]\n",
    "for line in lines:\n",
    "    if line==\"\\n\":#Sentences ends at every blank line\n",
    "        if len(temp_sentence_words)==0:#If zero length sentence is formed, then ignore\n",
    "            continue\n",
    "        sentences_words.append(temp_sentence_words)\n",
    "        temp_sentence_words=[]\n",
    "        sentences_tags.append(temp_sentence_tags)\n",
    "        temp_sentence_tags=[]\n",
    "        continue\n",
    "    temp=line.split(\"\\t\")#splitting to get the tag and the word\n",
    "    temp[1]=temp[1].split(\"\\n\")[0]\n",
    "\n",
    "    temp_sentence_words.append(temp[0])\n",
    "    temp_sentence_tags.append(temp[1])\n",
    "file.close()"
   ]
  },
  {
   "cell_type": "code",
   "execution_count": 3,
   "metadata": {},
   "outputs": [
    {
     "data": {
      "text/plain": [
       "['The',\n",
       " 'Basic',\n",
       " 'Step',\n",
       " 'Before',\n",
       " 'You',\n",
       " 'Even',\n",
       " 'Start',\n",
       " 'Thinking',\n",
       " 'Of',\n",
       " 'Making',\n",
       " 'Your',\n",
       " '...:',\n",
       " 'Keyword',\n",
       " 'research',\n",
       " 'is',\n",
       " 'a',\n",
       " 'well',\n",
       " 'known',\n",
       " 'subject',\n",
       " ',',\n",
       " 'yet',\n",
       " 'so',\n",
       " '...',\n",
       " 'http://bit.ly/9XQgSr']"
      ]
     },
     "execution_count": 3,
     "metadata": {},
     "output_type": "execute_result"
    }
   ],
   "source": [
    "sentences_words[4]"
   ]
  },
  {
   "cell_type": "code",
   "execution_count": 4,
   "metadata": {},
   "outputs": [
    {
     "data": {
      "text/plain": [
       "['O',\n",
       " 'O',\n",
       " 'O',\n",
       " 'O',\n",
       " 'O',\n",
       " 'O',\n",
       " 'O',\n",
       " 'O',\n",
       " 'O',\n",
       " 'O',\n",
       " 'O',\n",
       " 'O',\n",
       " 'O',\n",
       " 'O',\n",
       " 'O',\n",
       " 'O',\n",
       " 'O',\n",
       " 'O',\n",
       " 'O',\n",
       " 'O',\n",
       " 'O',\n",
       " 'O',\n",
       " 'O',\n",
       " 'O']"
      ]
     },
     "execution_count": 4,
     "metadata": {},
     "output_type": "execute_result"
    }
   ],
   "source": [
    "sentences_tags[4]"
   ]
  },
  {
   "cell_type": "code",
   "execution_count": 5,
   "metadata": {},
   "outputs": [],
   "source": [
    "X=sentences_words\n",
    "Y=sentences_tags"
   ]
  },
  {
   "cell_type": "code",
   "execution_count": 6,
   "metadata": {},
   "outputs": [
    {
     "data": {
      "text/plain": [
       "(900, 900)"
      ]
     },
     "execution_count": 6,
     "metadata": {},
     "output_type": "execute_result"
    }
   ],
   "source": [
    "len(X),len(Y)"
   ]
  },
  {
   "cell_type": "markdown",
   "metadata": {},
   "source": [
    "### Tokenizing"
   ]
  },
  {
   "cell_type": "code",
   "execution_count": 7,
   "metadata": {},
   "outputs": [
    {
     "data": {
      "text/plain": [
       "[1346, 231, 8, 16, 18, 808, 66, 22, 1347, 809]"
      ]
     },
     "execution_count": 7,
     "metadata": {},
     "output_type": "execute_result"
    }
   ],
   "source": [
    "word_tokenizer = Tokenizer()   #initializing tokenizer\n",
    "word_tokenizer.fit_on_texts(X) \n",
    "X_encoded = word_tokenizer.texts_to_sequences(X) #tokenizing input based on index of every word in vocab set\n",
    "X_encoded[3]"
   ]
  },
  {
   "cell_type": "code",
   "execution_count": 8,
   "metadata": {},
   "outputs": [
    {
     "data": {
      "text/plain": [
       "[1, 1, 1, 1, 1, 1, 1, 1, 1, 1]"
      ]
     },
     "execution_count": 8,
     "metadata": {},
     "output_type": "execute_result"
    }
   ],
   "source": [
    "tags_tokenizer = Tokenizer()\n",
    "tags_tokenizer.fit_on_texts(Y)\n",
    "Y_encoded = tags_tokenizer.texts_to_sequences(Y) # tokenizing each tag based on index in tag vocab.\n",
    "Y_encoded[3]"
   ]
  },
  {
   "cell_type": "code",
   "execution_count": 9,
   "metadata": {},
   "outputs": [
    {
     "data": {
      "text/plain": [
       "3"
      ]
     },
     "execution_count": 9,
     "metadata": {},
     "output_type": "execute_result"
    }
   ],
   "source": [
    "NUM_TAGS=len(tags_tokenizer.word_counts)\n",
    "NUM_TAGS"
   ]
  },
  {
   "cell_type": "code",
   "execution_count": 10,
   "metadata": {},
   "outputs": [
    {
     "data": {
      "text/plain": [
       "4542"
      ]
     },
     "execution_count": 10,
     "metadata": {},
     "output_type": "execute_result"
    }
   ],
   "source": [
    "VOCAB_SIZE=len(word_tokenizer.word_counts)\n",
    "VOCAB_SIZE"
   ]
  },
  {
   "cell_type": "code",
   "execution_count": 11,
   "metadata": {},
   "outputs": [
    {
     "data": {
      "text/plain": [
       "900"
      ]
     },
     "execution_count": 11,
     "metadata": {},
     "output_type": "execute_result"
    }
   ],
   "source": [
    "#Number of Sentences\n",
    "len(X)"
   ]
  },
  {
   "cell_type": "markdown",
   "metadata": {},
   "source": [
    "#### Length of the sentences"
   ]
  },
  {
   "cell_type": "code",
   "execution_count": 12,
   "metadata": {},
   "outputs": [
    {
     "data": {
      "image/png": "[encoded data removed]",
      "text/plain": [
       "<Figure size 432x288 with 1 Axes>"
      ]
     },
     "metadata": {},
     "output_type": "display_data"
    }
   ],
   "source": [
    "plt.hist([len(s) for s in X], bins=100, color=\"blue\")\n",
    "plt.show()\n",
    "MAX_SEQ_LENGTH=max([len(s) for s in X])"
   ]
  },
  {
   "cell_type": "code",
   "execution_count": 13,
   "metadata": {},
   "outputs": [
    {
     "data": {
      "text/plain": [
       "37"
      ]
     },
     "execution_count": 13,
     "metadata": {},
     "output_type": "execute_result"
    }
   ],
   "source": [
    "MAX_SEQ_LENGTH"
   ]
  },
  {
   "cell_type": "markdown",
   "metadata": {},
   "source": [
    "### Padding Input Sentences and Tags"
   ]
  },
  {
   "cell_type": "code",
   "execution_count": 14,
   "metadata": {},
   "outputs": [
    {
     "name": "stderr",
     "output_type": "stream",
     "text": [
      "Using TensorFlow backend.\n"
     ]
    },
    {
     "data": {
      "text/plain": [
       "array([1333,  804,   35,    8,  108,  197,   30,  805,   45,  198,   49,\n",
       "       1334,   87,   63,    4,   30,  287, 1335,  584,  379,   95, 1336,\n",
       "        379, 1337,    8,    0,    0,    0,    0,    0,    0,    0,    0,\n",
       "          0,    0,    0,    0])"
      ]
     },
     "execution_count": 14,
     "metadata": {},
     "output_type": "execute_result"
    }
   ],
   "source": [
    "from tensorflow.keras.preprocessing.sequence import pad_sequences\n",
    "from keras.utils import to_categorical\n",
    "\n",
    "X_padded = pad_sequences(X_encoded, maxlen=MAX_SEQ_LENGTH, padding=\"post\")\n",
    "X_padded[0]"
   ]
  },
  {
   "cell_type": "code",
   "execution_count": 15,
   "metadata": {},
   "outputs": [
    {
     "data": {
      "text/plain": [
       "array([1, 1, 1, 1, 1, 1, 1, 1, 1, 1, 1, 1, 1, 1, 1, 1, 1, 1, 1, 1, 1, 1,\n",
       "       1, 1, 1, 0, 0, 0, 0, 0, 0, 0, 0, 0, 0, 0, 0])"
      ]
     },
     "execution_count": 15,
     "metadata": {},
     "output_type": "execute_result"
    }
   ],
   "source": [
    "Y_padded = pad_sequences(Y_encoded, maxlen=MAX_SEQ_LENGTH, padding=\"post\")\n",
    "Y_padded[0]"
   ]
  },
  {
   "cell_type": "code",
   "execution_count": 16,
   "metadata": {},
   "outputs": [],
   "source": [
    "#Re-Assigning to X and Y for ease of use\n",
    "X, Y = X_padded, Y_padded"
   ]
  },
  {
   "cell_type": "code",
   "execution_count": 17,
   "metadata": {},
   "outputs": [
    {
     "name": "stdout",
     "output_type": "stream",
     "text": [
      "(900, 37, 4)\n"
     ]
    }
   ],
   "source": [
    "Y = to_categorical(Y)\n",
    "print(Y.shape)"
   ]
  },
  {
   "cell_type": "markdown",
   "metadata": {},
   "source": [
    "### Build and Compile a LSTM Model"
   ]
  },
  {
   "cell_type": "code",
   "execution_count": 18,
   "metadata": {},
   "outputs": [],
   "source": [
    "from tensorflow.keras.models import Sequential\n",
    "from tensorflow.keras.layers import Embedding\n",
    "from tensorflow.keras.layers import Dense, Input\n",
    "from tensorflow.keras.layers import TimeDistributed\n",
    "from tensorflow.keras.layers import LSTM,SpatialDropout1D,Dropout\n",
    "from tensorflow.keras.models import Model\n",
    "from tensorflow.keras.metrics import Precision, Recall"
   ]
  },
  {
   "cell_type": "code",
   "execution_count": 19,
   "metadata": {},
   "outputs": [],
   "source": [
    "EMBED_DIM=50\n",
    "NUM_TAGS=Y.shape[2]\n",
    "VOCAB_SIZE+=1"
   ]
  },
  {
   "cell_type": "code",
   "execution_count": 20,
   "metadata": {},
   "outputs": [],
   "source": [
    "def evaluate_model(X_train,Y_train,X_test,Y_test):\n",
    "    VALID_SIZE=0.15 #Validation Split Size\n",
    "    #Train - Validation Set Split\n",
    "    X_train, X_validation, Y_train, Y_validation = train_test_split(X_train, Y_train, test_size=VALID_SIZE, random_state=1)\n",
    "    # total number of tags\n",
    "    \n",
    "    model = Sequential()\n",
    "\n",
    "    # Embedding layer \n",
    "    model.add(Embedding(input_dim     =  VOCAB_SIZE,         \n",
    "                            output_dim    =  EMBED_DIM,          \n",
    "                            input_length  =  MAX_SEQ_LENGTH,              \n",
    "                            trainable     =  True                     # True - update the embeddings while training\n",
    "    ))\n",
    "\n",
    "    \n",
    "    #Adding LSTM Layer \n",
    "    model.add(LSTM(64, \n",
    "                  return_sequences=True  # True to return whole sequence output \n",
    "    ))\n",
    "    model.add(Dropout(0.2)) # Adding dropout to avoid overfitting\n",
    "    # Adding TimeDistributed layer - Softmax output based on number of classes or tags\n",
    "    model.add(TimeDistributed(Dense(NUM_TAGS, activation='softmax')))\n",
    "\n",
    "    #Compiling model\n",
    "    model.compile(loss      =  'categorical_crossentropy',\n",
    "                      optimizer =  'adam',\n",
    "                      metrics   =  ['acc', Precision(), Recall()])\n",
    "    \n",
    "    \n",
    "    \n",
    "    # model summary\n",
    "    model.summary()\n",
    "    #Hyper-parameters for the model\n",
    "    epochs=10\n",
    "    batch_size=128\n",
    "    \n",
    "\n",
    "    #Fitting Model\n",
    "    rnn_training = model.fit(X_train, Y_train, batch_size=batch_size, epochs=epochs, validation_data=(X_validation, Y_validation))\n",
    "    #Model Evaluation\n",
    "    loss, accuracy, precision, recall = model.evaluate(X_train, Y_train, verbose = 1)\n",
    "    print(\"Loss: {0},\\nTrain Accuracy: {1}\".format(loss, accuracy*100))\n",
    "    print(\"Precision: {0},\\nRecall: {1}\".format(precision, recall))\n",
    "    print(\" \"*50)\n",
    "    loss, accuracy, precision, recall = model.evaluate(X_test, Y_test, verbose = 1)\n",
    "    print(\"Loss: {0},\\nTest Accuracy: {1}\".format(loss, accuracy*100))\n",
    "    print(\"Precision: {0},\\nRecall: {1}\".format(precision, recall))\n",
    "    Y_pred=model.predict(X_test)\n",
    "    return model,Y_pred,Y_test,accuracy,precision,recall"
   ]
  },
  {
   "cell_type": "markdown",
   "metadata": {},
   "source": [
    "### 5 - Fold cross Validation"
   ]
  },
  {
   "cell_type": "code",
   "execution_count": 21,
   "metadata": {},
   "outputs": [
    {
     "name": "stdout",
     "output_type": "stream",
     "text": [
      "****************************************************************************************************\n",
      "                        Cross Validation - 1 iteration\n",
      "****************************************************************************************************\n",
      "Model: \"sequential\"\n",
      "_________________________________________________________________\n",
      "Layer (type)                 Output Shape              Param #   \n",
      "=================================================================\n",
      "embedding (Embedding)        (None, 37, 50)            227150    \n",
      "_________________________________________________________________\n",
      "lstm (LSTM)                  (None, 37, 64)            29440     \n",
      "_________________________________________________________________\n",
      "dropout (Dropout)            (None, 37, 64)            0         \n",
      "_________________________________________________________________\n",
      "time_distributed (TimeDistri (None, 37, 4)             260       \n",
      "=================================================================\n",
      "Total params: 256,850\n",
      "Trainable params: 256,850\n",
      "Non-trainable params: 0\n",
      "_________________________________________________________________\n",
      "Epoch 1/10\n",
      "5/5 [==============================] - 8s 712ms/step - loss: 1.3741 - acc: 0.4232 - precision: 0.0000e+00 - recall: 0.0000e+00 - val_loss: 1.3173 - val_acc: 0.8824 - val_precision: 0.0000e+00 - val_recall: 0.0000e+00\n",
      "Epoch 2/10\n",
      "5/5 [==============================] - 0s 84ms/step - loss: 1.2962 - acc: 0.8860 - precision: 0.0000e+00 - recall: 0.0000e+00 - val_loss: 1.2169 - val_acc: 0.9124 - val_precision: 0.0000e+00 - val_recall: 0.0000e+00\n",
      "Epoch 3/10\n",
      "5/5 [==============================] - 0s 93ms/step - loss: 1.1769 - acc: 0.8946 - precision: 0.5000 - recall: 0.0080 - val_loss: 1.0240 - val_acc: 0.7785 - val_precision: 1.0000 - val_recall: 0.2220\n",
      "Epoch 4/10\n",
      "5/5 [==============================] - 0s 91ms/step - loss: 0.9532 - acc: 0.7727 - precision: 0.9952 - recall: 0.2931 - val_loss: 0.7721 - val_acc: 0.6334 - val_precision: 0.8745 - val_recall: 0.4497\n",
      "Epoch 5/10\n",
      "5/5 [==============================] - 0s 89ms/step - loss: 0.7435 - acc: 0.6970 - precision: 0.8348 - recall: 0.4557 - val_loss: 0.6598 - val_acc: 0.8231 - val_precision: 0.8383 - val_recall: 0.4592\n",
      "Epoch 6/10\n",
      "5/5 [==============================] - 0s 105ms/step - loss: 0.6200 - acc: 0.8929 - precision: 0.9109 - recall: 0.5332 - val_loss: 0.5644 - val_acc: 0.9274 - val_precision: 0.9399 - val_recall: 0.6496\n",
      "Epoch 7/10\n",
      "5/5 [==============================] - 1s 110ms/step - loss: 0.5199 - acc: 0.9272 - precision: 0.9363 - recall: 0.6769 - val_loss: 0.5184 - val_acc: 0.8986 - val_precision: 0.8997 - val_recall: 0.6872\n",
      "Epoch 8/10\n",
      "5/5 [==============================] - 0s 99ms/step - loss: 0.4438 - acc: 0.9297 - precision: 0.9346 - recall: 0.7448 - val_loss: 0.4379 - val_acc: 0.9149 - val_precision: 0.9173 - val_recall: 0.7575\n",
      "Epoch 9/10\n",
      "5/5 [==============================] - 0s 97ms/step - loss: 0.3862 - acc: 0.9330 - precision: 0.9371 - recall: 0.7931 - val_loss: 0.4159 - val_acc: 0.9137 - val_precision: 0.9146 - val_recall: 0.7848\n",
      "Epoch 10/10\n",
      "5/5 [==============================] - 0s 97ms/step - loss: 0.3490 - acc: 0.9343 - precision: 0.9374 - recall: 0.8203 - val_loss: 0.4450 - val_acc: 0.9044 - val_precision: 0.9025 - val_recall: 0.7945\n",
      "20/20 [==============================] - 0s 8ms/step - loss: 0.3119 - acc: 0.9506 - precision: 0.9541 - recall: 0.8510\n",
      "Loss: 0.31194594502449036,\n",
      "Train Accuracy: 95.05829215049744\n",
      "Precision: 0.9540571570396423,\n",
      "Recall: 0.8510422110557556\n",
      "                                                  \n",
      "6/6 [==============================] - 0s 8ms/step - loss: 0.4675 - acc: 0.8979 - precision: 0.8977 - recall: 0.7892\n",
      "Loss: 0.4675407409667969,\n",
      "Test Accuracy: 89.78978991508484\n",
      "Precision: 0.8976942896842957,\n",
      "Recall: 0.7891891598701477\n",
      "****************************************************************************************************\n",
      "                        Cross Validation - 2 iteration\n",
      "****************************************************************************************************\n",
      "Model: \"sequential_1\"\n",
      "_________________________________________________________________\n",
      "Layer (type)                 Output Shape              Param #   \n",
      "=================================================================\n",
      "embedding_1 (Embedding)      (None, 37, 50)            227150    \n",
      "_________________________________________________________________\n",
      "lstm_1 (LSTM)                (None, 37, 64)            29440     \n",
      "_________________________________________________________________\n",
      "dropout_1 (Dropout)          (None, 37, 64)            0         \n",
      "_________________________________________________________________\n",
      "time_distributed_1 (TimeDist (None, 37, 4)             260       \n",
      "=================================================================\n",
      "Total params: 256,850\n",
      "Trainable params: 256,850\n",
      "Non-trainable params: 0\n",
      "_________________________________________________________________\n",
      "Epoch 1/10\n",
      "5/5 [==============================] - 9s 611ms/step - loss: 1.3664 - acc: 0.5331 - precision_1: 0.0000e+00 - recall_1: 0.0000e+00 - val_loss: 1.3074 - val_acc: 0.7820 - val_precision_1: 0.0000e+00 - val_recall_1: 0.0000e+00\n",
      "Epoch 2/10\n",
      "5/5 [==============================] - 1s 129ms/step - loss: 1.2847 - acc: 0.7398 - precision_1: 0.0000e+00 - recall_1: 0.0000e+00 - val_loss: 1.1922 - val_acc: 0.5771 - val_precision_1: 0.0000e+00 - val_recall_1: 0.0000e+00\n",
      "Epoch 3/10\n",
      "5/5 [==============================] - 1s 128ms/step - loss: 1.1495 - acc: 0.5729 - precision_1: 0.8333 - recall_1: 0.0490 - val_loss: 0.9706 - val_acc: 0.5223 - val_precision_1: 1.0000 - val_recall_1: 0.3371\n",
      "Epoch 4/10\n",
      "5/5 [==============================] - 1s 115ms/step - loss: 0.9261 - acc: 0.5176 - precision_1: 0.9659 - recall_1: 0.3793 - val_loss: 0.8613 - val_acc: 0.5268 - val_precision_1: 0.7674 - val_recall_1: 0.4565\n",
      "Epoch 5/10\n",
      "5/5 [==============================] - 0s 98ms/step - loss: 0.8267 - acc: 0.5692 - precision_1: 0.7857 - recall_1: 0.4599 - val_loss: 0.7519 - val_acc: 0.6909 - val_precision_1: 0.8808 - val_recall_1: 0.4494\n",
      "Epoch 6/10\n",
      "5/5 [==============================] - 1s 125ms/step - loss: 0.7216 - acc: 0.8026 - precision_1: 0.9635 - recall_1: 0.4450 - val_loss: 0.6999 - val_acc: 0.8969 - val_precision_1: 0.9821 - val_recall_1: 0.4267\n",
      "Epoch 7/10\n",
      "5/5 [==============================] - 1s 116ms/step - loss: 0.6703 - acc: 0.9397 - precision_1: 0.9941 - recall_1: 0.4349 - val_loss: 0.6444 - val_acc: 0.8466 - val_precision_1: 0.8576 - val_recall_1: 0.4552\n",
      "Epoch 8/10\n",
      "5/5 [==============================] - ETA: 0s - loss: 0.5865 - acc: 0.8799 - precision_1: 0.9024 - recall_1: 0.47 - 1s 117ms/step - loss: 0.5845 - acc: 0.8812 - precision_1: 0.9025 - recall_1: 0.4831 - val_loss: 0.5466 - val_acc: 0.9152 - val_precision_1: 0.9259 - val_recall_1: 0.6069\n",
      "Epoch 9/10\n",
      "5/5 [==============================] - 1s 109ms/step - loss: 0.4966 - acc: 0.9442 - precision_1: 0.9607 - recall_1: 0.6787 - val_loss: 0.4563 - val_acc: 0.9284 - val_precision_1: 0.9376 - val_recall_1: 0.7480\n",
      "Epoch 10/10\n",
      "5/5 [==============================] - 1s 108ms/step - loss: 0.4186 - acc: 0.9373 - precision_1: 0.9410 - recall_1: 0.7735 - val_loss: 0.4219 - val_acc: 0.9162 - val_precision_1: 0.9157 - val_recall_1: 0.7833\n",
      "20/20 [==============================] - 0s 9ms/step - loss: 0.3659 - acc: 0.9463 - precision_1: 0.9501 - recall_1: 0.8215\n",
      "Loss: 0.36587607860565186,\n",
      "Train Accuracy: 94.6255087852478\n",
      "Precision: 0.9501456022262573,\n",
      "Recall: 0.8214538097381592\n",
      "                                                  \n",
      "6/6 [==============================] - 0s 11ms/step - loss: 0.3881 - acc: 0.9290 - precision_1: 0.9310 - recall_1: 0.7944\n",
      "Loss: 0.3881179094314575,\n",
      "Test Accuracy: 92.8978979587555\n",
      "Precision: 0.9310223460197449,\n",
      "Recall: 0.7944444417953491\n",
      "****************************************************************************************************\n",
      "                        Cross Validation - 3 iteration\n",
      "****************************************************************************************************\n",
      "Model: \"sequential_2\"\n",
      "_________________________________________________________________\n",
      "Layer (type)                 Output Shape              Param #   \n",
      "=================================================================\n",
      "embedding_2 (Embedding)      (None, 37, 50)            227150    \n",
      "_________________________________________________________________\n",
      "lstm_2 (LSTM)                (None, 37, 64)            29440     \n",
      "_________________________________________________________________\n",
      "dropout_2 (Dropout)          (None, 37, 64)            0         \n",
      "_________________________________________________________________\n",
      "time_distributed_2 (TimeDist (None, 37, 4)             260       \n",
      "=================================================================\n",
      "Total params: 256,850\n",
      "Trainable params: 256,850\n",
      "Non-trainable params: 0\n",
      "_________________________________________________________________\n",
      "Epoch 1/10\n"
     ]
    },
    {
     "name": "stdout",
     "output_type": "stream",
     "text": [
      "5/5 [==============================] - 9s 646ms/step - loss: 1.3680 - acc: 0.4871 - precision_2: 0.0000e+00 - recall_2: 0.0000e+00 - val_loss: 1.3003 - val_acc: 0.7825 - val_precision_2: 0.0000e+00 - val_recall_2: 0.0000e+00\n",
      "Epoch 2/10\n",
      "5/5 [==============================] - 1s 158ms/step - loss: 1.2789 - acc: 0.7967 - precision_2: 0.0000e+00 - recall_2: 0.0000e+00 - val_loss: 1.1730 - val_acc: 0.7272 - val_precision_2: 0.0000e+00 - val_recall_2: 0.0000e+00\n",
      "Epoch 3/10\n",
      "5/5 [==============================] - 1s 171ms/step - loss: 1.1381 - acc: 0.7192 - precision_2: 0.8333 - recall_2: 0.0584 - val_loss: 0.9437 - val_acc: 0.6119 - val_precision_2: 1.0000 - val_recall_2: 0.3358\n",
      "Epoch 4/10\n",
      "5/5 [==============================] - 1s 193ms/step - loss: 0.9103 - acc: 0.6055 - precision_2: 0.9938 - recall_2: 0.3613 - val_loss: 0.7803 - val_acc: 0.5946 - val_precision_2: 0.8801 - val_recall_2: 0.4775\n",
      "Epoch 5/10\n",
      "5/5 [==============================] - 1s 182ms/step - loss: 0.7830 - acc: 0.6217 - precision_2: 0.8784 - recall_2: 0.4619 - val_loss: 0.6963 - val_acc: 0.7835 - val_precision_2: 0.9534 - val_recall_2: 0.4707\n",
      "Epoch 6/10\n",
      "5/5 [==============================] - 1s 184ms/step - loss: 0.7030 - acc: 0.8880 - precision_2: 0.9900 - recall_2: 0.4335 - val_loss: 0.6450 - val_acc: 0.9107 - val_precision_2: 0.9828 - val_recall_2: 0.4565\n",
      "Epoch 7/10\n",
      "5/5 [==============================] - 1s 165ms/step - loss: 0.6388 - acc: 0.9256 - precision_2: 0.9849 - recall_2: 0.4455 - val_loss: 0.6257 - val_acc: 0.8433 - val_precision_2: 0.8643 - val_recall_2: 0.4877\n",
      "Epoch 8/10\n",
      "5/5 [==============================] - 1s 113ms/step - loss: 0.5654 - acc: 0.9053 - precision_2: 0.9452 - recall_2: 0.4939 - val_loss: 0.4960 - val_acc: 0.9387 - val_precision_2: 0.9664 - val_recall_2: 0.6326\n",
      "Epoch 9/10\n",
      "5/5 [==============================] - 1s 127ms/step - loss: 0.4770 - acc: 0.9452 - precision_2: 0.9656 - recall_2: 0.6920 - val_loss: 0.4431 - val_acc: 0.9229 - val_precision_2: 0.9279 - val_recall_2: 0.7442\n",
      "Epoch 10/10\n",
      "5/5 [==============================] - 1s 206ms/step - loss: 0.4000 - acc: 0.9409 - precision_2: 0.9470 - recall_2: 0.7854 - val_loss: 0.3998 - val_acc: 0.9207 - val_precision_2: 0.9230 - val_recall_2: 0.7920\n",
      "20/20 [==============================] - 0s 10ms/step - loss: 0.3502 - acc: 0.9437 - precision_2: 0.9473 - recall_2: 0.8232\n",
      "Loss: 0.3502066433429718,\n",
      "Train Accuracy: 94.36936974525452\n",
      "Precision: 0.9473015666007996,\n",
      "Recall: 0.8232202529907227\n",
      "                                                  \n",
      "6/6 [==============================] - 0s 10ms/step - loss: 0.4751 - acc: 0.8967 - precision_2: 0.8930 - recall_2: 0.7671\n",
      "Loss: 0.4751014709472656,\n",
      "Test Accuracy: 89.669668674469\n",
      "Precision: 0.8930256962776184,\n",
      "Recall: 0.7671171426773071\n",
      "****************************************************************************************************\n",
      "                        Cross Validation - 4 iteration\n",
      "****************************************************************************************************\n",
      "Model: \"sequential_3\"\n",
      "_________________________________________________________________\n",
      "Layer (type)                 Output Shape              Param #   \n",
      "=================================================================\n",
      "embedding_3 (Embedding)      (None, 37, 50)            227150    \n",
      "_________________________________________________________________\n",
      "lstm_3 (LSTM)                (None, 37, 64)            29440     \n",
      "_________________________________________________________________\n",
      "dropout_3 (Dropout)          (None, 37, 64)            0         \n",
      "_________________________________________________________________\n",
      "time_distributed_3 (TimeDist (None, 37, 4)             260       \n",
      "=================================================================\n",
      "Total params: 256,850\n",
      "Trainable params: 256,850\n",
      "Non-trainable params: 0\n",
      "_________________________________________________________________\n",
      "Epoch 1/10\n",
      "5/5 [==============================] - 10s 788ms/step - loss: 1.3661 - acc: 0.6302 - precision_3: 0.0000e+00 - recall_3: 0.0000e+00 - val_loss: 1.3099 - val_acc: 0.8311 - val_precision_3: 0.0000e+00 - val_recall_3: 0.0000e+00\n",
      "Epoch 2/10\n",
      "5/5 [==============================] - 1s 179ms/step - loss: 1.2870 - acc: 0.8424 - precision_3: 0.0000e+00 - recall_3: 0.0000e+00 - val_loss: 1.1984 - val_acc: 0.7508 - val_precision_3: 0.0000e+00 - val_recall_3: 0.0000e+00\n",
      "Epoch 3/10\n",
      "5/5 [==============================] - 1s 193ms/step - loss: 1.1551 - acc: 0.7672 - precision_3: 0.6667 - recall_3: 0.0230 - val_loss: 0.9728 - val_acc: 0.6547 - val_precision_3: 1.0000 - val_recall_3: 0.3121\n",
      "Epoch 4/10\n",
      "5/5 [==============================] - 1s 175ms/step - loss: 0.9140 - acc: 0.6683 - precision_3: 0.9752 - recall_3: 0.3565 - val_loss: 0.7946 - val_acc: 0.6359 - val_precision_3: 0.7911 - val_recall_3: 0.4682\n",
      "Epoch 5/10\n",
      "5/5 [==============================] - 1s 184ms/step - loss: 0.7710 - acc: 0.6832 - precision_3: 0.7840 - recall_3: 0.4574 - val_loss: 0.6781 - val_acc: 0.8111 - val_precision_3: 0.8488 - val_recall_3: 0.4665\n",
      "Epoch 6/10\n",
      "5/5 [==============================] - 1s 170ms/step - loss: 0.6333 - acc: 0.8941 - precision_3: 0.9277 - recall_3: 0.4836 - val_loss: 0.5886 - val_acc: 0.9152 - val_precision_3: 0.9549 - val_recall_3: 0.6099\n",
      "Epoch 7/10\n",
      "5/5 [==============================] - 1s 172ms/step - loss: 0.5460 - acc: 0.9292 - precision_3: 0.9470 - recall_3: 0.6403 - val_loss: 0.5540 - val_acc: 0.8789 - val_precision_3: 0.8870 - val_recall_3: 0.6817\n",
      "Epoch 8/10\n",
      "5/5 [==============================] - 1s 118ms/step - loss: 0.4508 - acc: 0.9253 - precision_3: 0.9324 - recall_3: 0.7432 - val_loss: 0.4608 - val_acc: 0.8981 - val_precision_3: 0.9031 - val_recall_3: 0.7538\n",
      "Epoch 9/10\n",
      "5/5 [==============================] - 1s 137ms/step - loss: 0.3990 - acc: 0.9241 - precision_3: 0.9243 - recall_3: 0.7892 - val_loss: 0.4664 - val_acc: 0.8924 - val_precision_3: 0.8963 - val_recall_3: 0.7745\n",
      "Epoch 10/10\n",
      "5/5 [==============================] - 1s 117ms/step - loss: 0.3472 - acc: 0.9356 - precision_3: 0.9364 - recall_3: 0.8275 - val_loss: 0.4930 - val_acc: 0.8856 - val_precision_3: 0.8884 - val_recall_3: 0.7850\n",
      "20/20 [==============================] - 0s 14ms/step - loss: 0.3141 - acc: 0.9478 - precision_3: 0.9504 - recall_3: 0.8542\n",
      "Loss: 0.31406357884407043,\n",
      "Train Accuracy: 94.77565884590149\n",
      "Precision: 0.9504225850105286,\n",
      "Recall: 0.8542218804359436\n",
      "                                                  \n",
      "6/6 [==============================] - 0s 12ms/step - loss: 0.4582 - acc: 0.8992 - precision_3: 0.8952 - recall_3: 0.7965\n",
      "Loss: 0.458229660987854,\n",
      "Test Accuracy: 89.9249255657196\n",
      "Precision: 0.8952075839042664,\n",
      "Recall: 0.7965465188026428\n",
      "****************************************************************************************************\n",
      "                        Cross Validation - 5 iteration\n",
      "****************************************************************************************************\n",
      "Model: \"sequential_4\"\n",
      "_________________________________________________________________\n",
      "Layer (type)                 Output Shape              Param #   \n",
      "=================================================================\n",
      "embedding_4 (Embedding)      (None, 37, 50)            227150    \n",
      "_________________________________________________________________\n",
      "lstm_4 (LSTM)                (None, 37, 64)            29440     \n",
      "_________________________________________________________________\n",
      "dropout_4 (Dropout)          (None, 37, 64)            0         \n",
      "_________________________________________________________________\n",
      "time_distributed_4 (TimeDist (None, 37, 4)             260       \n",
      "=================================================================\n",
      "Total params: 256,850\n",
      "Trainable params: 256,850\n",
      "Non-trainable params: 0\n",
      "_________________________________________________________________\n",
      "Epoch 1/10\n",
      "5/5 [==============================] - 13s 954ms/step - loss: 1.3634 - acc: 0.4092 - precision_4: 0.0000e+00 - recall_4: 0.0000e+00 - val_loss: 1.2994 - val_acc: 0.6709 - val_precision_4: 0.0000e+00 - val_recall_4: 0.0000e+00\n",
      "Epoch 2/10\n",
      "5/5 [==============================] - 1s 197ms/step - loss: 1.2669 - acc: 0.7034 - precision_4: 0.0000e+00 - recall_4: 0.0000e+00 - val_loss: 1.1672 - val_acc: 0.5821 - val_precision_4: 0.0000e+00 - val_recall_4: 0.0000e+00\n"
     ]
    },
    {
     "name": "stdout",
     "output_type": "stream",
     "text": [
      "Epoch 3/10\n",
      "5/5 [==============================] - 1s 216ms/step - loss: 1.0974 - acc: 0.6406 - precision_4: 0.8333 - recall_4: 0.0553 - val_loss: 0.9084 - val_acc: 0.5158 - val_precision_4: 0.9941 - val_recall_4: 0.3794\n",
      "Epoch 4/10\n",
      "5/5 [==============================] - 1s 242ms/step - loss: 0.8295 - acc: 0.5709 - precision_4: 0.8781 - recall_4: 0.4300 - val_loss: 0.8133 - val_acc: 0.5180 - val_precision_4: 0.6583 - val_recall_4: 0.4422\n",
      "Epoch 5/10\n",
      "5/5 [==============================] - 1s 186ms/step - loss: 0.7645 - acc: 0.6042 - precision_4: 0.6901 - recall_4: 0.4674 - val_loss: 0.7298 - val_acc: 0.7277 - val_precision_4: 0.7153 - val_recall_4: 0.4419\n",
      "Epoch 6/10\n",
      "5/5 [==============================] - 1s 190ms/step - loss: 0.6666 - acc: 0.8262 - precision_4: 0.8211 - recall_4: 0.5357 - val_loss: 0.6389 - val_acc: 0.9209 - val_precision_4: 0.9320 - val_recall_4: 0.6722\n",
      "Epoch 7/10\n",
      "5/5 [==============================] - 1s 168ms/step - loss: 0.5827 - acc: 0.9204 - precision_4: 0.9237 - recall_4: 0.6846 - val_loss: 0.5513 - val_acc: 0.9087 - val_precision_4: 0.9118 - val_recall_4: 0.7170\n",
      "Epoch 8/10\n",
      "5/5 [==============================] - 1s 294ms/step - loss: 0.4775 - acc: 0.9264 - precision_4: 0.9322 - recall_4: 0.7540 - val_loss: 0.4832 - val_acc: 0.9117 - val_precision_4: 0.9165 - val_recall_4: 0.7660\n",
      "Epoch 9/10\n",
      "5/5 [==============================] - 1s 188ms/step - loss: 0.4065 - acc: 0.9291 - precision_4: 0.9314 - recall_4: 0.7989 - val_loss: 0.4641 - val_acc: 0.9052 - val_precision_4: 0.9075 - val_recall_4: 0.7885\n",
      "Epoch 10/10\n",
      "5/5 [==============================] - 1s 153ms/step - loss: 0.3528 - acc: 0.9390 - precision_4: 0.9428 - recall_4: 0.8383 - val_loss: 0.4817 - val_acc: 0.8924 - val_precision_4: 0.8927 - val_recall_4: 0.7975\n",
      "20/20 [==============================] - 0s 10ms/step - loss: 0.3200 - acc: 0.9459 - precision_4: 0.9490 - recall_4: 0.8613\n",
      "Loss: 0.3199578523635864,\n",
      "Train Accuracy: 94.59459185600281\n",
      "Precision: 0.9489611983299255,\n",
      "Recall: 0.8613319396972656\n",
      "                                                  \n",
      "6/6 [==============================] - 0s 10ms/step - loss: 0.4195 - acc: 0.9056 - precision_4: 0.9027 - recall_4: 0.8083\n",
      "Loss: 0.4195003807544708,\n",
      "Test Accuracy: 90.55555462837219\n",
      "Precision: 0.9027335047721863,\n",
      "Recall: 0.8082582354545593\n"
     ]
    }
   ],
   "source": [
    "from sklearn.model_selection import ShuffleSplit\n",
    "#Shuffling and splitting into 5 different sets for cross validation\n",
    "cv = ShuffleSplit(n_splits=5, test_size=.20, random_state=1)\n",
    "cv_scores=[0]*5\n",
    "itr=0\n",
    "prec=[0]*5\n",
    "rec=[0]*5\n",
    "#Initializing\n",
    "best_pred_set=None\n",
    "best_test_set=None\n",
    "best_accuracy=0 \n",
    "best_precision=0\n",
    "best_recall=0\n",
    "#For each split creating and evaluating model\n",
    "for train_idx,test_idx in cv.split(X):\n",
    "    itr+=1\n",
    "    print(\"*\"*100)\n",
    "    print(\"                        Cross Validation - {} iteration\".format(itr))\n",
    "    print(\"*\"*100)\n",
    "    model,Pred_Set,Test_Set,cv_scores[itr-1],prec[itr-1],rec[itr-1]=evaluate_model(X[train_idx],Y[train_idx]\n",
    "                                                            ,X[test_idx],Y[test_idx])\n",
    "    if cv_scores[itr-1]>best_accuracy:\n",
    "        best_accuracy=cv_scores[itr-1]\n",
    "        best_precision=prec[itr-1]\n",
    "        best_recall=rec[itr-1]\n",
    "        best_test_set=Test_Set\n",
    "        best_pred_set=Pred_Set\n",
    "        best_model=model"
   ]
  },
  {
   "cell_type": "markdown",
   "metadata": {},
   "source": [
    "### Analysis of the best model among the 5 folds"
   ]
  },
  {
   "cell_type": "code",
   "execution_count": 22,
   "metadata": {},
   "outputs": [
    {
     "name": "stdout",
     "output_type": "stream",
     "text": [
      "Average Test Accuracy is given as 0.9056756734848023\n"
     ]
    }
   ],
   "source": [
    "print(\"Average Test Accuracy is given as {}\".format(sum(cv_scores)/len(cv_scores)))"
   ]
  },
  {
   "cell_type": "code",
   "execution_count": 23,
   "metadata": {},
   "outputs": [
    {
     "name": "stdout",
     "output_type": "stream",
     "text": [
      "Best Test Accuracy among all the folds is given as 0.9289789795875549\n"
     ]
    }
   ],
   "source": [
    "print(\"Best Test Accuracy among all the folds is given as {}\".format(best_accuracy))"
   ]
  },
  {
   "cell_type": "code",
   "execution_count": 24,
   "metadata": {},
   "outputs": [
    {
     "name": "stdout",
     "output_type": "stream",
     "text": [
      "The Accuracies for the 5 folds are given as :\n",
      "0.8978978991508484 0.9289789795875549 0.8966966867446899 0.899249255657196 0.9055555462837219\n"
     ]
    }
   ],
   "source": [
    "print(\"The Accuracies for the 5 folds are given as :\")\n",
    "print(*cv_scores)"
   ]
  },
  {
   "cell_type": "code",
   "execution_count": 25,
   "metadata": {},
   "outputs": [
    {
     "name": "stdout",
     "output_type": "stream",
     "text": [
      "Average precision : 0.9039366841316223, Average Recall : 0.7911110997200013\n"
     ]
    }
   ],
   "source": [
    "print(\"Average precision : {}, Average Recall : {}\".format(sum(prec)/5,sum(rec)/5))"
   ]
  },
  {
   "cell_type": "code",
   "execution_count": 26,
   "metadata": {},
   "outputs": [],
   "source": [
    "def f_score(p,r):\n",
    "    return 2*(p*r)/(p+r)\n",
    "\n",
    "best_fscore=f_score(best_precision,best_recall)"
   ]
  },
  {
   "cell_type": "code",
   "execution_count": 27,
   "metadata": {},
   "outputs": [
    {
     "name": "stdout",
     "output_type": "stream",
     "text": [
      "Best Model Precision : 0.9310223460197449, Recall : 0.7944444417953491 and F-Score : 0.8573280380774447\n"
     ]
    }
   ],
   "source": [
    "print(\"Best Model Precision : {}, Recall : {} and F-Score : {}\".format(best_precision,\n",
    "                                                                       best_recall,best_fscore))"
   ]
  },
  {
   "cell_type": "code",
   "execution_count": 28,
   "metadata": {},
   "outputs": [],
   "source": [
    "reverse_word_map = dict(map(reversed, tags_tokenizer.word_index.items()))"
   ]
  },
  {
   "cell_type": "markdown",
   "metadata": {},
   "source": [
    "### Decoding the predicted tags in the best_pred_set"
   ]
  },
  {
   "cell_type": "code",
   "execution_count": 29,
   "metadata": {},
   "outputs": [],
   "source": [
    "def decode_pred(Y):\n",
    "    #Defining an empty matrix of zeros of shape of best_pred_set\n",
    "    out = np.zeros(Y.shape)\n",
    "    #Finding the tag index for each sequence which has the highest probablity value \n",
    "    idx = Y.argmax(axis=-1)\n",
    "    #Setting that value to 1 and rest to 0\n",
    "    out[np.arange(Y.shape[0])[:,None],np.arange(Y.shape[1]),idx] = 1\n",
    "    pred=np.argmax(out, axis=-1)\n",
    "    return pred\n",
    "    "
   ]
  },
  {
   "cell_type": "code",
   "execution_count": 30,
   "metadata": {},
   "outputs": [
    {
     "data": {
      "text/plain": [
       "array([1, 1, 1, 2, 3, 1, 1, 1, 1, 1, 1, 1, 1, 1, 1, 1, 1, 1, 1, 1, 1, 1,\n",
       "       0, 0, 0, 0, 0, 0, 0, 0, 0, 0, 0, 0, 0, 0, 0], dtype=int64)"
      ]
     },
     "execution_count": 30,
     "metadata": {},
     "output_type": "execute_result"
    }
   ],
   "source": [
    "#Finding the index having the max value among the 21 tag values for a certain sequence\n",
    "best_pred=decode_pred(best_pred_set)\n",
    "best_test=np.argmax(best_test_set,axis=2)\n",
    "#Actual Tags(Encoded) for the 2nd sequence in Test Set\n",
    "best_test[3]"
   ]
  },
  {
   "cell_type": "code",
   "execution_count": 31,
   "metadata": {},
   "outputs": [
    {
     "data": {
      "text/plain": [
       "array([1, 1, 1, 1, 1, 1, 1, 1, 1, 1, 1, 1, 1, 1, 1, 1, 1, 1, 1, 1, 1, 1,\n",
       "       1, 0, 0, 0, 0, 0, 0, 0, 0, 0, 0, 0, 0, 0, 0], dtype=int64)"
      ]
     },
     "execution_count": 31,
     "metadata": {},
     "output_type": "execute_result"
    }
   ],
   "source": [
    "#Predicted Tags(Encoded) for the 2nd sequence in Test Set\n",
    "best_pred[3]"
   ]
  },
  {
   "cell_type": "markdown",
   "metadata": {},
   "source": [
    "### Class-wise accuracy for the different tags"
   ]
  },
  {
   "cell_type": "code",
   "execution_count": 32,
   "metadata": {},
   "outputs": [],
   "source": [
    "true_positive=[0]*(NUM_TAGS)\n",
    "actual_count=[0]*(NUM_TAGS)\n",
    "for i in range(best_test.shape[0]):\n",
    "    for j in range(best_test.shape[1]):\n",
    "        if best_test[i][j]==0: #Ignore if its 0 as it is present due to padding\n",
    "            continue\n",
    "        #if both are equal then increment count by 1 for true positive case\n",
    "        if best_test[i][j]==best_pred[i][j]:\n",
    "            true_positive[best_test[i][j]]+=1\n",
    "        actual_count[best_test[i][j]]+=1"
   ]
  },
  {
   "cell_type": "code",
   "execution_count": 33,
   "metadata": {},
   "outputs": [
    {
     "data": {
      "text/plain": [
       "([0, 3210, 100, 57], [0, 3096, 0, 0])"
      ]
     },
     "execution_count": 33,
     "metadata": {},
     "output_type": "execute_result"
    }
   ],
   "source": [
    "actual_count,true_positive"
   ]
  },
  {
   "cell_type": "code",
   "execution_count": 34,
   "metadata": {},
   "outputs": [
    {
     "name": "stdout",
     "output_type": "stream",
     "text": [
      "****************************************************************************************************\n",
      "             Class-Wise Accuracies for different classes are \n",
      "****************************************************************************************************\n",
      "Accuracy of Tag - Class o is : 96.44859813084112 %\n",
      "Accuracy of Tag - Class b is : 0.0 %\n",
      "Accuracy of Tag - Class i is : 0.0 %\n"
     ]
    }
   ],
   "source": [
    "print(\"*\"*100)\n",
    "print(\"             Class-Wise Accuracies for different classes are \")\n",
    "print(\"*\"*100)\n",
    "class_accuracies=[]\n",
    "for i in range(1,NUM_TAGS):\n",
    "    if actual_count[i]!=0:\n",
    "        class_accuracies.append((true_positive[i]/actual_count[i])*100)\n",
    "        print(\"Accuracy of Tag - Class {} is : {} %\".format(reverse_word_map.get(i),(class_accuracies[i-1])))\n",
    "    else:\n",
    "        class_accuracies.append(0)\n",
    "        print(\"Accuracy of Tag - Class {} is : 0.0 % \".format(reverse_word_map.get(i)))"
   ]
  },
  {
   "cell_type": "code",
   "execution_count": 35,
   "metadata": {},
   "outputs": [
    {
     "data": {
      "image/png": "[encoded data removed]",
      "text/plain": [
       "<Figure size 1008x360 with 1 Axes>"
      ]
     },
     "metadata": {},
     "output_type": "display_data"
    }
   ],
   "source": [
    "fig = plt.figure(figsize = (14, 5)) \n",
    "# creating the bar plot \n",
    "category_list=[str(reverse_word_map.get(i)) for i in range(1,NUM_TAGS)]\n",
    "plt.bar(category_list, class_accuracies, color ='blue',  \n",
    "        width = 0.4) \n",
    "  \n",
    "plt.xlabel(\"Tag - Classes\") \n",
    "plt.ylabel(\"Percentage Accuracy\") \n",
    "plt.title(\"Different Tag - Classes Accuracy\") \n",
    "plt.show() "
   ]
  },
  {
   "cell_type": "markdown",
   "metadata": {},
   "source": [
    "### Importing Test Data"
   ]
  },
  {
   "cell_type": "code",
   "execution_count": 36,
   "metadata": {},
   "outputs": [],
   "source": [
    "test_sentences_words=[]\n",
    "file = open('NER-Dataset--TestSet.txt', 'r')\n",
    "lines = file.readlines()\n",
    "temp_sentence_words=[]\n",
    "for line in lines:\n",
    "    if line==\"\\n\":#Blank line represents end of sentence\n",
    "        test_sentences_words.append(temp_sentence_words)\n",
    "        temp_sentence_words=[]\n",
    "        continue\n",
    "    temp=line.split(\"\\n\")[0]\n",
    "    temp_sentence_words.append(temp)\n",
    "file.close()"
   ]
  },
  {
   "cell_type": "code",
   "execution_count": 37,
   "metadata": {},
   "outputs": [
    {
     "data": {
      "text/plain": [
       "['@SammieLynnsMom',\n",
       " '@tg1.781',\n",
       " 'they',\n",
       " 'will',\n",
       " 'be',\n",
       " 'all',\n",
       " 'done',\n",
       " 'by',\n",
       " 'Sunday',\n",
       " 'trust',\n",
       " 'me',\n",
       " '*wink*']"
      ]
     },
     "execution_count": 37,
     "metadata": {},
     "output_type": "execute_result"
    }
   ],
   "source": [
    "test_sentences_words[0]"
   ]
  },
  {
   "cell_type": "markdown",
   "metadata": {},
   "source": [
    "### Tokenizing words"
   ]
  },
  {
   "cell_type": "code",
   "execution_count": 38,
   "metadata": {},
   "outputs": [],
   "source": [
    "X_Test=word_tokenizer.texts_to_sequences(test_sentences_words)"
   ]
  },
  {
   "cell_type": "code",
   "execution_count": 39,
   "metadata": {},
   "outputs": [],
   "source": [
    "X_Test_padded=pad_sequences(X_Test, maxlen=MAX_SEQ_LENGTH, padding=\"post\")"
   ]
  },
  {
   "cell_type": "code",
   "execution_count": 40,
   "metadata": {},
   "outputs": [],
   "source": [
    "Y_Predicted_Set=best_model.predict(X_Test_padded)"
   ]
  },
  {
   "cell_type": "code",
   "execution_count": 41,
   "metadata": {},
   "outputs": [
    {
     "data": {
      "text/plain": [
       "array([1, 1, 1, 1, 1, 1, 1, 1, 1, 1, 1, 1, 0, 0, 0, 0, 0, 0, 0, 0, 0, 0,\n",
       "       0, 0, 0, 0, 0, 0, 0, 0, 0, 0, 0, 0, 0, 0, 0], dtype=int64)"
      ]
     },
     "execution_count": 41,
     "metadata": {},
     "output_type": "execute_result"
    }
   ],
   "source": [
    "Y_Predicted=decode_pred(Y_Predicted_Set)\n",
    "Y_Predicted[0]"
   ]
  },
  {
   "cell_type": "code",
   "execution_count": 42,
   "metadata": {},
   "outputs": [],
   "source": [
    "# Function takes a tokenized sentence and returns the words\n",
    "def sequence_to_text(list_of_indices):\n",
    "    # Looking up words in dictionary\n",
    "    words = [reverse_word_map.get(letter) for letter in list_of_indices]\n",
    "    return(words)\n",
    "\n",
    "# Creating texts \n",
    "Y_Pred_Labels = list(map(sequence_to_text, Y_Predicted))"
   ]
  },
  {
   "cell_type": "code",
   "execution_count": 43,
   "metadata": {},
   "outputs": [
    {
     "data": {
      "text/plain": [
       "['o',\n",
       " 'o',\n",
       " 'o',\n",
       " 'o',\n",
       " 'o',\n",
       " 'o',\n",
       " 'o',\n",
       " 'o',\n",
       " 'o',\n",
       " 'o',\n",
       " 'o',\n",
       " 'o',\n",
       " None,\n",
       " None,\n",
       " None,\n",
       " None,\n",
       " None,\n",
       " None,\n",
       " None,\n",
       " None,\n",
       " None,\n",
       " None,\n",
       " None,\n",
       " None,\n",
       " None,\n",
       " None,\n",
       " None,\n",
       " None,\n",
       " None,\n",
       " None,\n",
       " None,\n",
       " None,\n",
       " None,\n",
       " None,\n",
       " None,\n",
       " None,\n",
       " None]"
      ]
     },
     "execution_count": 43,
     "metadata": {},
     "output_type": "execute_result"
    }
   ],
   "source": [
    "Y_Pred_Labels[0]"
   ]
  },
  {
   "cell_type": "code",
   "execution_count": null,
   "metadata": {},
   "outputs": [],
   "source": []
  },
  {
   "cell_type": "code",
   "execution_count": null,
   "metadata": {},
   "outputs": [],
   "source": []
  }
 ],
 "metadata": {
  "kernelspec": {
   "display_name": "Python 3",
   "language": "python",
   "name": "python3"
  },
  "language_info": {
   "codemirror_mode": {
    "name": "ipython",
    "version": 3
   },
   "file_extension": ".py",
   "mimetype": "text/x-python",
   "name": "python",
   "nbconvert_exporter": "python",
   "pygments_lexer": "ipython3",
   "version": "3.6.10"
  }
 },
 "nbformat": 4,
 "nbformat_minor": 4
}
